{
  "nbformat": 4,
  "nbformat_minor": 0,
  "metadata": {
    "colab": {
      "name": "DataPreparation.ipynb",
      "provenance": [],
      "mount_file_id": "1Y3C-dz6r9ESJcfbBaw6hCMBSl9B6bvmE",
      "authorship_tag": "ABX9TyO5aGN+3ER2xSDV4Rx7MnFW",
      "include_colab_link": true
    },
    "kernelspec": {
      "name": "python3",
      "display_name": "Python 3"
    },
    "language_info": {
      "name": "python"
    }
  },
  "cells": [
    {
      "cell_type": "markdown",
      "metadata": {
        "id": "view-in-github",
        "colab_type": "text"
      },
      "source": [
        "<a href=\"https://colab.research.google.com/github/nathan-yhx/Rythmnet/blob/main/DataPreparation.ipynb\" target=\"_parent\"><img src=\"https://colab.research.google.com/assets/colab-badge.svg\" alt=\"Open In Colab\"/></a>"
      ]
    },
    {
      "cell_type": "code",
      "source": [
        "# FACE_DATA_DIR = \"/content/drive/MyDrive/data/deep_phys/face_videos/\"\n",
        "# DATA_PATH = \"/content/drive/MyDrive/data/rhythmnet/st_maps/\"\n",
        "# TARGET_SIGNAL_DIR = \"/content/drive/MyDrive/data/deep_phys/data_preprocessed/\"\n",
        "# SAVE_CSV_PATH = \"/content/drive/MyDrive/data/rhythmnet/kfold.csv\"\n",
        "# ST_MAPS_PATH = \"/content/drive/MyDrive/data/rhythmnet/st_maps/\"\n",
        "# CHECKPOINT_PATH = \"/content/drive/MyDrive/data/rhythmnet/checkpoint\"\n",
        "# PLOT_PATH = \"/content/drive/MyDrive/data/rhythmnet/plots\"\n",
        "# NUM_WORKERS = 2\n",
        "# DEVICE = \"cuda\"\n",
        "# BATCH_SIZE = 10\n",
        "# EPOCHS = 50\n",
        "# lr = 1e-3\n",
        "# CLIP_SIZE = 300\n",
        "\n",
        "# For INSY server\n",
        "\n",
        "# FACE_DATA_DIR = \"/content/drive/MyDrive/data/deep_phys/face_videos/\"\n",
        "# HOME_DIR = \"/tudelft.net/staff-bulk/ewi/insy/VisionLab/students/amarwade/\"\n",
        "# HR_DATA_PATH = HOME_DIR + \"data/DEAP/hr_csv/\"\n",
        "# DATA_PATH = HOME_DIR + \"data/DEAP/st_maps/\"\n",
        "# TARGET_SIGNAL_DIR = HOME_DIR + \"data/DEAP/data_preprocessed/\"\n",
        "# SAVE_CSV_PATH = HOME_DIR + \"RhythmNet/subject_exclusive_folds.csv\"\n",
        "# ST_MAPS_PATH = HOME_DIR + \"data/DEAP/st_maps/\"\n",
        "# CHECKPOINT_PATH = HOME_DIR + \"checkpoints/RhythmNet\"\n",
        "# PLOT_PATH = HOME_DIR + \"plots/RhythmNet\"\n",
        "# NUM_WORKERS = 2\n",
        "# DEVICE = \"cuda\"\n",
        "# BATCH_SIZE = 16\n",
        "# EPOCHS = 20\n",
        "# lr = 1e-3\n",
        "# CLIP_SIZE = 300\n",
        "# TENSORBOARD_PATH = HOME_DIR + \"/runs/\"\n",
        "# GRU_TEMPORAL_WINDOW = 6\n",
        "\n",
        "# haarcascade_url = \"https://raw.githubusercontent.com/opencv/opencv/master/data/haarcascades/haarcascade_frontalface_alt2.xml\"\n",
        "# eye_cascade_url = \"https://raw.githubusercontent.com/opencv/opencv/master/data/haarcascades/haarcascade_eye.xml\"\n",
        "# # FACE_DATA_DIR = \"../data/face_video/\"\n",
        "# # HR_DATA_PATH = \"../data/VIPL_hr_csv/\"\n",
        "# HR_DATA_PATH = \"../data/VIPL_hr_csv/\"\n",
        "# FACE_DATA_DIR = \"/Volumes/T7/vipl_videos/\"\n",
        "# TARGET_SIGNAL_DIR = \"/Users/anweshcr7/Downloads/CleanerPPG/VIPL-HR/Cleaned/\"\n",
        "# # SAVE_CSV_PATH = \"subject_exclusive_folds.csv\"\n",
        "# SAVE_CSV_PATH = \"VIPL_npy.csv\"\n",
        "# ST_MAPS_PATH = \"../data/vipl_st_maps/\"\n",
        "# # ST_MAPS_PATH = \"/Volumes/Backup Plus/vision/DEAP_emotion/st_maps/\"\n",
        "# CHECKPOINT_PATH = \"../checkpoint\"\n",
        "# DATA_PATH = \"../data/\"\n",
        "# PLOT_PATH = \"../plots\"\n",
        "# BATCH_SIZE = 16\n",
        "# EPOCHS = 10\n",
        "# EPOCHS_TEST = 1\n",
        "# CLIP_SIZE = 300\n",
        "# lr = 1e-3\n",
        "# IMAGE_WIDTH = 300\n",
        "# IMAGE_HEIGHT = 75\n",
        "# NUM_WORKERS = 0\n",
        "# DEVICE = \"cpu\"\n",
        "# GRU_TEMPORAL_WINDOW = 6"
      ],
      "metadata": {
        "id": "h-vjVFLDcw3J"
      },
      "execution_count": 2,
      "outputs": []
    },
    {
      "cell_type": "code",
      "source": [
        "from google.colab import drive\n",
        "drive.mount(\"/content/drive\")\n"
      ],
      "metadata": {
        "colab": {
          "base_uri": "https://localhost:8080/"
        },
        "id": "fvQuErTjgoJ4",
        "outputId": "e47f0905-3392-4e2c-c61a-129d51cb1fbe"
      },
      "execution_count": 3,
      "outputs": [
        {
          "output_type": "stream",
          "name": "stdout",
          "text": [
            "Drive already mounted at /content/drive; to attempt to forcibly remount, call drive.mount(\"/content/drive\", force_remount=True).\n"
          ]
        }
      ]
    },
    {
      "cell_type": "code",
      "source": [
        "import cv2\n",
        "import os\n",
        "import glob\n",
        "import numpy as np\n",
        "from tqdm import tqdm\n",
        "import matplotlib.pyplot as plt\n",
        "# used for accessing url to download files\n",
        "import urllib.request as urlreq\n",
        "from sklearn import preprocessing\n",
        "from joblib import Parallel, delayed, parallel_backend\n",
        "import time"
      ],
      "metadata": {
        "id": "9hrwE6hWb_JS"
      },
      "execution_count": 4,
      "outputs": []
    },
    {
      "cell_type": "code",
      "source": [
        "ST_MAPS_PATH = \"/content/drive/MyDrive/Finalproject/ST_MAPS_PATH/\"\n",
        "FACE_DATA_DIR = \"/content/drive/MyDrive/Finalproject/face_videos/\"\n",
        "TARGET_SIGNAL_DIR = \"/Users/anweshcr7/Downloads/CleanerPPG/VIPL-HR/Cleaned/\"\n",
        "HR_DATA_PATH = \"/content/drive/MyDrive/Finalproject/HR_DATA_PATH/\"\n",
        "CLIP_SIZE = 300"
      ],
      "metadata": {
        "id": "Mn_QNXGFcKc_"
      },
      "execution_count": 5,
      "outputs": []
    },
    {
      "cell_type": "code",
      "execution_count": 6,
      "metadata": {
        "id": "OD957xRXbwIi"
      },
      "outputs": [],
      "source": [
        "def get_frames_and_video_meta_data(video_path, meta_data_only=False):\n",
        "    cap = cv2.VideoCapture(video_path)\n",
        "    frameRate = cap.get(5)  # frame rate\n",
        "\n",
        "    # Frame dimensions: WxH\n",
        "    frame_dims = (int(cap.get(3)), int(cap.get(4)))\n",
        "    # Paper mentions a stride of 0.5 seconds = 15 frames\n",
        "    sliding_window_stride = int(frameRate / 2)\n",
        "    num_frames = int(cap.get(7))\n",
        "    if meta_data_only:\n",
        "        return {\"frame_rate\": frameRate, \"sliding_window_stride\": sliding_window_stride, \"num_frames\": num_frames}\n",
        "\n",
        "    # Frames from the video have shape NumFrames x H x W x C\n",
        "    frames = np.zeros((num_frames, frame_dims[1], frame_dims[0], 3), dtype='uint8')\n",
        "\n",
        "    frame_counter = 0\n",
        "    while cap.isOpened():\n",
        "        # curr_frame_id = int(cap.get(1))  # current frame number\n",
        "        ret, frame = cap.read()\n",
        "        if not ret:\n",
        "            break\n",
        "\n",
        "        frames[frame_counter, :, :, :] = frame\n",
        "        frame_counter += 1\n",
        "        if frame_counter == num_frames:\n",
        "            break\n",
        "\n",
        "    cap.release()\n",
        "    return frames, frameRate, sliding_window_stride"
      ]
    },
    {
      "cell_type": "code",
      "source": [
        "def chunkify(img, block_width=5, block_height=5):\n",
        "    shape = img.shape\n",
        "    x_len = shape[0] // block_width\n",
        "    y_len = shape[1] // block_height\n",
        "    # print(x_len, y_len)\n",
        "\n",
        "    chunks = []\n",
        "    x_indices = [i for i in range(0, shape[0] + 1, x_len)]\n",
        "    y_indices = [i for i in range(0, shape[1] + 1, y_len)]\n",
        "\n",
        "    shapes = list(zip(x_indices, y_indices))\n",
        "\n",
        "    #  # for plotting purpose\n",
        "    # implot = plt.imshow(img)\n",
        "    #\n",
        "    # end_x_list = []\n",
        "    # end_y_list = []\n",
        "\n",
        "\n",
        "    for i in range(len(x_indices) - 1):\n",
        "        # try:\n",
        "        start_x = x_indices[i]\n",
        "        end_x = x_indices[i + 1]\n",
        "        for j in range(len(y_indices) - 1):\n",
        "            start_y = y_indices[j] \n",
        "            end_y = y_indices[j+1]\n",
        "            # end_x_list.append(end_x)\n",
        "            # end_y_list.append(end_y)\n",
        "            chunks.append(img[start_x:end_x, start_y:end_y])\n",
        "        # except IndexError:\n",
        "        #     print('End of Array')\n",
        "\n",
        "    return chunks\n",
        "\n",
        "\n",
        "def plot_image(img):\n",
        "    plt.axis(\"off\")\n",
        "    plt.imshow(img, origin='upper')\n",
        "    plt.show()\n",
        "\n",
        "\n",
        "# Downloads xml file for face detection cascade\n",
        "def get_haarcascade():\n",
        "    haarcascade_url = \"https://raw.githubusercontent.com/opencv/opencv/master/data/haarcascades/haarcascade_frontalface_alt2.xml\"\n",
        "    haarcascade_filename = haarcascade_url.split('/')[-1]\n",
        "    # chech if file is in working directory\n",
        "    if haarcascade_filename in os.listdir(os.curdir):\n",
        "        # print(\"xml file already exists\")\n",
        "        pass\n",
        "    else:\n",
        "        # download file from url and save locally as haarcascade_frontalface_alt2.xml, < 1MB\n",
        "        urlreq.urlretrieve(haarcascade_url, haarcascade_filename)\n",
        "        print(\"xml file downloaded\")\n",
        "\n",
        "    return cv2.CascadeClassifier(haarcascade_filename)\n",
        "\n",
        "# Downloads xml file for eye detection cascade\n",
        "def get_eye_cascade():\n",
        "    eye_cascade_url = \"https://raw.githubusercontent.com/opencv/opencv/master/data/haarcascades/haarcascade_eye.xml\"\n",
        "    eye_cascade_filename = eye_cascade_url.split('/')[-1]\n",
        "    # chech if file is in working directory\n",
        "    if eye_cascade_filename in os.listdir(os.curdir):\n",
        "        # print(\"xml file already exists\")\n",
        "        pass\n",
        "    else:\n",
        "        # download file from url and save locally as haarcascade_frontalface_alt2.xml, < 1MB\n",
        "        urlreq.urlretrieve(eye_cascade_url, eye_cascade_filename)\n",
        "        print(\"xml file downloaded\")\n",
        "\n",
        "    return cv2.CascadeClassifier(eye_cascade_filename)"
      ],
      "metadata": {
        "id": "T_R-K6eOj0Fi"
      },
      "execution_count": 7,
      "outputs": []
    },
    {
      "cell_type": "code",
      "source": [
        "def preprocess_video_to_st_maps(video_path, output_shape, clip_size):\n",
        "    frames, frameRate, sliding_window_stride = get_frames_and_video_meta_data(video_path)\n",
        "\n",
        "    num_frames = frames.shape[0]\n",
        "    output_shape = (frames.shape[1], frames.shape[2])\n",
        "    num_maps = int((num_frames - clip_size)/sliding_window_stride + 1)\n",
        "    if num_maps < 0:\n",
        "        # print(num_maps)\n",
        "        print(video_path)\n",
        "        return None\n",
        "\n",
        "    # stacked_maps is the all the st maps for a given video (=num_maps) stacked.\n",
        "    stacked_maps = np.zeros((num_maps, 300, 25, 3))\n",
        "    # processed_maps will contain all the data after processing each frame, but not yet converted into maps\n",
        "    processed_maps = np.zeros((num_frames, 25, 3))\n",
        "    # processed_frames = np.zeros((num_frames, output_shape[0], output_shape[1], 3))\n",
        "    processed_frames = []\n",
        "    map_index = 0\n",
        "\n",
        "    # Init scaler and detector\n",
        "    min_max_scaler = preprocessing.MinMaxScaler()\n",
        "    detector = get_haarcascade()\n",
        "    eye_detector = get_eye_cascade()\n",
        "\n",
        "    # First we process all the frames and then work with sliding window to save repeated processing for the same frame index\n",
        "    for idx, frame in enumerate(frames):\n",
        "        # spatio_temporal_map = np.zeros((fr, 25, 3))\n",
        "        '''\n",
        "           Preprocess the Image\n",
        "           Step 1: Use cv2 face detector based on Haar cascades\n",
        "           Step 2: Crop the frame based on the face co-ordinates (we need to do 160%)\n",
        "           Step 3: Downsample the face cropped frame to output_shape = 36x36\n",
        "       '''\n",
        "        faces = detector.detectMultiScale(frame, 1.3, 5)\n",
        "        if len(faces) is not 0:\n",
        "            (x, y, w, d) = faces[0]\n",
        "            frame_cropped = frame[y:(y + d), x:(x + w)]\n",
        "            eyes = eye_detector.detectMultiScale(frame_cropped, 1.2, 3)\n",
        "            # if len(eyes) > 0:\n",
        "            #     # for having the same radius in both eyes\n",
        "            #     (eye_x, eye_y, eye_w, eye_h) = eyes[0]\n",
        "            #     eye_radius = (eye_w + eye_h) // 5\n",
        "            #     mask = np.ones(frame_cropped.shape[:2], dtype=\"uint8\")\n",
        "            #     for (ex, ey, ew, eh) in eyes[:2]:\n",
        "            #         eye_center = (ex + ew // 2, ey + eh // 2)\n",
        "            #         # if eye_radius\n",
        "            #         cv2.circle(mask, eye_center, eye_radius, 0, -1)\n",
        "            #         # eh = int(0.8*eh)\n",
        "            #         # ew = int(0.8*ew)\n",
        "            #         # cv2.rectangle(mask, (ex, ey), (ex+ew, ey+eh), 0, -1)\n",
        "            #\n",
        "            #     frame_masked = cv2.bitwise_and(frame_cropped, frame_cropped, mask=mask)\n",
        "            # else:\n",
        "            #     frame_masked = frame_cropped\n",
        "            #     # plot_image(frame_masked)\n",
        "\n",
        "            frame_masked = frame_cropped\n",
        "        else:\n",
        "            # The problemis that this doesn't get cropped :/\n",
        "            # (x, y, w, d) = (308, 189, 215, 215)\n",
        "            # frame_masked = frame[y:(y + d), x:(x + w)]\n",
        "\n",
        "            # print(\"face detection failed, image frame will be masked\")\n",
        "            mask = np.zeros(frame.shape[:2], dtype=\"uint8\")\n",
        "            frame_masked = cv2.bitwise_and(frame, frame, mask=mask)\n",
        "            # plot_image(frame_masked)\n",
        "\n",
        "        # frame_cropped = frame[y:(y + d), x:(x + w)]\n",
        "\n",
        "        try:\n",
        "            # frame_resized = cv2.resize(frame_masked, output_shape, interpolation=cv2.INTER_CUBIC)\n",
        "            frame_resized = cv2.cvtColor(frame_masked, cv2.COLOR_BGR2YUV)\n",
        "\n",
        "        except:\n",
        "            print('\\n--------- ERROR! -----------\\nUsual cv empty error')\n",
        "            print(f'Shape of img1: {frame.shape}')\n",
        "            # print(f'bbox: {bbox}')\n",
        "            print(f'This is at idx: {idx}')\n",
        "            exit(666)\n",
        "\n",
        "        processed_frames.append(frame_resized)\n",
        "        # roi_blocks = chunkify(frame_resized)\n",
        "        # for block_idx, block in enumerate(roi_blocks):\n",
        "        #     avg_pixels = cv2.mean(block)\n",
        "        #     processed_maps[idx, block_idx, 0] = avg_pixels[0]\n",
        "        #     processed_maps[idx, block_idx, 1] = avg_pixels[1]\n",
        "        #     processed_maps[idx, block_idx, 2] = avg_pixels[2]\n",
        "\n",
        "    # At this point we have the processed maps from all the frames in a video and now we do the sliding window part.\n",
        "    for start_frame_index in range(0, num_frames, sliding_window_stride):\n",
        "        end_frame_index = start_frame_index + clip_size\n",
        "        if end_frame_index > num_frames:\n",
        "            break\n",
        "        # # print(f\"start_idx: {start_frame_index} | end_idx: {end_frame_index}\")\n",
        "        spatio_temporal_map = np.zeros((clip_size, 25, 3))\n",
        "        #\n",
        "        # spatio_temporal_map = processed_maps[start_frame_index:end_frame_index, :, :]\n",
        "\n",
        "\n",
        "        for idx, frame in enumerate(processed_frames[start_frame_index:end_frame_index]):\n",
        "            roi_blocks = chunkify(frame)\n",
        "            for block_idx, block in enumerate(roi_blocks):\n",
        "                avg_pixels = cv2.mean(block)\n",
        "                spatio_temporal_map[idx, block_idx, 0] = avg_pixels[0]\n",
        "                spatio_temporal_map[idx, block_idx, 1] = avg_pixels[1]\n",
        "                spatio_temporal_map[idx, block_idx, 2] = avg_pixels[2]\n",
        "\n",
        "        for block_idx in range(spatio_temporal_map.shape[1]):\n",
        "            # Not sure about uint8\n",
        "            fn_scale_0_255 = lambda x: (x * 255.0).astype(np.uint8)\n",
        "            scaled_channel_0 = min_max_scaler.fit_transform(spatio_temporal_map[:, block_idx, 0].reshape(-1, 1))\n",
        "            spatio_temporal_map[:, block_idx, 0] = fn_scale_0_255(scaled_channel_0.flatten())\n",
        "            scaled_channel_1 = min_max_scaler.fit_transform(spatio_temporal_map[:, block_idx, 1].reshape(-1, 1))\n",
        "            spatio_temporal_map[:, block_idx, 1] = fn_scale_0_255(scaled_channel_1.flatten())\n",
        "            scaled_channel_2 = min_max_scaler.fit_transform(spatio_temporal_map[:, block_idx, 2].reshape(-1, 1))\n",
        "            spatio_temporal_map[:, block_idx, 2] = fn_scale_0_255(scaled_channel_2.flatten())\n",
        "\n",
        "        stacked_maps[map_index, :, :, :] = spatio_temporal_map\n",
        "        map_index += 1\n",
        "\n",
        "    return stacked_maps\n"
      ],
      "metadata": {
        "id": "c_9lJMSkjhkO"
      },
      "execution_count": 8,
      "outputs": []
    },
    {
      "cell_type": "code",
      "source": [
        "\n",
        "# function for st_map generation from all videos in dataset\n",
        "def get_spatio_temporal_map():\n",
        "    video_files = glob.glob(FACE_DATA_DIR + '*avi')\n",
        "    # video_files = video_files[100:110]\n",
        "    # video_files = ['/Volumes/Backup Plus/vision/vipl_videos/p10_v1_source1.avi', '/Volumes/Backup Plus/vision/vipl_videos/p10_v1_source2.avi']\n",
        "    # video_files = ['/Volumes/Backup Plus/vision/DEAP_emotion/face_video/s01/s01_trial01.avi']\n",
        "    start = time.time()\n",
        "    print(video_files)\n",
        "    # check = os.path.exists(\"/content/drive/MyDrive/Finalproject/face_videos/490.avi\")\n",
        "    # print(check)\n",
        "    for file in tqdm(video_files):\n",
        "        # print(\"!!!!!!\")\n",
        "        # maps = np.zeros((1, config.CLIP_SIZE, 25, 3))\n",
        "        # for index in range(1):\n",
        "            # print(index)\n",
        "        #print(file) \n",
        "        print(\"!!!!!!\")\n",
        "        print(f\"{ST_MAPS_PATH}{file.split('/')[-1].split('.')[0]}.npy\")\n",
        "        if os.path.exists(f\"{ST_MAPS_PATH}{file.split('/')[-1].split('.')[0]}.npy\"):\n",
        "            #print(\"!!!!!!\")\n",
        "            map = np.load(f\"{ST_MAPS_PATH}{file.split('/')[-1].split('.')[0]}.npy\")\n",
        "            if (map.shape[0]) > 125:\n",
        "                print(f\"\\nFilename:{file} | num maps: {map.shape[0]}\")\n",
        "        else:           \n",
        "            pass  \n",
        "        maps = preprocess_video_to_st_maps(\n",
        "            video_path=file,\n",
        "            output_shape=(180, 180), clip_size=CLIP_SIZE)\n",
        "        print(maps)\n",
        "        print(\"here !!!!!!\")\n",
        "        if maps is None:\n",
        "            continue\n",
        "        optimized_end = time.time()\n",
        "\n",
        "        print('{:.4f} s'.format((optimized_end - start)/60))\n",
        "\n",
        "        file_name = file.split('/')[-1].split('.')[0]\n",
        "        folder_name = file.split('/')[-2]\n",
        "        save_path = os.path.join(ST_MAPS_PATH, folder_name)\n",
        "        if not os.path.exists(save_path):\n",
        "            os.makedirs(save_path)\n",
        "        save_path = os.path.join(save_path, f\"{file_name}.npy\")\n",
        "        # np.save(f\"{config.ST_MAPS_PATH}{file_name}.npy\", maps)\n",
        "        np.save(save_path, maps)\n",
        "        \n",
        "        \n",
        "\n",
        "    end = time.time()\n",
        "    print(\"here ???\")\n",
        "    print('{:.4f} s'.format(end - start))\n",
        "    #return maps"
      ],
      "metadata": {
        "id": "pkGojy68cAW7"
      },
      "execution_count": 9,
      "outputs": []
    },
    {
      "cell_type": "code",
      "source": [
        "\n",
        "\n",
        "# get_spatio_temporal_map()"
      ],
      "metadata": {
        "id": "TBjrv56BhPun"
      },
      "execution_count": 10,
      "outputs": []
    },
    {
      "cell_type": "code",
      "source": [
        "!pip install heartpy"
      ],
      "metadata": {
        "colab": {
          "base_uri": "https://localhost:8080/"
        },
        "id": "YXMLgVZr-huc",
        "outputId": "8ad085ce-982a-478d-fe13-46232fa7ec54"
      },
      "execution_count": 11,
      "outputs": [
        {
          "output_type": "stream",
          "name": "stdout",
          "text": [
            "Collecting heartpy\n",
            "  Downloading heartpy-1.2.7-py3-none-any.whl (1.0 MB)\n",
            "\u001b[K     |████████████████████████████████| 1.0 MB 8.7 MB/s \n",
            "\u001b[?25hRequirement already satisfied: matplotlib<=3.3.4 in /usr/local/lib/python3.7/dist-packages (from heartpy) (3.2.2)\n",
            "Requirement already satisfied: numpy>=1.17 in /usr/local/lib/python3.7/dist-packages (from heartpy) (1.21.5)\n",
            "Requirement already satisfied: scipy in /usr/local/lib/python3.7/dist-packages (from heartpy) (1.4.1)\n",
            "Requirement already satisfied: kiwisolver>=1.0.1 in /usr/local/lib/python3.7/dist-packages (from matplotlib<=3.3.4->heartpy) (1.3.2)\n",
            "Requirement already satisfied: pyparsing!=2.0.4,!=2.1.2,!=2.1.6,>=2.0.1 in /usr/local/lib/python3.7/dist-packages (from matplotlib<=3.3.4->heartpy) (3.0.7)\n",
            "Requirement already satisfied: cycler>=0.10 in /usr/local/lib/python3.7/dist-packages (from matplotlib<=3.3.4->heartpy) (0.11.0)\n",
            "Requirement already satisfied: python-dateutil>=2.1 in /usr/local/lib/python3.7/dist-packages (from matplotlib<=3.3.4->heartpy) (2.8.2)\n",
            "Requirement already satisfied: six>=1.5 in /usr/local/lib/python3.7/dist-packages (from python-dateutil>=2.1->matplotlib<=3.3.4->heartpy) (1.15.0)\n",
            "Installing collected packages: heartpy\n",
            "Successfully installed heartpy-1.2.7\n"
          ]
        }
      ]
    },
    {
      "cell_type": "code",
      "source": [
        "import glob\n",
        "import numpy as np\n",
        "import pandas as pd\n",
        "from scipy import signal\n",
        "import heartpy as hp\n",
        "from tqdm import tqdm\n",
        "import matplotlib.pyplot as plt\n",
        "import io\n",
        "import codecs"
      ],
      "metadata": {
        "id": "ajEINjDt-fzU"
      },
      "execution_count": 12,
      "outputs": []
    },
    {
      "cell_type": "code",
      "source": [
        "# data_files = glob.glob(\"/content/drive/MyDrive/Finalproject/face_videos/\" + \"*.csv\")\n",
        "# f = data_files[0]\n",
        "# t = codecs.open(data_files[0] , mode = 'r' , encoding='utf-8')\n",
        "# line = t.readline()\n",
        "# list1 = []\n",
        "# while line : \n",
        "#   a = line.split()\n",
        "#   b = a[3]\n",
        "#   list1.append(b)\n",
        "#   line = t.readline()\n",
        "# t.close\n",
        "\n",
        "# for i in list1:\n",
        "#   print(i)\n",
        "\n",
        "# len(list1)\n",
        "# myarrary = np.array(list1)\n",
        "# print(myarrary)"
      ],
      "metadata": {
        "id": "4fdCj4WeH7S0",
        "colab": {
          "base_uri": "https://localhost:8080/",
          "height": 235
        },
        "outputId": "42324024-0824-4763-a5d1-1b0ab7b353e1"
      },
      "execution_count": 14,
      "outputs": [
        {
          "output_type": "error",
          "ename": "IndexError",
          "evalue": "ignored",
          "traceback": [
            "\u001b[0;31m---------------------------------------------------------------------------\u001b[0m",
            "\u001b[0;31mIndexError\u001b[0m                                Traceback (most recent call last)",
            "\u001b[0;32m<ipython-input-14-1070d87f9521>\u001b[0m in \u001b[0;36m<module>\u001b[0;34m()\u001b[0m\n\u001b[1;32m      6\u001b[0m \u001b[0;32mwhile\u001b[0m \u001b[0mline\u001b[0m \u001b[0;34m:\u001b[0m\u001b[0;34m\u001b[0m\u001b[0;34m\u001b[0m\u001b[0m\n\u001b[1;32m      7\u001b[0m   \u001b[0ma\u001b[0m \u001b[0;34m=\u001b[0m \u001b[0mline\u001b[0m\u001b[0;34m.\u001b[0m\u001b[0msplit\u001b[0m\u001b[0;34m(\u001b[0m\u001b[0;34m)\u001b[0m\u001b[0;34m\u001b[0m\u001b[0;34m\u001b[0m\u001b[0m\n\u001b[0;32m----> 8\u001b[0;31m   \u001b[0mb\u001b[0m \u001b[0;34m=\u001b[0m \u001b[0ma\u001b[0m\u001b[0;34m[\u001b[0m\u001b[0;36m3\u001b[0m\u001b[0;34m]\u001b[0m\u001b[0;34m\u001b[0m\u001b[0;34m\u001b[0m\u001b[0m\n\u001b[0m\u001b[1;32m      9\u001b[0m   \u001b[0mlist1\u001b[0m\u001b[0;34m.\u001b[0m\u001b[0mappend\u001b[0m\u001b[0;34m(\u001b[0m\u001b[0mb\u001b[0m\u001b[0;34m)\u001b[0m\u001b[0;34m\u001b[0m\u001b[0;34m\u001b[0m\u001b[0m\n\u001b[1;32m     10\u001b[0m   \u001b[0mline\u001b[0m \u001b[0;34m=\u001b[0m \u001b[0mt\u001b[0m\u001b[0;34m.\u001b[0m\u001b[0mreadline\u001b[0m\u001b[0;34m(\u001b[0m\u001b[0;34m)\u001b[0m\u001b[0;34m\u001b[0m\u001b[0;34m\u001b[0m\u001b[0m\n",
            "\u001b[0;31mIndexError\u001b[0m: list index out of range"
          ]
        }
      ]
    },
    {
      "cell_type": "code",
      "source": [
        ""
      ],
      "metadata": {
        "id": "QN4ul4MONltE"
      },
      "execution_count": null,
      "outputs": []
    },
    {
      "cell_type": "code",
      "source": [
        "#file = \"/content/drive/MyDrive/Finalproject/face_videos/710.csv\"\n",
        "#file = \"/content/sample_data/california_housing_test.csv\"\n",
        "data_files = glob.glob(\"/content/drive/MyDrive/Finalproject/face_videos/\"+ \"*.csv\")\n",
        "# for file in tqdm(data_files[:5]):\n",
        "data = pd.read_csv(\"/content/drive/MyDrive/Finalproject/face_videos/490.csv\")\n",
        "print(data)\n",
        "\n",
        "longit = data[\"pulse_rate\"].size\n",
        "print(longit)\n"
      ],
      "metadata": {
        "colab": {
          "base_uri": "https://localhost:8080/"
        },
        "id": "T7loosTkGAWA",
        "outputId": "d90729cf-1f22-478f-b5ac-397c5ba39590"
      },
      "execution_count": 31,
      "outputs": [
        {
          "output_type": "stream",
          "name": "stdout",
          "text": [
            "      Unnamed: 0  #signal_strength  bar_graph  ...  byte8  Unnamed: 14  sample_time\n",
            "0              0                 5          4  ...     ff          NaN     0.016667\n",
            "1              1                 5          4  ...     ff          NaN     0.033333\n",
            "2              2                 5          5  ...     ff          NaN     0.050000\n",
            "3              3                 5          6  ...     ff          NaN     0.066666\n",
            "4              4                 5          7  ...     ff          NaN     0.083333\n",
            "...          ...               ...        ...  ...    ...          ...          ...\n",
            "1515        1515                 5          6  ...     ff          NaN    25.266566\n",
            "1516        1516                 5          5  ...     ff          NaN    25.283232\n",
            "1517        1517                 5          5  ...     ff          NaN    25.299899\n",
            "1518        1518                 5          5  ...     ff          NaN    25.316565\n",
            "1519        1519                 5          5  ...     ff          NaN    25.333232\n",
            "\n",
            "[1520 rows x 17 columns]\n",
            "1520\n"
          ]
        }
      ]
    },
    {
      "cell_type": "code",
      "source": [
        "a = 0.0166666\n",
        "b = 0.0166666\n",
        "sample_time = []\n",
        "data540 = pd.read_csv('/content/drive/MyDrive/Finalproject/face_videos/710.csv')\n",
        "for i in range (len(data540)):\n",
        "  sample_time.append(a)\n",
        "  a = a + b\n",
        "\n",
        "print(sample_time)\n",
        "\n",
        "hr_df = pd.DataFrame(sample_time, columns=[\"sample_time\"])\n",
        "print(hr_df)"
      ],
      "metadata": {
        "colab": {
          "base_uri": "https://localhost:8080/"
        },
        "id": "7Ue1HVG-AwtL",
        "outputId": "3559203c-923e-4855-dc59-27959104f084"
      },
      "execution_count": 16,
      "outputs": [
        {
          "output_type": "stream",
          "name": "stdout",
          "text": [
            "[0.0166666, 0.0333332, 0.0499998, 0.0666664, 0.083333, 0.09999960000000001, 0.11666620000000001, 0.1333328, 0.1499994, 0.166666, 0.1833326, 0.19999920000000002, 0.21666580000000002, 0.23333240000000002, 0.24999900000000003, 0.2666656, 0.2833322, 0.29999879999999995, 0.31666539999999993, 0.3333319999999999, 0.3499985999999999, 0.36666519999999986, 0.38333179999999983, 0.3999983999999998, 0.4166649999999998, 0.43333159999999976, 0.44999819999999974, 0.4666647999999997, 0.4833313999999997, 0.49999799999999966, 0.5166645999999997, 0.5333311999999997, 0.5499977999999996, 0.5666643999999996, 0.5833309999999996, 0.5999975999999996, 0.6166641999999996, 0.6333307999999995, 0.6499973999999995, 0.6666639999999995, 0.6833305999999995, 0.6999971999999994, 0.7166637999999994, 0.7333303999999994, 0.7499969999999994, 0.7666635999999993, 0.7833301999999993, 0.7999967999999993, 0.8166633999999993, 0.8333299999999992, 0.8499965999999992, 0.8666631999999992, 0.8833297999999992, 0.8999963999999991, 0.9166629999999991, 0.9333295999999991, 0.9499961999999991, 0.966662799999999, 0.983329399999999, 0.999995999999999, 1.016662599999999, 1.033329199999999, 1.049995799999999, 1.066662399999999, 1.0833289999999989, 1.0999955999999989, 1.1166621999999988, 1.1333287999999988, 1.1499953999999988, 1.1666619999999988, 1.1833285999999987, 1.1999951999999987, 1.2166617999999987, 1.2333283999999987, 1.2499949999999986, 1.2666615999999986, 1.2833281999999986, 1.2999947999999986, 1.3166613999999985, 1.3333279999999985, 1.3499945999999985, 1.3666611999999985, 1.3833277999999984, 1.3999943999999984, 1.4166609999999984, 1.4333275999999984, 1.4499941999999983, 1.4666607999999983, 1.4833273999999983, 1.4999939999999983, 1.5166605999999982, 1.5333271999999982, 1.5499937999999982, 1.5666603999999982, 1.5833269999999982, 1.5999935999999981, 1.616660199999998, 1.633326799999998, 1.649993399999998, 1.666659999999998, 1.683326599999998, 1.699993199999998, 1.716659799999998, 1.733326399999998, 1.749992999999998, 1.7666595999999979, 1.7833261999999979, 1.7999927999999978, 1.8166593999999978, 1.8333259999999978, 1.8499925999999978, 1.8666591999999977, 1.8833257999999977, 1.8999923999999977, 1.9166589999999977, 1.9333255999999976, 1.9499921999999976, 1.9666587999999976, 1.9833253999999976, 1.9999919999999975, 2.0166585999999977, 2.033325199999998, 2.049991799999998, 2.0666583999999983, 2.0833249999999985, 2.0999915999999987, 2.116658199999999, 2.133324799999999, 2.1499913999999993, 2.1666579999999995, 2.1833245999999997, 2.1999912, 2.2166578, 2.2333244000000003, 2.2499910000000005, 2.2666576000000007, 2.283324200000001, 2.299990800000001, 2.3166574000000013, 2.3333240000000015, 2.3499906000000017, 2.366657200000002, 2.383323800000002, 2.3999904000000023, 2.4166570000000025, 2.4333236000000027, 2.449990200000003, 2.466656800000003, 2.4833234000000033, 2.4999900000000035, 2.5166566000000037, 2.533323200000004, 2.549989800000004, 2.5666564000000043, 2.5833230000000045, 2.5999896000000047, 2.616656200000005, 2.633322800000005, 2.6499894000000053, 2.6666560000000055, 2.6833226000000057, 2.699989200000006, 2.716655800000006, 2.7333224000000063, 2.7499890000000065, 2.7666556000000067, 2.783322200000007, 2.799988800000007, 2.8166554000000072, 2.8333220000000074, 2.8499886000000076, 2.866655200000008, 2.883321800000008, 2.8999884000000082, 2.9166550000000084, 2.9333216000000086, 2.949988200000009, 2.966654800000009, 2.9833214000000092, 2.9999880000000094, 3.0166546000000096, 3.03332120000001, 3.04998780000001, 3.06665440000001, 3.0833210000000104, 3.0999876000000106, 3.116654200000011, 3.133320800000011, 3.149987400000011, 3.1666540000000114, 3.1833206000000116, 3.199987200000012, 3.216653800000012, 3.233320400000012, 3.2499870000000124, 3.2666536000000126, 3.283320200000013, 3.299986800000013, 3.316653400000013, 3.3333200000000134, 3.3499866000000136, 3.366653200000014, 3.383319800000014, 3.399986400000014, 3.4166530000000144, 3.4333196000000146, 3.4499862000000148, 3.466652800000015, 3.483319400000015, 3.4999860000000154, 3.5166526000000156, 3.5333192000000158, 3.549985800000016, 3.566652400000016, 3.5833190000000164, 3.5999856000000166, 3.6166522000000167, 3.633318800000017, 3.649985400000017, 3.6666520000000173, 3.6833186000000175, 3.6999852000000177, 3.716651800000018, 3.733318400000018, 3.7499850000000183, 3.7666516000000185, 3.7833182000000187, 3.799984800000019, 3.816651400000019, 3.8333180000000193, 3.8499846000000195, 3.8666512000000197, 3.88331780000002, 3.89998440000002, 3.9166510000000203, 3.9333176000000205, 3.9499842000000207, 3.966650800000021, 3.983317400000021, 3.9999840000000213, 4.0166506000000215, 4.033317200000021, 4.049983800000021, 4.066650400000021, 4.0833170000000205, 4.09998360000002, 4.11665020000002, 4.13331680000002, 4.1499834000000195, 4.166650000000019, 4.183316600000019, 4.199983200000019, 4.2166498000000185, 4.233316400000018, 4.249983000000018, 4.266649600000018, 4.283316200000018, 4.299982800000017, 4.316649400000017, 4.333316000000017, 4.349982600000017, 4.366649200000016, 4.383315800000016, 4.399982400000016, 4.416649000000016, 4.433315600000015, 4.449982200000015, 4.466648800000015, 4.483315400000015, 4.499982000000014, 4.516648600000014, 4.533315200000014, 4.549981800000014, 4.566648400000013, 4.583315000000013, 4.599981600000013, 4.616648200000013, 4.633314800000012, 4.649981400000012, 4.666648000000012, 4.683314600000012, 4.699981200000011, 4.716647800000011, 4.733314400000011, 4.749981000000011, 4.76664760000001, 4.78331420000001, 4.79998080000001, 4.81664740000001, 4.833314000000009, 4.849980600000009, 4.866647200000009, 4.883313800000009, 4.8999804000000085, 4.916647000000008, 4.933313600000008, 4.949980200000008, 4.9666468000000075, 4.983313400000007, 4.999980000000007, 5.016646600000007, 5.0333132000000065, 5.049979800000006, 5.066646400000006, 5.083313000000006, 5.0999796000000055, 5.116646200000005, 5.133312800000005, 5.149979400000005, 5.1666460000000045, 5.183312600000004, 5.199979200000004, 5.216645800000004, 5.2333124000000035, 5.249979000000003, 5.266645600000003, 5.283312200000003, 5.2999788000000025, 5.316645400000002, 5.333312000000002, 5.349978600000002, 5.366645200000002, 5.383311800000001, 5.399978400000001, 5.416645000000001, 5.433311600000001, 5.4499782, 5.4666448, 5.4833114, 5.499978, 5.516644599999999, 5.533311199999999, 5.549977799999999, 5.566644399999999, 5.583310999999998, 5.599977599999998, 5.616644199999998, 5.633310799999998, 5.649977399999997, 5.666643999999997, 5.683310599999997, 5.699977199999997, 5.716643799999996, 5.733310399999996, 5.749976999999996, 5.766643599999996, 5.783310199999995, 5.799976799999995, 5.816643399999995, 5.833309999999995, 5.849976599999994, 5.866643199999994, 5.883309799999994, 5.899976399999994, 5.916642999999993, 5.933309599999993, 5.949976199999993, 5.966642799999993, 5.9833093999999925, 5.999975999999992, 6.016642599999992, 6.033309199999992, 6.0499757999999915, 6.066642399999991, 6.083308999999991, 6.099975599999991, 6.1166421999999905, 6.13330879999999, 6.14997539999999, 6.16664199999999, 6.1833085999999895, 6.199975199999989, 6.216641799999989, 6.233308399999989, 6.2499749999999885, 6.266641599999988, 6.283308199999988, 6.299974799999988, 6.3166413999999875, 6.333307999999987, 6.349974599999987, 6.366641199999987, 6.3833077999999865, 6.399974399999986, 6.416640999999986, 6.433307599999986, 6.449974199999986, 6.466640799999985, 6.483307399999985, 6.499973999999985, 6.516640599999985, 6.533307199999984, 6.549973799999984, 6.566640399999984, 6.583306999999984, 6.599973599999983, 6.616640199999983, 6.633306799999983, 6.649973399999983, 6.666639999999982, 6.683306599999982, 6.699973199999982, 6.716639799999982, 6.733306399999981, 6.749972999999981, 6.766639599999981, 6.783306199999981, 6.79997279999998, 6.81663939999998, 6.83330599999998, 6.84997259999998, 6.866639199999979, 6.883305799999979, 6.899972399999979, 6.916638999999979, 6.933305599999978, 6.949972199999978, 6.966638799999978, 6.983305399999978, 6.999971999999977, 7.016638599999977, 7.033305199999977, 7.049971799999977, 7.0666383999999764, 7.083304999999976, 7.099971599999976, 7.116638199999976, 7.1333047999999755, 7.149971399999975, 7.166637999999975, 7.183304599999975, 7.1999711999999745, 7.216637799999974, 7.233304399999974, 7.249970999999974, 7.2666375999999735, 7.283304199999973, 7.299970799999973, 7.316637399999973, 7.3333039999999725, 7.349970599999972, 7.366637199999972, 7.383303799999972, 7.3999703999999715, 7.416636999999971, 7.433303599999971, 7.449970199999971, 7.4666367999999705, 7.48330339999997, 7.49996999999997, 7.51663659999997, 7.53330319999997, 7.549969799999969, 7.566636399999969, 7.583302999999969, 7.599969599999969, 7.616636199999968, 7.633302799999968, 7.649969399999968, 7.666635999999968, 7.683302599999967, 7.699969199999967, 7.716635799999967, 7.733302399999967, 7.749968999999966, 7.766635599999966, 7.783302199999966, 7.799968799999966, 7.816635399999965, 7.833301999999965, 7.849968599999965, 7.866635199999965, 7.883301799999964, 7.899968399999964, 7.916634999999964, 7.933301599999964, 7.949968199999963, 7.966634799999963, 7.983301399999963, 7.999967999999963, 8.016634599999962, 8.033301199999963, 8.049967799999964, 8.066634399999964, 8.083300999999965, 8.099967599999966, 8.116634199999966, 8.133300799999967, 8.149967399999968, 8.166633999999968, 8.183300599999969, 8.19996719999997, 8.21663379999997, 8.23330039999997, 8.249966999999971, 8.266633599999972, 8.283300199999973, 8.299966799999973, 8.316633399999974, 8.333299999999975, 8.349966599999975, 8.366633199999976, 8.383299799999977, 8.399966399999977, 8.416632999999978, 8.433299599999978, 8.449966199999979, 8.46663279999998, 8.48329939999998, 8.499965999999981, 8.516632599999982, 8.533299199999982, 8.549965799999983, 8.566632399999984, 8.583298999999984, 8.599965599999985, 8.616632199999986, 8.633298799999986, 8.649965399999987, 8.666631999999987, 8.683298599999988, 8.699965199999989, 8.71663179999999, 8.73329839999999, 8.74996499999999, 8.766631599999991, 8.783298199999992, 8.799964799999993, 8.816631399999993, 8.833297999999994, 8.849964599999995, 8.866631199999995, 8.883297799999996, 8.899964399999996, 8.916630999999997, 8.933297599999998, 8.949964199999998, 8.966630799999999, 8.9832974, 8.999964, 9.016630600000001, 9.033297200000002, 9.049963800000002, 9.066630400000003, 9.083297000000004, 9.099963600000004, 9.116630200000005, 9.133296800000005, 9.149963400000006, 9.166630000000007, 9.183296600000007, 9.199963200000008, 9.216629800000009, 9.23329640000001, 9.24996300000001, 9.26662960000001, 9.283296200000011, 9.299962800000012, 9.316629400000012, 9.333296000000013, 9.349962600000014, 9.366629200000014, 9.383295800000015, 9.399962400000016, 9.416629000000016, 9.433295600000017, 9.449962200000018, 9.466628800000018, 9.483295400000019, 9.49996200000002, 9.51662860000002, 9.53329520000002, 9.549961800000021, 9.566628400000022, 9.583295000000023, 9.599961600000023, 9.616628200000024, 9.633294800000025, 9.649961400000025, 9.666628000000026, 9.683294600000027, 9.699961200000027, 9.716627800000028, 9.733294400000029, 9.74996100000003, 9.76662760000003, 9.78329420000003, 9.799960800000031, 9.816627400000032, 9.833294000000032, 9.849960600000033, 9.866627200000034, 9.883293800000034, 9.899960400000035, 9.916627000000036, 9.933293600000036, 9.949960200000037, 9.966626800000038, 9.983293400000038, 9.999960000000039, 10.01662660000004, 10.03329320000004, 10.04995980000004, 10.066626400000041, 10.083293000000042, 10.099959600000043, 10.116626200000043, 10.133292800000044, 10.149959400000045, 10.166626000000045, 10.183292600000046, 10.199959200000047, 10.216625800000047, 10.233292400000048, 10.249959000000048, 10.266625600000049, 10.28329220000005, 10.29995880000005, 10.316625400000051, 10.333292000000052, 10.349958600000052, 10.366625200000053, 10.383291800000054, 10.399958400000054, 10.416625000000055, 10.433291600000056, 10.449958200000056, 10.466624800000057, 10.483291400000057, 10.499958000000058, 10.516624600000059, 10.53329120000006, 10.54995780000006, 10.56662440000006, 10.583291000000061, 10.599957600000062, 10.616624200000063, 10.633290800000063, 10.649957400000064, 10.666624000000064, 10.683290600000065, 10.699957200000066, 10.716623800000066, 10.733290400000067, 10.749957000000068, 10.766623600000068, 10.783290200000069, 10.79995680000007, 10.81662340000007, 10.833290000000071, 10.849956600000072, 10.866623200000072, 10.883289800000073, 10.899956400000073, 10.916623000000074, 10.933289600000075, 10.949956200000075, 10.966622800000076, 10.983289400000077, 10.999956000000077, 11.016622600000078, 11.033289200000079, 11.04995580000008, 11.06662240000008, 11.08328900000008, 11.099955600000081, 11.116622200000082, 11.133288800000082, 11.149955400000083, 11.166622000000084, 11.183288600000084, 11.199955200000085, 11.216621800000086, 11.233288400000086, 11.249955000000087, 11.266621600000088, 11.283288200000088, 11.299954800000089, 11.31662140000009, 11.33328800000009, 11.34995460000009, 11.366621200000091, 11.383287800000092, 11.399954400000093, 11.416621000000093, 11.433287600000094, 11.449954200000095, 11.466620800000095, 11.483287400000096, 11.499954000000097, 11.516620600000097, 11.533287200000098, 11.549953800000099, 11.5666204000001, 11.5832870000001, 11.5999536000001, 11.616620200000101, 11.633286800000102, 11.649953400000102, 11.666620000000103, 11.683286600000104, 11.699953200000104, 11.716619800000105, 11.733286400000106, 11.749953000000106, 11.766619600000107, 11.783286200000108, 11.799952800000108, 11.816619400000109, 11.83328600000011, 11.84995260000011, 11.86661920000011, 11.883285800000111, 11.899952400000112, 11.916619000000113, 11.933285600000113, 11.949952200000114, 11.966618800000115, 11.983285400000115, 11.999952000000116, 12.016618600000117, 12.033285200000117, 12.049951800000118, 12.066618400000118, 12.083285000000119, 12.09995160000012, 12.11661820000012, 12.133284800000121, 12.149951400000122, 12.166618000000122, 12.183284600000123, 12.199951200000124, 12.216617800000124, 12.233284400000125, 12.249951000000125, 12.266617600000126, 12.283284200000127, 12.299950800000127, 12.316617400000128, 12.333284000000129, 12.34995060000013, 12.36661720000013, 12.38328380000013, 12.399950400000131, 12.416617000000132, 12.433283600000133, 12.449950200000133, 12.466616800000134, 12.483283400000134, 12.499950000000135, 12.516616600000136, 12.533283200000136, 12.549949800000137, 12.566616400000138, 12.583283000000138, 12.599949600000139, 12.61661620000014, 12.63328280000014, 12.649949400000141, 12.666616000000142, 12.683282600000142, 12.699949200000143, 12.716615800000143, 12.733282400000144, 12.749949000000145, 12.766615600000145, 12.783282200000146, 12.799948800000147, 12.816615400000147, 12.833282000000148, 12.849948600000149, 12.86661520000015, 12.88328180000015, 12.89994840000015, 12.916615000000151, 12.933281600000152, 12.949948200000152, 12.966614800000153, 12.983281400000154, 12.999948000000154, 13.016614600000155, 13.033281200000156, 13.049947800000156, 13.066614400000157, 13.083281000000158, 13.099947600000158, 13.116614200000159, 13.13328080000016, 13.14994740000016, 13.16661400000016, 13.183280600000161, 13.199947200000162, 13.216613800000163, 13.233280400000163, 13.249947000000164, 13.266613600000165, 13.283280200000165, 13.299946800000166, 13.316613400000167, 13.333280000000167, 13.349946600000168, 13.366613200000169, 13.38327980000017, 13.39994640000017, 13.41661300000017, 13.433279600000171, 13.449946200000172, 13.466612800000172, 13.483279400000173, 13.499946000000174, 13.516612600000174, 13.533279200000175, 13.549945800000176, 13.566612400000176, 13.583279000000177, 13.599945600000177, 13.616612200000178, 13.633278800000179, 13.64994540000018, 13.66661200000018, 13.68327860000018, 13.699945200000181, 13.716611800000182, 13.733278400000183, 13.749945000000183, 13.766611600000184, 13.783278200000185, 13.799944800000185, 13.816611400000186, 13.833278000000186, 13.849944600000187, 13.866611200000188, 13.883277800000188, 13.899944400000189, 13.91661100000019, 13.93327760000019, 13.949944200000191, 13.966610800000192, 13.983277400000192, 13.999944000000193, 14.016610600000194, 14.033277200000194, 14.049943800000195, 14.066610400000195, 14.083277000000196, 14.099943600000197, 14.116610200000197, 14.133276800000198, 14.149943400000199, 14.1666100000002, 14.1832766000002, 14.1999432000002, 14.216609800000201, 14.233276400000202, 14.249943000000203, 14.266609600000203, 14.283276200000204, 14.299942800000204, 14.316609400000205, 14.333276000000206, 14.349942600000206, 14.366609200000207, 14.383275800000208, 14.399942400000208, 14.416609000000209, 14.43327560000021, 14.44994220000021, 14.46660880000021, 14.483275400000212, 14.499942000000212, 14.516608600000213, 14.533275200000213, 14.549941800000214, 14.566608400000215, 14.583275000000215, 14.599941600000216, 14.616608200000217, 14.633274800000217, 14.649941400000218, 14.666608000000219, 14.68327460000022, 14.69994120000022, 14.71660780000022, 14.733274400000221, 14.749941000000222, 14.766607600000222, 14.783274200000223, 14.799940800000224, 14.816607400000224, 14.833274000000225, 14.849940600000226, 14.866607200000226, 14.883273800000227, 14.899940400000228, 14.916607000000228, 14.933273600000229, 14.94994020000023, 14.96660680000023, 14.98327340000023, 14.999940000000231, 15.016606600000232, 15.033273200000233, 15.049939800000233, 15.066606400000234, 15.083273000000235, 15.099939600000235, 15.116606200000236, 15.133272800000237, 15.149939400000237, 15.166606000000238, 15.183272600000238, 15.19993920000024, 15.21660580000024, 15.23327240000024, 15.249939000000241, 15.266605600000242, 15.283272200000242, 15.299938800000243, 15.316605400000244, 15.333272000000244, 15.349938600000245, 15.366605200000246, 15.383271800000246, 15.399938400000247, 15.416605000000247, 15.433271600000248, 15.449938200000249, 15.46660480000025, 15.48327140000025, 15.49993800000025, 15.516604600000251, 15.533271200000252, 15.549937800000253, 15.566604400000253, 15.583271000000254, 15.599937600000255, 15.616604200000255, 15.633270800000256, 15.649937400000256, 15.666604000000257, 15.683270600000258, 15.699937200000258, 15.716603800000259, 15.73327040000026, 15.74993700000026, 15.766603600000261, 15.783270200000262, 15.799936800000262, 15.816603400000263, 15.833270000000264, 15.849936600000264, 15.866603200000265, 15.883269800000265, 15.899936400000266, 15.916603000000267, 15.933269600000267, 15.949936200000268, 15.966602800000269, 15.98326940000027, 15.99993600000027, 16.01660260000027, 16.03326920000027, 16.04993580000027, 16.06660240000027, 16.08326900000027, 16.099935600000272, 16.116602200000273, 16.133268800000273, 16.149935400000274, 16.166602000000275, 16.183268600000275, 16.199935200000276, 16.216601800000277, 16.233268400000277, 16.249935000000278, 16.26660160000028, 16.28326820000028, 16.29993480000028, 16.31660140000028, 16.33326800000028, 16.34993460000028, 16.366601200000282, 16.383267800000283, 16.399934400000284, 16.416601000000284, 16.433267600000285, 16.449934200000286, 16.466600800000286, 16.483267400000287, 16.499934000000287, 16.516600600000288, 16.53326720000029, 16.54993380000029, 16.56660040000029, 16.58326700000029, 16.59993360000029, 16.616600200000292, 16.633266800000293, 16.649933400000293, 16.666600000000294, 16.683266600000294, 16.699933200000295, 16.716599800000296, 16.733266400000296, 16.749933000000297, 16.766599600000298, 16.7832662000003, 16.7999328000003, 16.8165994000003, 16.8332660000003, 16.8499326000003, 16.8665992000003, 16.883265800000302, 16.899932400000303, 16.916599000000303, 16.933265600000304, 16.949932200000305, 16.966598800000305, 16.983265400000306, 16.999932000000307, 17.016598600000307, 17.033265200000308, 17.04993180000031, 17.06659840000031, 17.08326500000031, 17.09993160000031, 17.11659820000031, 17.133264800000312, 17.149931400000312, 17.166598000000313, 17.183264600000314, 17.199931200000314, 17.216597800000315, 17.233264400000316, 17.249931000000316, 17.266597600000317, 17.283264200000318, 17.29993080000032, 17.31659740000032, 17.33326400000032, 17.34993060000032, 17.36659720000032, 17.38326380000032, 17.399930400000322, 17.416597000000323, 17.433263600000323, 17.449930200000324, 17.466596800000325, 17.483263400000325, 17.499930000000326, 17.516596600000327, 17.533263200000327, 17.549929800000328, 17.56659640000033, 17.58326300000033, 17.59992960000033, 17.61659620000033, 17.63326280000033, 17.64992940000033, 17.666596000000332, 17.683262600000333, 17.699929200000334, 17.716595800000334, 17.733262400000335, 17.749929000000336, 17.766595600000336, 17.783262200000337, 17.799928800000338, 17.816595400000338, 17.83326200000034, 17.84992860000034, 17.86659520000034, 17.88326180000034, 17.89992840000034, 17.916595000000342, 17.933261600000343, 17.949928200000343, 17.966594800000344, 17.983261400000345, 17.999928000000345, 18.016594600000346, 18.033261200000346, 18.049927800000347, 18.066594400000348, 18.08326100000035, 18.09992760000035, 18.11659420000035, 18.13326080000035, 18.14992740000035, 18.16659400000035, 18.183260600000352, 18.199927200000353, 18.216593800000354, 18.233260400000354, 18.249927000000355, 18.266593600000355, 18.283260200000356, 18.299926800000357, 18.316593400000357, 18.333260000000358, 18.34992660000036, 18.36659320000036, 18.38325980000036, 18.39992640000036, 18.41659300000036, 18.433259600000362, 18.449926200000363, 18.466592800000363, 18.483259400000364, 18.499926000000364, 18.516592600000365, 18.533259200000366, 18.549925800000366, 18.566592400000367, 18.583259000000368, 18.59992560000037, 18.61659220000037, 18.63325880000037, 18.64992540000037, 18.66659200000037, 18.68325860000037, 18.699925200000372, 18.716591800000373, 18.733258400000373, 18.749925000000374, 18.766591600000375, 18.783258200000375, 18.799924800000376, 18.816591400000377, 18.833258000000377, 18.849924600000378, 18.86659120000038, 18.88325780000038, 18.89992440000038, 18.91659100000038, 18.93325760000038, 18.949924200000382, 18.966590800000382, 18.983257400000383, 18.999924000000384, 19.016590600000384, 19.033257200000385, 19.049923800000386, 19.066590400000386, 19.083257000000387, 19.099923600000388, 19.116590200000388, 19.13325680000039, 19.14992340000039, 19.16659000000039, 19.18325660000039, 19.19992320000039, 19.216589800000392, 19.233256400000393, 19.249923000000393, 19.266589600000394, 19.283256200000395, 19.299922800000395, 19.316589400000396, 19.333256000000397, 19.349922600000397, 19.366589200000398, 19.3832558000004, 19.3999224000004, 19.4165890000004, 19.4332556000004, 19.4499222000004, 19.4665888000004, 19.483255400000402, 19.499922000000403, 19.516588600000404, 19.533255200000404, 19.549921800000405, 19.566588400000406, 19.583255000000406, 19.599921600000407, 19.616588200000407, 19.633254800000408, 19.64992140000041, 19.66658800000041, 19.68325460000041, 19.69992120000041, 19.71658780000041, 19.733254400000412, 19.749921000000413, 19.766587600000413, 19.783254200000414, 19.799920800000415, 19.816587400000415, 19.833254000000416, 19.849920600000416, 19.866587200000417, 19.883253800000418, 19.89992040000042, 19.91658700000042, 19.93325360000042, 19.94992020000042, 19.96658680000042, 19.98325340000042, 19.999920000000422, 20.016586600000423, 20.033253200000424, 20.049919800000424, 20.066586400000425, 20.083253000000425, 20.099919600000426, 20.116586200000427, 20.133252800000427, 20.149919400000428, 20.16658600000043, 20.18325260000043, 20.19991920000043, 20.21658580000043, 20.23325240000043, 20.249919000000432, 20.266585600000433, 20.283252200000433, 20.299918800000434, 20.316585400000434, 20.333252000000435, 20.349918600000436, 20.366585200000436, 20.383251800000437, 20.399918400000438, 20.41658500000044, 20.43325160000044, 20.44991820000044, 20.46658480000044, 20.48325140000044, 20.49991800000044, 20.516584600000442, 20.533251200000443, 20.549917800000443, 20.566584400000444, 20.583251000000445, 20.599917600000445, 20.616584200000446, 20.633250800000447, 20.649917400000447, 20.666584000000448, 20.68325060000045, 20.69991720000045, 20.71658380000045, 20.73325040000045, 20.74991700000045, 20.766583600000452, 20.783250200000452, 20.799916800000453, 20.816583400000454, 20.833250000000454, 20.849916600000455, 20.866583200000456, 20.883249800000456, 20.899916400000457, 20.916583000000458, 20.933249600000458, 20.94991620000046, 20.96658280000046, 20.98324940000046, 20.99991600000046, 21.01658260000046, 21.033249200000462, 21.049915800000463, 21.066582400000463, 21.083249000000464, 21.099915600000465, 21.116582200000465, 21.133248800000466, 21.149915400000467, 21.166582000000467, 21.183248600000468, 21.19991520000047, 21.21658180000047, 21.23324840000047, 21.24991500000047, 21.26658160000047, 21.28324820000047, 21.299914800000472, 21.316581400000473, 21.333248000000474, 21.349914600000474, 21.366581200000475, 21.383247800000476, 21.399914400000476, 21.416581000000477, 21.433247600000477, 21.449914200000478, 21.46658080000048, 21.48324740000048, 21.49991400000048, 21.51658060000048, 21.53324720000048, 21.549913800000482, 21.566580400000483, 21.583247000000483, 21.599913600000484, 21.616580200000485, 21.633246800000485, 21.649913400000486, 21.666580000000486, 21.683246600000487, 21.699913200000488, 21.71657980000049, 21.73324640000049, 21.74991300000049, 21.76657960000049, 21.78324620000049, 21.79991280000049, 21.816579400000492, 21.833246000000493, 21.849912600000494, 21.866579200000494, 21.883245800000495, 21.899912400000495, 21.916579000000496, 21.933245600000497, 21.949912200000497, 21.966578800000498, 21.9832454000005, 21.9999120000005, 22.0165786000005, 22.0332452000005, 22.0499118000005, 22.066578400000502, 22.083245000000503, 22.099911600000503, 22.116578200000504, 22.133244800000504, 22.149911400000505, 22.166578000000506, 22.183244600000506, 22.199911200000507, 22.216577800000508, 22.23324440000051, 22.24991100000051, 22.26657760000051, 22.28324420000051, 22.29991080000051, 22.31657740000051, 22.333244000000512, 22.349910600000513, 22.366577200000513, 22.383243800000514, 22.399910400000515, 22.416577000000515, 22.433243600000516, 22.449910200000517, 22.466576800000517, 22.483243400000518, 22.49991000000052, 22.51657660000052, 22.53324320000052, 22.54990980000052, 22.56657640000052, 22.58324300000052, 22.599909600000522, 22.616576200000523, 22.633242800000524, 22.649909400000524, 22.666576000000525, 22.683242600000526, 22.699909200000526, 22.716575800000527, 22.733242400000528, 22.749909000000528, 22.76657560000053, 22.78324220000053, 22.79990880000053, 22.81657540000053, 22.83324200000053, 22.849908600000532, 22.866575200000533, 22.883241800000533, 22.899908400000534, 22.916575000000535, 22.933241600000535, 22.949908200000536, 22.966574800000537, 22.983241400000537, 22.999908000000538, 23.01657460000054, 23.03324120000054, 23.04990780000054, 23.06657440000054, 23.08324100000054, 23.09990760000054, 23.116574200000542, 23.133240800000543, 23.149907400000544, 23.166574000000544, 23.183240600000545, 23.199907200000546, 23.216573800000546, 23.233240400000547, 23.249907000000547, 23.266573600000548, 23.28324020000055, 23.29990680000055, 23.31657340000055, 23.33324000000055, 23.34990660000055, 23.366573200000552, 23.383239800000553, 23.399906400000553, 23.416573000000554, 23.433239600000555, 23.449906200000555, 23.466572800000556, 23.483239400000556, 23.499906000000557, 23.516572600000558, 23.53323920000056, 23.54990580000056, 23.56657240000056, 23.58323900000056, 23.59990560000056, 23.61657220000056, 23.633238800000562, 23.649905400000563, 23.666572000000563, 23.683238600000564, 23.699905200000565, 23.716571800000565, 23.733238400000566, 23.749905000000567, 23.766571600000567, 23.783238200000568, 23.79990480000057, 23.81657140000057, 23.83323800000057, 23.84990460000057, 23.86657120000057, 23.883237800000572, 23.899904400000572, 23.916571000000573, 23.933237600000574, 23.949904200000574, 23.966570800000575, 23.983237400000576, 23.999904000000576, 24.016570600000577, 24.033237200000578, 24.04990380000058, 24.06657040000058, 24.08323700000058, 24.09990360000058, 24.11657020000058, 24.13323680000058, 24.149903400000582, 24.166570000000583, 24.183236600000583, 24.199903200000584, 24.216569800000585, 24.233236400000585, 24.249903000000586, 24.266569600000587, 24.283236200000587, 24.299902800000588, 24.31656940000059, 24.33323600000059, 24.34990260000059, 24.36656920000059, 24.38323580000059, 24.39990240000059, 24.416569000000592, 24.433235600000593, 24.449902200000594, 24.466568800000594, 24.483235400000595, 24.499902000000596, 24.516568600000596, 24.533235200000597, 24.549901800000598, 24.566568400000598, 24.5832350000006, 24.5999016000006, 24.6165682000006, 24.6332348000006, 24.6499014000006, 24.666568000000602, 24.683234600000603, 24.699901200000603, 24.716567800000604, 24.733234400000605, 24.749901000000605, 24.766567600000606, 24.783234200000607, 24.799900800000607, 24.816567400000608, 24.83323400000061, 24.84990060000061, 24.86656720000061, 24.88323380000061, 24.89990040000061, 24.91656700000061, 24.933233600000612, 24.949900200000613, 24.966566800000614, 24.983233400000614, 24.999900000000615, 25.016566600000615, 25.033233200000616, 25.049899800000617, 25.066566400000617, 25.083233000000618, 25.09989960000062, 25.11656620000062, 25.13323280000062, 25.14989940000062, 25.16656600000062, 25.183232600000622, 25.199899200000623, 25.216565800000623, 25.233232400000624, 25.249899000000624, 25.266565600000625, 25.283232200000626, 25.299898800000626, 25.316565400000627, 25.333232000000628, 25.34989860000063, 25.36656520000063, 25.38323180000063, 25.39989840000063, 25.41656500000063, 25.43323160000063]\n",
            "      sample_time\n",
            "0        0.016667\n",
            "1        0.033333\n",
            "2        0.050000\n",
            "3        0.066666\n",
            "4        0.083333\n",
            "...           ...\n",
            "1521    25.366565\n",
            "1522    25.383232\n",
            "1523    25.399898\n",
            "1524    25.416565\n",
            "1525    25.433232\n",
            "\n",
            "[1526 rows x 1 columns]\n"
          ]
        }
      ]
    },
    {
      "cell_type": "code",
      "source": [
        "data490 = pd.read_csv('/content/drive/MyDrive/Finalproject/face_videos/490.csv')\n",
        "print(data490)\n",
        "\n",
        "# res = pd.concat([data490, hr_df] , axis=1)\n",
        "# print(res)\n",
        "# res.to_csv(\"/content/drive/MyDrive/Finalproject/face_videos/test.csv\" , index_label=\"index_label\")\n",
        "# res.to_csv(\"/content/drive/MyDrive/Finalproject/face_videos/test710.csv\")\n",
        "\n"
      ],
      "metadata": {
        "colab": {
          "base_uri": "https://localhost:8080/"
        },
        "id": "VEYCwqk9BPxc",
        "outputId": "a1d75cf0-e196-4987-b5f8-f8bd7d121439"
      },
      "execution_count": 22,
      "outputs": [
        {
          "output_type": "stream",
          "name": "stdout",
          "text": [
            "      Unnamed: 0  #signal_strength  bar_graph  ...  byte8  Unnamed: 14  sample_time\n",
            "0              0                 5          4  ...     ff          NaN     0.016667\n",
            "1              1                 5          4  ...     ff          NaN     0.033333\n",
            "2              2                 5          5  ...     ff          NaN     0.050000\n",
            "3              3                 5          6  ...     ff          NaN     0.066666\n",
            "4              4                 5          7  ...     ff          NaN     0.083333\n",
            "...          ...               ...        ...  ...    ...          ...          ...\n",
            "1515        1515                 5          6  ...     ff          NaN    25.266566\n",
            "1516        1516                 5          5  ...     ff          NaN    25.283232\n",
            "1517        1517                 5          5  ...     ff          NaN    25.299899\n",
            "1518        1518                 5          5  ...     ff          NaN    25.316565\n",
            "1519        1519                 5          5  ...     ff          NaN    25.333232\n",
            "\n",
            "[1520 rows x 17 columns]\n"
          ]
        }
      ]
    },
    {
      "cell_type": "code",
      "source": [
        ""
      ],
      "metadata": {
        "id": "Czu6nT6i5Rpa"
      },
      "execution_count": null,
      "outputs": []
    },
    {
      "cell_type": "code",
      "source": [
        "def compute_hr_for_rhythmnet():\n",
        "    data_files = glob.glob(\"/content/drive/MyDrive/Finalproject/face_videos/\"+ \"*.csv\")\n",
        "    # for file in tqdm(data_files):\n",
        "\n",
        "    for file in tqdm(data_files[:5]):   \n",
        "        print(file)\n",
        "        signal_df = pd.read_csv(file)\n",
        "        signal_data, timestamps = signal_df[\"waveform\"].values, signal_df[\"sample_time\"].values\n",
        "        video_path = FACE_DATA_DIR + f\"{file.split('/')[-1].split('.')[0]}.avi\"\n",
        "        print(video_path)\n",
        "        video_meta_data = get_frames_and_video_meta_data(video_path, meta_data_only=True)\n",
        "        # hr_segmentwise = hp.process_segmentwise(signal_df[\"Signal\"].values, sample_rate=128, segment_width=10, segment_overlap=0.951)\n",
        "        # hr_segmentwise = hr_segmentwise[1][\"bpm\"]\n",
        "        # plt.plot(np.arange(len(hr_segmentwise)), hr_segmentwise)\n",
        "        # plt.show()\n",
        "        npy_path = f\"{ST_MAPS_PATH}{file.split('/')[-1].split('.')[0]}.npy\"\n",
        "        print(os.path.exists(npy_path))\n",
        "        if os.path.exists(npy_path):\n",
        "            print(\"the loop was running\")\n",
        "            video_meta_data[\"num_maps\"] = np.load(f\"{ST_MAPS_PATH}{file.split('/')[-1].split('.')[0]}.npy\").shape[0]\n",
        "        else:\n",
        "            continue      \n",
        "        hr = np.asarray(calculate_hr_clip_wise(timestamps, signal_df, video_meta_data), dtype=\"float32\")\n",
        "        file_name = file.split(\"/\")[-1].split(\".\")[0].split(\" \")[0]\n",
        "        hr_df = pd.DataFrame(hr, columns=[\"hr_bpm\"])\n",
        "        print(\"!!!!!!!!!!!!!!!!!!!!!!!!\")\n",
        "        hr_df.to_csv(f\"HR_DATA_PATH{file_name}.csv\", index=False)\n",
        "        print(\"eheee\")\n",
        "\n",
        "\n",
        "# Function to compute and store the HR values as csv (HR values measured clip-wise i.e. per st_map per video)\n",
        "def calculate_hr_clip_wise(timestamps=None, signal_df=None, video_meta_data=None):\n",
        "    print( video_meta_data[\"sliding_window_stride\"]) # 10\n",
        "    print(video_meta_data[\"frame_rate\"])  # 20\n",
        "    sliding_window_stride = int((video_meta_data[\"sliding_window_stride\"]/video_meta_data[\"frame_rate\"])*1000) # 500\n",
        "\n",
        "    sliding_window_size_frame = int((CLIP_SIZE/video_meta_data[\"frame_rate\"])) # 15 \n",
        "    print(f\"this is the sliding_window_stride : {sliding_window_stride}\")\n",
        "    print(f\"this is the sliding_window_size_frame : {sliding_window_size_frame}\")\n",
        "    # convert to milliseconds\n",
        "    sliding_window_size = sliding_window_size_frame * 1000\n",
        "    # num_maps = int((video_meta_data[\"num_frames\"] - config.CLIP_SIZE)/sliding_window_size_frame) + 1\n",
        "    num_maps = video_meta_data[\"num_maps\"] # 21 \n",
        "    print(f\"this is the num_maps : {num_maps}\")\n",
        "    #print(len(timestamps))\n",
        "    count = 0\n",
        "    hr_list = []\n",
        "\n",
        "    #here i convert the timestampes into milliseconds\n",
        "    for start_time in range(0, int(timestamps[-1])*1000, sliding_window_stride):\n",
        "      \n",
        "        print(f\"this is the start_time : {start_time}\")\n",
        "        print(f\"this is the sliding_window_stride : {sliding_window_stride}\")\n",
        "        if count == num_maps:\n",
        "            break\n",
        "        # start_index = np.where(timestamps == start_time)\n",
        "        end_time = start_time + sliding_window_size\n",
        "        # end_index = np.where(timestamps == end_time)\n",
        "        start_index = np.searchsorted(timestamps, start_time, side='left')\n",
        "        end_index = np.searchsorted(timestamps, end_time, side='left')\n",
        "        print(start_index)\n",
        "        print(end_index)\n",
        "\n",
        "        # start_index = start_index[0][0]\n",
        "        if end_index == 0:\n",
        "            end_index = len(timestamps) - 1\n",
        "            # break\n",
        "\n",
        "        curr_data = signal_df.iloc[start_index:end_index]\n",
        "        time_intervals = curr_data[\"sample_time\"].values\n",
        "        # c = time_intervals[2] - time_intervals[1]\n",
        "        # print( c)\n",
        "        time_val = 0\n",
        "        ibi_array = [time_intervals[idx + 1] - time_intervals[idx] for idx, time_val in enumerate(time_intervals[:-1])]\n",
        "        print(ibi_array)\n",
        "        if len(ibi_array) == 0:\n",
        "            hr_bpm = hr_list[-1]\n",
        "        else:\n",
        "            hr_bpm = 1000/np.mean(ibi_array)*60\n",
        "            print(f\"this is the hr_bpm : {hr_bpm}\")\n",
        "        hr_list.append(hr_bpm)\n",
        "\n",
        "\n",
        "        count += 1\n",
        "\n",
        "    print(f\"this is the hr_list : {hr_list}\")\n",
        "    plt.plot(np.arange(len(hr_list)), hr_list)\n",
        "    plt.show()\n",
        "    return hr_list\n"
      ],
      "metadata": {
        "id": "nbQGuT53-oCJ"
      },
      "execution_count": 37,
      "outputs": []
    },
    {
      "cell_type": "code",
      "source": [
        "\n",
        "def calculate_hr(signal_data, timestamps=None):\n",
        "    sampling_rate = 47.63\n",
        "    if timestamps is not None:\n",
        "        sampling_rate = hp.get_samplerate_mstimer(timestamps)\n",
        "        try:\n",
        "            wd, m = hp.process(signal_data, sample_rate=sampling_rate)\n",
        "            hr_bpm = m[\"bpm\"]\n",
        "        except:\n",
        "            hr_bpm = 75.0\n",
        "\n",
        "        if np.isnan(hr_bpm):\n",
        "            hr_bpm = 75.0\n",
        "        return hr_bpm\n",
        "\n",
        "    else:\n",
        "        # We are working with predicted HR:\n",
        "        # need to filter and do other stuff.. lets see\n",
        "        signal_data = hp.filter_signal(signal_data, cutoff=[0.7, 2.5], sample_rate=sampling_rate, order=6,\n",
        "                                       filtertype='bandpass')\n",
        "        try:\n",
        "            wd, m = hp.process(signal_data, sample_rate=sampling_rate, high_precision=True, clean_rr=True)\n",
        "            hr_bpm = m[\"bpm\"]\n",
        "        except:\n",
        "            print(\"BadSignal received (could not be filtered) using def HR value = 75bpm\")\n",
        "            hr_bpm = 75.0\n",
        "        return hr_bpm"
      ],
      "metadata": {
        "id": "S5T6ZyVqcmIX"
      },
      "execution_count": 34,
      "outputs": []
    },
    {
      "cell_type": "code",
      "source": [
        "test1 = pd.read_csv(\"/content/drive/MyDrive/Finalproject/face_videos/490.csv\")\n",
        "print(test1[\"waveform\"])\n",
        "signal_data = test1[\"waveform\"].values\n",
        "timesampes = test1[\"sample_time\"].values\n",
        "hr_bpm = calculate_hr(signal_data ,  timesampes)\n",
        "\n",
        "print(hr_bpm)"
      ],
      "metadata": {
        "colab": {
          "base_uri": "https://localhost:8080/"
        },
        "id": "VrrRSzyDc8x1",
        "outputId": "911913cb-90c7-4152-b00e-56fd4d6feaa5"
      },
      "execution_count": 36,
      "outputs": [
        {
          "output_type": "stream",
          "name": "stdout",
          "text": [
            "0       32\n",
            "1       39\n",
            "2       45\n",
            "3       52\n",
            "4       57\n",
            "        ..\n",
            "1515    49\n",
            "1516    46\n",
            "1517    44\n",
            "1518    42\n",
            "1519    40\n",
            "Name: waveform, Length: 1520, dtype: int64\n",
            "75.0\n"
          ]
        }
      ]
    },
    {
      "cell_type": "code",
      "source": [
        "time_intervals = test1[\"sample_time\"].values\n",
        "\n",
        "ibi_array = [time_intervals[idx + 1] - time_intervals[idx] for idx, time_val in enumerate(time_intervals[:-1])]\n",
        "\n",
        "print(len(ibi_array))"
      ],
      "metadata": {
        "id": "F_64AXxoN2EG",
        "colab": {
          "base_uri": "https://localhost:8080/"
        },
        "outputId": "8536fc52-5a62-4320-d5b9-364503f7057d"
      },
      "execution_count": 42,
      "outputs": [
        {
          "output_type": "stream",
          "name": "stdout",
          "text": [
            "1519\n"
          ]
        }
      ]
    },
    {
      "cell_type": "code",
      "source": [
        "compute_hr_for_rhythmnet()"
      ],
      "metadata": {
        "colab": {
          "base_uri": "https://localhost:8080/",
          "height": 1000
        },
        "id": "EpM6m9ZA_JhY",
        "outputId": "5a2ed20d-1a98-4a9f-e64e-0e23f4fcb474"
      },
      "execution_count": 38,
      "outputs": [
        {
          "output_type": "stream",
          "name": "stderr",
          "text": [
            "\r  0%|          | 0/5 [00:00<?, ?it/s]"
          ]
        },
        {
          "output_type": "stream",
          "name": "stdout",
          "text": [
            "/content/drive/MyDrive/Finalproject/face_videos/610.csv\n",
            "/content/drive/MyDrive/Finalproject/face_videos/610.avi\n",
            "True\n",
            "the loop was running\n",
            "10\n",
            "20.0\n",
            "this is the sliding_window_stride : 500\n",
            "this is the sliding_window_size_frame : 15\n",
            "this is the num_maps : 21\n",
            "this is the start_time : 0\n",
            "this is the sliding_window_stride : 500\n",
            "0\n",
            "1527\n",
            "[0.0166666, 0.016666599999999997, 0.016666600000000004, 0.016666600000000004, 0.01666659999999999, 0.016666600000000004, 0.016666600000000004, 0.016666600000000004, 0.016666600000000004, 0.016666600000000004, 0.016666599999999976, 0.016666600000000004, 0.016666600000000004, 0.016666600000000004, 0.016666600000000004, 0.016666599999999976, 0.01666659999999992, 0.016666599999999976, 0.01666660000000003, 0.016666599999999976, 0.01666659999999992, 0.016666599999999976, 0.01666660000000003, 0.016666599999999976, 0.01666659999999992, 0.016666599999999976, 0.01666660000000003, 0.016666599999999976, 0.01666659999999992, 0.016666600000000087, 0.016666599999999976, 0.016666599999999976, 0.016666599999999976, 0.016666599999999976, 0.016666599999999976, 0.016666599999999976, 0.016666599999999976, 0.016666599999999976, 0.016666599999999976, 0.016666599999999976, 0.016666599999999976, 0.016666599999999976, 0.016666599999999976, 0.016666599999999976, 0.016666599999999976, 0.016666599999999976, 0.016666599999999976, 0.016666599999999976, 0.016666599999999976, 0.016666599999999976, 0.016666599999999976, 0.016666599999999976, 0.016666599999999976, 0.016666600000000087, 0.016666599999999976, 0.016666599999999976, 0.016666599999999865, 0.016666599999999976, 0.016666599999999976, 0.016666599999999976, 0.016666599999999976, 0.016666599999999976, 0.016666599999999976, 0.016666599999999976, 0.016666599999999976, 0.016666599999999976, 0.016666599999999976, 0.016666599999999976, 0.016666599999999976, 0.016666599999999976, 0.016666599999999976, 0.016666600000000198, 0.016666599999999976, 0.016666599999999754, 0.016666599999999976, 0.016666599999999976, 0.016666599999999976, 0.016666599999999754, 0.016666599999999976, 0.016666600000000198, 0.016666599999999976, 0.016666599999999976, 0.016666599999999976, 0.016666599999999976, 0.016666599999999976, 0.016666599999999976, 0.016666599999999976, 0.016666599999999976, 0.016666600000000198, 0.016666599999999754, 0.016666599999999976, 0.016666599999999976, 0.016666599999999976, 0.016666599999999976, 0.016666599999999754, 0.016666600000000198, 0.016666599999999976, 0.016666599999999976, 0.016666599999999976, 0.016666599999999976, 0.016666599999999976, 0.016666599999999976, 0.016666599999999976, 0.016666599999999976, 0.016666600000000198, 0.016666599999999976, 0.016666599999999754, 0.016666599999999754, 0.016666599999999976, 0.016666599999999976, 0.016666599999999976, 0.016666599999999976, 0.016666600000000198, 0.016666599999999976, 0.016666599999999976, 0.016666599999999976, 0.016666599999999976, 0.016666599999999976, 0.016666599999999532, 0.016666600000000642, 0.016666600000000198, 0.016666600000000198, 0.016666600000000198, 0.016666600000000198, 0.016666600000000198, 0.016666600000000198, 0.016666600000000198, 0.016666600000000642, 0.016666599999999754, 0.016666600000000642, 0.016666599999999754, 0.016666600000000198, 0.016666600000000198, 0.016666600000000198, 0.016666600000000198, 0.016666600000000198, 0.016666600000000198, 0.016666600000000198, 0.016666599999999754, 0.016666600000000642, 0.016666600000000198, 0.016666600000000198, 0.016666600000000198, 0.016666600000000198, 0.016666600000000198, 0.016666600000000198, 0.016666600000000198, 0.016666600000000642, 0.016666599999999754, 0.016666600000000642, 0.016666599999999754, 0.016666600000000198, 0.016666600000000198, 0.016666600000000198, 0.016666600000000198, 0.016666600000000198, 0.016666600000000198, 0.016666600000000198, 0.016666599999999754, 0.016666600000000642, 0.016666600000000198, 0.016666600000000198, 0.016666600000000198, 0.016666600000000198, 0.016666600000000198, 0.016666600000000198, 0.016666600000000198, 0.016666600000000198, 0.016666600000000198, 0.016666600000000642, 0.016666599999999754, 0.016666600000000198, 0.016666599999999754, 0.016666600000000642, 0.016666600000000198, 0.016666600000000198, 0.016666600000000198, 0.016666599999999754, 0.016666600000000198, 0.016666600000000642, 0.016666600000000198, 0.016666600000000198, 0.016666600000000198, 0.016666600000000198, 0.016666600000000198, 0.016666600000000198, 0.016666600000000198, 0.016666600000000198, 0.016666600000000198, 0.016666600000000642, 0.016666599999999754, 0.016666600000000198, 0.016666600000000198, 0.016666600000000198, 0.016666600000000198, 0.016666600000000198, 0.016666600000000198, 0.016666600000000198, 0.016666600000000198, 0.016666600000000198, 0.016666600000000198, 0.016666600000000198, 0.016666600000000198, 0.016666600000000198, 0.016666600000000198, 0.016666600000000198, 0.016666600000000198, 0.016666600000000198, 0.016666600000000642, 0.016666600000000198, 0.016666600000000198, 0.016666599999999754, 0.016666600000000198, 0.016666600000000198, 0.016666600000000642, 0.016666599999999754, 0.016666600000000198, 0.016666600000000198, 0.016666599999999754, 0.016666600000000642, 0.016666600000000198, 0.016666600000000198, 0.016666600000000198, 0.01666659999999931, 0.016666600000001086, 0.016666599999999754, 0.016666600000000642, 0.016666600000000198, 0.016666600000000198, 0.016666600000000642, 0.016666600000000198, 0.016666599999999754, 0.016666600000000198, 0.016666599999999754, 0.016666600000001086, 0.016666599999999754, 0.016666600000000198, 0.016666600000000198, 0.016666599999999754, 0.016666600000000642, 0.016666599999999754, 0.016666599999999754, 0.016666599999999754, 0.016666599999999754, 0.016666599999999754, 0.016666599999999754, 0.016666599999999754, 0.016666600000000642, 0.016666599999998866, 0.016666599999999754, 0.016666599999999754, 0.016666599999999754, 0.016666599999999754, 0.016666599999999754, 0.016666599999999754, 0.016666599999999754, 0.016666599999999754, 0.016666599999999754, 0.016666599999999754, 0.016666599999999754, 0.016666599999999754, 0.016666599999999754, 0.016666599999999754, 0.016666599999999754, 0.016666599999999754, 0.016666599999999754, 0.016666599999999754, 0.016666599999999754, 0.016666599999999754, 0.016666599999999754, 0.016666599999999754, 0.016666599999999754, 0.016666599999999754, 0.016666599999999754, 0.016666599999999754, 0.016666599999999754, 0.016666599999999754, 0.016666599999999754, 0.016666599999999754, 0.016666599999999754, 0.016666599999999754, 0.016666599999999754, 0.016666599999999754, 0.016666599999999754, 0.016666599999999754, 0.016666599999999754, 0.016666599999999754, 0.016666599999999754, 0.016666599999999754, 0.016666599999999754, 0.016666599999999754, 0.016666599999999754, 0.016666599999999754, 0.016666599999999754, 0.016666599999999754, 0.016666599999999754, 0.016666600000000642, 0.016666599999998866, 0.016666599999999754, 0.016666599999999754, 0.016666600000000642, 0.016666599999998866, 0.016666599999999754, 0.016666599999999754, 0.016666599999999754, 0.016666599999999754, 0.016666599999999754, 0.016666599999999754, 0.016666599999999754, 0.016666599999999754, 0.016666599999999754, 0.016666599999999754, 0.016666600000000642, 0.016666599999998866, 0.016666599999999754, 0.016666599999999754, 0.016666599999999754, 0.016666599999999754, 0.016666599999999754, 0.016666599999999754, 0.016666599999999754, 0.016666599999999754, 0.016666599999999754, 0.016666599999999754, 0.016666599999999754, 0.016666599999999754, 0.016666599999999754, 0.016666599999999754, 0.016666599999999754, 0.016666599999999754, 0.016666599999999754, 0.016666599999999754, 0.016666599999999754, 0.016666599999999754, 0.016666599999999754, 0.016666599999999754, 0.016666599999999754, 0.016666599999999754, 0.016666599999999754, 0.016666599999999754, 0.016666599999999754, 0.016666599999999754, 0.016666599999999754, 0.016666599999999754, 0.016666599999999754, 0.016666599999999754, 0.016666599999999754, 0.016666599999999754, 0.016666599999999754, 0.016666599999999754, 0.016666599999999754, 0.016666599999999754, 0.016666599999999754, 0.016666599999999754, 0.016666599999999754, 0.016666599999999754, 0.016666599999999754, 0.016666599999999754, 0.016666599999999754, 0.016666599999999754, 0.016666599999999754, 0.016666600000000642, 0.016666599999998866, 0.016666599999999754, 0.016666599999999754, 0.016666600000000642, 0.016666599999998866, 0.016666599999999754, 0.016666599999999754, 0.016666599999999754, 0.016666599999999754, 0.016666599999999754, 0.016666599999999754, 0.016666599999999754, 0.016666599999999754, 0.016666599999999754, 0.016666599999999754, 0.016666600000000642, 0.016666599999998866, 0.016666599999999754, 0.016666599999999754, 0.016666599999999754, 0.016666599999999754, 0.016666599999999754, 0.016666599999999754, 0.016666599999999754, 0.016666599999999754, 0.016666599999999754, 0.016666599999999754, 0.016666599999999754, 0.016666599999999754, 0.016666599999999754, 0.016666599999999754, 0.016666599999999754, 0.016666599999999754, 0.016666599999999754, 0.016666599999999754, 0.016666599999999754, 0.016666599999999754, 0.016666599999999754, 0.016666599999999754, 0.016666599999999754, 0.016666599999999754, 0.016666599999999754, 0.016666599999999754, 0.016666599999999754, 0.016666599999999754, 0.016666599999999754, 0.016666599999999754, 0.016666599999999754, 0.016666599999999754, 0.016666599999999754, 0.016666599999999754, 0.016666599999999754, 0.016666599999999754, 0.016666599999999754, 0.016666599999999754, 0.016666599999999754, 0.016666599999999754, 0.016666599999999754, 0.016666599999999754, 0.016666599999999754, 0.016666599999998866, 0.016666600000000642, 0.016666599999999754, 0.016666599999999754, 0.016666600000000642, 0.016666599999998866, 0.016666599999999754, 0.016666599999999754, 0.016666600000000642, 0.016666599999998866, 0.016666599999999754, 0.016666599999999754, 0.016666599999998866, 0.016666600000000642, 0.016666599999999754, 0.016666599999999754, 0.016666599999998866, 0.016666600000000642, 0.016666599999999754, 0.016666599999999754, 0.016666599999999754, 0.016666599999999754, 0.016666599999999754, 0.016666599999999754, 0.016666599999998866, 0.016666600000000642, 0.016666599999999754, 0.016666599999999754, 0.016666599999999754, 0.016666599999999754, 0.016666599999999754, 0.016666599999999754, 0.016666599999999754, 0.016666599999999754, 0.016666599999999754, 0.016666599999999754, 0.016666599999999754, 0.016666599999999754, 0.016666599999999754, 0.016666599999999754, 0.016666599999999754, 0.016666599999999754, 0.016666599999999754, 0.016666599999999754, 0.016666599999999754, 0.016666599999999754, 0.016666599999999754, 0.016666599999999754, 0.016666599999999754, 0.016666599999999754, 0.016666599999999754, 0.016666599999999754, 0.016666599999999754, 0.016666599999999754, 0.016666599999999754, 0.016666599999999754, 0.016666599999999754, 0.016666599999999754, 0.016666600000000642, 0.016666600000000642, 0.016666600000000642, 0.016666600000000642, 0.016666600000000642, 0.016666600000000642, 0.016666600000000642, 0.016666600000000642, 0.016666600000000642, 0.016666600000000642, 0.016666600000000642, 0.016666600000000642, 0.016666600000000642, 0.016666600000000642, 0.016666600000000642, 0.016666600000000642, 0.016666600000000642, 0.016666600000000642, 0.016666600000000642, 0.016666600000000642, 0.016666600000000642, 0.016666600000000642, 0.016666600000000642, 0.016666600000000642, 0.016666600000000642, 0.016666600000000642, 0.016666600000000642, 0.016666600000000642, 0.016666600000000642, 0.016666600000000642, 0.016666600000000642, 0.016666600000000642, 0.016666600000000642, 0.016666600000000642, 0.016666600000000642, 0.016666600000000642, 0.016666600000000642, 0.016666600000000642, 0.016666600000000642, 0.016666600000000642, 0.016666600000000642, 0.016666600000000642, 0.016666600000000642, 0.016666600000000642, 0.016666600000000642, 0.016666600000000642, 0.016666600000000642, 0.016666600000000642, 0.016666600000000642, 0.016666600000000642, 0.016666600000000642, 0.016666600000000642, 0.016666600000000642, 0.016666600000000642, 0.016666600000000642, 0.016666600000000642, 0.016666600000000642, 0.016666600000000642, 0.016666600000000642, 0.016666599999998866, 0.01666660000000242, 0.016666600000000642, 0.01666660000000242, 0.016666599999998866, 0.016666600000000642, 0.016666600000000642, 0.016666599999998866, 0.01666660000000242, 0.01666660000000242, 0.016666599999998866, 0.016666600000000642, 0.016666600000000642, 0.016666600000000642, 0.016666600000000642, 0.016666600000000642, 0.016666600000000642, 0.016666600000000642, 0.016666600000000642, 0.016666599999998866, 0.01666660000000242, 0.016666600000000642, 0.01666660000000242, 0.016666599999998866, 0.016666600000000642, 0.016666599999998866, 0.01666660000000242, 0.016666600000000642, 0.01666660000000242, 0.016666599999998866, 0.016666600000000642, 0.016666600000000642, 0.016666599999998866, 0.01666660000000242, 0.01666660000000242, 0.016666599999998866, 0.016666600000000642, 0.016666600000000642, 0.016666599999998866, 0.01666660000000242, 0.01666660000000242, 0.016666599999998866, 0.016666600000000642, 0.016666600000000642, 0.016666600000000642, 0.016666600000000642, 0.016666600000000642, 0.016666600000000642, 0.016666600000000642, 0.016666600000000642, 0.016666599999998866, 0.01666660000000242, 0.016666600000000642, 0.01666660000000242, 0.016666599999998866, 0.016666600000000642, 0.016666599999998866, 0.01666660000000242, 0.016666600000000642, 0.01666660000000242, 0.016666599999998866, 0.016666600000000642, 0.016666600000000642, 0.016666599999998866, 0.01666660000000242, 0.01666660000000242, 0.016666599999998866, 0.016666600000000642, 0.016666600000000642, 0.016666599999998866, 0.01666660000000242, 0.01666660000000242, 0.016666599999998866, 0.016666600000000642, 0.016666600000000642, 0.016666599999998866, 0.01666660000000242, 0.016666600000000642, 0.01666660000000242, 0.016666599999998866, 0.016666600000000642, 0.016666599999998866, 0.01666660000000242, 0.016666600000000642, 0.01666660000000242, 0.016666599999998866, 0.016666600000000642, 0.016666600000000642, 0.016666599999998866, 0.01666660000000242, 0.01666660000000242, 0.016666599999998866, 0.016666600000000642, 0.016666600000000642, 0.016666599999998866, 0.01666660000000242, 0.01666660000000242, 0.016666599999998866, 0.016666600000000642, 0.016666600000000642, 0.016666599999998866, 0.01666660000000242, 0.016666600000000642, 0.01666660000000242, 0.016666599999998866, 0.016666600000000642, 0.016666599999998866, 0.01666660000000242, 0.016666600000000642, 0.01666660000000242, 0.016666599999998866, 0.016666600000000642, 0.016666600000000642, 0.016666599999998866, 0.01666660000000242, 0.01666660000000242, 0.016666599999998866, 0.016666600000000642, 0.016666600000000642, 0.016666599999998866, 0.01666660000000242, 0.01666660000000242, 0.016666599999998866, 0.016666600000000642, 0.016666600000000642, 0.016666599999998866, 0.01666660000000242, 0.016666600000000642, 0.016666600000000642, 0.016666600000000642, 0.016666600000000642, 0.016666599999998866, 0.01666660000000242, 0.016666600000000642, 0.01666660000000242, 0.016666599999998866, 0.016666600000000642, 0.016666599999998866, 0.01666660000000242, 0.016666600000000642, 0.016666600000000642, 0.016666600000000642, 0.016666600000000642, 0.016666600000000642, 0.016666599999998866, 0.01666660000000242, 0.01666660000000242, 0.016666599999998866, 0.016666600000000642, 0.016666600000000642, 0.016666599999998866, 0.01666660000000242, 0.01666660000000242, 0.016666599999998866, 0.016666600000000642, 0.016666600000000642, 0.016666599999998866, 0.01666660000000242, 0.016666600000000642, 0.01666660000000242, 0.016666599999998866, 0.016666600000000642, 0.016666599999998866, 0.01666660000000242, 0.016666600000000642, 0.01666660000000242, 0.016666599999998866, 0.016666600000000642, 0.016666600000000642, 0.016666600000000642, 0.016666600000000642, 0.016666600000000642, 0.016666600000000642, 0.016666600000000642, 0.016666600000000642, 0.016666599999998866, 0.01666660000000242, 0.01666660000000242, 0.016666599999998866, 0.016666600000000642, 0.016666600000000642, 0.016666599999998866, 0.01666660000000242, 0.016666600000000642, 0.01666660000000242, 0.016666599999998866, 0.016666600000000642, 0.016666599999998866, 0.01666660000000242, 0.016666600000000642, 0.01666660000000242, 0.016666599999998866, 0.016666600000000642, 0.016666600000000642, 0.016666599999998866, 0.01666660000000242, 0.01666660000000242, 0.016666599999998866, 0.016666600000000642, 0.016666600000000642, 0.016666600000000642, 0.016666600000000642, 0.016666600000000642, 0.016666600000000642, 0.016666600000000642, 0.016666600000000642, 0.016666599999998866, 0.01666660000000242, 0.016666600000000642, 0.016666600000000642, 0.016666600000000642, 0.016666600000000642, 0.016666599999998866, 0.01666660000000242, 0.016666600000000642, 0.01666660000000242, 0.016666599999998866, 0.016666600000000642, 0.016666599999998866, 0.01666660000000242, 0.016666600000000642, 0.01666660000000242, 0.016666599999998866, 0.016666600000000642, 0.016666600000000642, 0.016666599999998866, 0.01666660000000242, 0.01666660000000242, 0.016666599999998866, 0.016666600000000642, 0.016666600000000642, 0.016666600000000642, 0.016666600000000642, 0.016666600000000642, 0.016666600000000642, 0.016666600000000642, 0.016666600000000642, 0.016666599999998866, 0.01666660000000242, 0.016666600000000642, 0.01666660000000242, 0.016666599999998866, 0.016666600000000642, 0.016666599999998866, 0.01666660000000242, 0.016666600000000642, 0.01666660000000242, 0.016666599999998866, 0.016666600000000642, 0.016666600000000642, 0.016666599999998866, 0.01666660000000242, 0.01666660000000242, 0.016666599999998866, 0.016666600000000642, 0.016666600000000642, 0.016666599999998866, 0.01666660000000242, 0.01666660000000242, 0.016666599999998866, 0.016666600000000642, 0.016666600000000642, 0.016666600000000642, 0.016666600000000642, 0.016666600000000642, 0.01666660000000242, 0.016666599999998866, 0.016666600000000642, 0.016666599999998866, 0.01666660000000242, 0.016666600000000642, 0.01666660000000242, 0.016666599999998866, 0.016666600000000642, 0.016666600000000642, 0.016666599999998866, 0.01666660000000242, 0.01666660000000242, 0.016666599999998866, 0.016666600000000642, 0.016666600000000642, 0.016666599999998866, 0.01666660000000242, 0.01666660000000242, 0.016666599999998866, 0.016666600000000642, 0.016666600000000642, 0.016666599999998866, 0.01666660000000242, 0.016666600000000642, 0.016666600000000642, 0.016666600000000642, 0.016666600000000642, 0.016666599999998866, 0.01666660000000242, 0.016666600000000642, 0.01666660000000242, 0.016666599999998866, 0.016666600000000642, 0.016666599999998866, 0.01666660000000242, 0.016666600000000642, 0.01666660000000242, 0.016666599999998866, 0.016666600000000642, 0.016666600000000642, 0.016666599999998866, 0.01666660000000242, 0.01666660000000242, 0.016666599999998866, 0.016666600000000642, 0.016666600000000642, 0.016666599999998866, 0.01666660000000242, 0.01666660000000242, 0.016666599999998866, 0.016666600000000642, 0.016666600000000642, 0.016666599999998866, 0.01666660000000242, 0.016666600000000642, 0.01666660000000242, 0.016666599999998866, 0.016666600000000642, 0.016666599999998866, 0.01666660000000242, 0.016666600000000642, 0.016666600000000642, 0.016666600000000642, 0.016666600000000642, 0.016666600000000642, 0.016666599999998866, 0.01666660000000242, 0.01666660000000242, 0.016666599999998866, 0.016666600000000642, 0.016666600000000642, 0.016666599999998866, 0.01666660000000242, 0.01666660000000242, 0.016666599999998866, 0.016666600000000642, 0.016666600000000642, 0.016666599999998866, 0.01666660000000242, 0.016666600000000642, 0.01666660000000242, 0.016666599999998866, 0.016666600000000642, 0.016666599999998866, 0.01666660000000242, 0.016666600000000642, 0.01666660000000242, 0.016666599999998866, 0.016666600000000642, 0.016666600000000642, 0.016666600000000642, 0.016666600000000642, 0.016666600000000642, 0.016666600000000642, 0.016666600000000642, 0.016666600000000642, 0.016666599999998866, 0.01666660000000242, 0.01666660000000242, 0.016666599999998866, 0.016666600000000642, 0.016666600000000642, 0.016666599999998866, 0.01666660000000242, 0.016666600000000642, 0.016666600000000642, 0.016666600000000642, 0.016666600000000642, 0.016666599999998866, 0.01666660000000242, 0.016666600000000642, 0.01666660000000242, 0.016666599999998866, 0.016666600000000642, 0.016666599999998866, 0.01666660000000242, 0.016666600000000642, 0.01666660000000242, 0.016666599999998866, 0.016666600000000642, 0.016666600000000642, 0.016666600000000642, 0.016666600000000642, 0.016666600000000642, 0.016666600000000642, 0.016666600000000642, 0.016666600000000642, 0.016666599999998866, 0.01666660000000242, 0.01666660000000242, 0.016666599999998866, 0.016666600000000642, 0.016666600000000642, 0.016666599999998866, 0.01666660000000242, 0.016666600000000642, 0.01666660000000242, 0.016666599999998866, 0.016666600000000642, 0.016666599999998866, 0.01666660000000242, 0.016666600000000642, 0.01666660000000242, 0.016666599999998866, 0.016666600000000642, 0.016666600000000642, 0.016666599999998866, 0.01666660000000242, 0.01666660000000242, 0.016666599999998866, 0.016666600000000642, 0.016666600000000642, 0.016666600000000642, 0.016666600000000642, 0.016666599999998866, 0.016666600000000642, 0.016666600000000642, 0.016666600000000642, 0.016666600000000642, 0.016666600000000642, 0.016666600000000642, 0.016666600000000642, 0.016666600000000642, 0.016666600000000642, 0.016666600000000642, 0.016666600000000642, 0.016666600000000642, 0.016666600000000642, 0.016666600000000642, 0.016666600000000642, 0.016666600000000642, 0.016666600000000642, 0.016666600000000642, 0.016666600000000642, 0.016666600000000642, 0.016666600000000642, 0.016666600000000642, 0.016666600000000642, 0.016666600000000642, 0.016666600000000642, 0.016666600000000642, 0.016666600000000642, 0.016666600000000642, 0.016666600000000642, 0.016666600000000642, 0.016666600000000642, 0.016666600000000642, 0.016666600000000642, 0.016666600000000642, 0.016666600000000642, 0.016666600000000642, 0.016666600000000642, 0.016666600000000642, 0.016666600000000642, 0.016666600000000642, 0.016666600000000642, 0.016666600000000642, 0.016666600000000642, 0.016666600000000642, 0.016666600000000642, 0.016666600000000642, 0.016666600000000642, 0.016666600000000642, 0.016666600000000642, 0.016666600000000642, 0.016666600000000642, 0.016666600000000642, 0.016666600000000642, 0.016666600000000642, 0.016666600000000642, 0.016666600000000642, 0.016666600000000642, 0.016666600000000642, 0.016666600000000642, 0.016666600000000642, 0.016666600000000642, 0.016666600000000642, 0.016666600000000642, 0.016666600000000642, 0.016666600000000642, 0.016666600000000642, 0.016666600000000642, 0.016666600000000642, 0.016666600000000642, 0.016666600000000642, 0.016666600000000642, 0.016666600000000642, 0.016666600000000642, 0.016666600000000642, 0.016666600000000642, 0.016666600000000642, 0.016666600000000642, 0.016666600000000642, 0.016666600000000642, 0.016666600000000642, 0.016666600000000642, 0.016666600000000642, 0.016666600000000642, 0.016666600000000642, 0.016666600000000642, 0.016666600000000642, 0.016666600000000642, 0.016666600000000642, 0.016666600000000642, 0.016666600000000642, 0.016666600000000642, 0.016666600000000642, 0.016666600000000642, 0.016666600000000642, 0.016666600000000642, 0.016666600000000642, 0.016666600000000642, 0.016666600000000642, 0.016666600000000642, 0.016666600000000642, 0.016666600000000642, 0.016666600000000642, 0.016666600000000642, 0.016666600000000642, 0.016666600000000642, 0.016666600000000642, 0.016666600000000642, 0.016666600000000642, 0.016666600000000642, 0.016666600000000642, 0.016666600000000642, 0.016666600000000642, 0.016666600000000642, 0.016666600000000642, 0.016666600000000642, 0.016666600000000642, 0.016666600000000642, 0.016666600000000642, 0.016666600000000642, 0.01666659999999709, 0.016666600000000642, 0.016666600000004195, 0.016666600000000642, 0.016666600000000642, 0.016666600000000642, 0.016666600000000642, 0.016666600000000642, 0.016666600000000642, 0.016666600000000642, 0.016666600000000642, 0.016666600000004195, 0.016666600000000642, 0.016666600000000642, 0.01666659999999709, 0.016666600000000642, 0.016666600000004195, 0.016666600000000642, 0.016666600000000642, 0.016666600000000642, 0.01666659999999709, 0.016666600000000642, 0.016666600000000642, 0.016666600000000642, 0.016666600000000642, 0.01666659999999709, 0.016666600000004195, 0.016666600000000642, 0.016666600000000642, 0.016666600000000642, 0.016666600000000642, 0.016666600000004195, 0.01666659999999709, 0.016666600000000642, 0.016666600000000642, 0.016666600000000642, 0.016666600000000642, 0.016666600000000642, 0.016666600000000642, 0.016666600000000642, 0.016666600000000642, 0.01666659999999709, 0.016666600000004195, 0.016666600000000642, 0.01666659999999709, 0.016666600000000642, 0.016666600000000642, 0.016666600000004195, 0.016666600000000642, 0.016666600000000642, 0.01666659999999709, 0.016666600000004195, 0.016666600000000642, 0.016666600000000642, 0.016666600000000642, 0.016666600000000642, 0.016666600000004195, 0.01666659999999709, 0.016666600000000642, 0.016666600000000642, 0.016666600000000642, 0.016666600000000642, 0.016666600000000642, 0.01666659999999709, 0.016666600000004195, 0.016666600000000642, 0.016666600000000642, 0.016666600000000642, 0.016666600000000642, 0.016666600000000642, 0.016666600000000642, 0.016666600000000642, 0.016666600000000642, 0.016666600000004195, 0.016666600000000642, 0.016666600000000642, 0.01666659999999709, 0.016666600000000642, 0.016666600000004195, 0.016666600000000642, 0.016666600000000642, 0.016666600000000642, 0.01666659999999709, 0.016666600000000642, 0.016666600000000642, 0.016666600000000642, 0.016666600000000642, 0.016666600000000642, 0.01666659999999709, 0.016666600000004195, 0.016666600000000642, 0.016666600000000642, 0.016666600000000642, 0.016666600000004195, 0.016666600000000642, 0.01666659999999709, 0.016666600000000642, 0.016666600000000642, 0.016666600000000642, 0.016666600000000642, 0.016666600000000642, 0.016666600000000642, 0.016666600000000642, 0.01666659999999709, 0.016666600000004195, 0.016666600000000642, 0.01666659999999709, 0.016666600000000642, 0.016666600000000642, 0.016666600000004195, 0.016666600000000642, 0.016666600000000642, 0.016666600000000642, 0.016666600000000642, 0.016666600000000642, 0.016666600000000642, 0.016666600000000642, 0.016666600000000642, 0.016666600000000642, 0.016666600000000642, 0.016666600000000642, 0.016666600000000642, 0.016666600000000642, 0.016666600000000642, 0.016666600000000642, 0.01666659999999709, 0.016666600000004195, 0.016666600000000642, 0.016666600000000642, 0.016666600000000642, 0.016666600000000642, 0.016666600000000642, 0.016666600000000642, 0.016666600000000642, 0.016666600000000642, 0.016666600000004195, 0.016666600000000642, 0.016666600000000642, 0.01666659999999709, 0.016666600000000642, 0.016666600000004195, 0.016666600000000642, 0.016666600000000642, 0.016666600000000642, 0.01666659999999709, 0.016666600000000642, 0.016666600000000642, 0.016666600000000642, 0.016666600000000642, 0.016666600000000642, 0.01666659999999709, 0.016666600000004195, 0.016666600000000642, 0.016666600000000642, 0.016666600000000642, 0.016666600000000642, 0.016666600000004195, 0.01666659999999709, 0.016666600000000642, 0.016666600000000642, 0.016666600000000642, 0.016666600000000642, 0.016666600000000642, 0.016666600000000642, 0.016666600000000642, 0.01666659999999709, 0.016666600000000642, 0.016666600000004195, 0.016666600000000642, 0.01666659999999709, 0.016666600000000642, 0.016666600000004195, 0.016666600000000642, 0.016666600000000642, 0.016666600000000642, 0.01666659999999709, 0.016666600000004195, 0.016666600000000642, 0.016666600000000642, 0.016666600000000642, 0.016666600000000642, 0.016666600000004195, 0.01666659999999709, 0.016666600000000642, 0.016666600000000642, 0.016666600000000642, 0.016666600000000642, 0.01666659999999709, 0.016666600000004195, 0.016666600000000642, 0.016666600000000642, 0.016666600000000642, 0.016666600000000642, 0.016666600000000642, 0.016666600000000642, 0.016666600000000642, 0.016666600000000642, 0.016666600000000642, 0.016666600000004195, 0.016666600000000642, 0.01666659999999709, 0.016666600000000642, 0.016666600000004195, 0.016666600000000642, 0.016666600000000642, 0.016666600000000642, 0.016666600000000642, 0.01666659999999709, 0.016666600000000642, 0.016666600000000642, 0.016666600000000642, 0.016666600000000642, 0.01666659999999709, 0.016666600000004195, 0.016666600000000642, 0.016666600000000642, 0.016666600000000642, 0.016666600000000642, 0.016666600000004195, 0.01666659999999709, 0.016666600000000642, 0.016666600000000642, 0.016666600000000642, 0.016666600000000642, 0.016666600000000642, 0.016666600000000642, 0.016666600000000642, 0.016666600000000642, 0.01666659999999709, 0.016666600000004195, 0.016666600000000642, 0.01666659999999709, 0.016666600000000642, 0.016666600000000642, 0.016666600000004195, 0.016666600000000642, 0.016666600000000642, 0.01666659999999709, 0.016666600000004195, 0.016666600000000642, 0.016666600000000642, 0.016666600000000642, 0.016666600000000642, 0.016666600000004195, 0.01666659999999709, 0.016666600000000642, 0.016666600000000642, 0.016666600000000642, 0.016666600000000642, 0.016666600000000642, 0.01666659999999709, 0.016666600000004195, 0.016666600000000642, 0.016666600000000642, 0.016666600000000642, 0.016666600000000642, 0.016666600000000642, 0.016666600000000642, 0.016666600000000642, 0.016666600000000642, 0.016666600000004195, 0.016666600000000642, 0.016666600000000642, 0.01666659999999709, 0.016666600000000642, 0.016666600000004195, 0.016666600000000642, 0.016666600000000642, 0.016666600000000642, 0.01666659999999709, 0.016666600000000642, 0.016666600000000642, 0.016666600000000642, 0.016666600000000642, 0.016666600000000642, 0.01666659999999709, 0.016666600000004195, 0.016666600000000642, 0.016666600000000642, 0.016666600000000642, 0.016666600000004195, 0.01666659999999709, 0.016666600000000642, 0.016666600000000642, 0.016666600000000642, 0.016666600000000642, 0.016666600000000642, 0.016666600000000642, 0.016666600000000642, 0.016666600000000642, 0.01666659999999709, 0.016666600000004195, 0.016666600000000642, 0.01666659999999709, 0.016666600000000642, 0.016666600000000642, 0.016666600000004195, 0.016666600000000642, 0.016666600000000642, 0.01666659999999709, 0.016666600000004195, 0.016666600000000642, 0.016666600000000642, 0.016666600000000642, 0.016666600000000642, 0.016666600000000642, 0.016666600000000642, 0.016666600000000642, 0.016666600000000642, 0.016666600000000642, 0.016666600000000642, 0.016666600000000642, 0.01666659999999709, 0.016666600000004195, 0.016666600000000642, 0.016666600000000642, 0.016666600000000642, 0.016666600000000642, 0.016666600000000642, 0.016666600000000642, 0.016666600000000642, 0.016666600000000642, 0.016666600000004195, 0.016666600000000642, 0.016666600000000642, 0.01666659999999709, 0.016666600000000642, 0.016666600000004195, 0.016666600000000642, 0.016666600000000642, 0.016666600000000642, 0.01666659999999709, 0.016666600000000642, 0.016666600000000642, 0.016666600000000642, 0.016666600000000642, 0.016666600000000642, 0.01666659999999709, 0.016666600000004195, 0.016666600000000642, 0.016666600000000642, 0.016666600000000642, 0.016666600000000642, 0.016666600000004195, 0.01666659999999709, 0.016666600000000642, 0.016666600000000642, 0.016666600000000642, 0.016666600000000642, 0.016666600000000642, 0.016666600000000642, 0.016666600000000642, 0.01666659999999709, 0.016666600000000642, 0.016666600000004195, 0.016666600000000642, 0.01666659999999709, 0.016666600000000642, 0.016666600000004195, 0.016666600000000642, 0.016666600000000642, 0.016666600000000642, 0.016666600000000642, 0.016666600000000642, 0.016666600000000642, 0.016666600000000642, 0.016666600000000642, 0.016666600000000642, 0.016666600000004195, 0.01666659999999709, 0.016666600000000642, 0.016666600000000642, 0.016666600000000642, 0.016666600000000642, 0.01666659999999709, 0.016666600000004195, 0.016666600000000642, 0.016666600000000642, 0.016666600000000642, 0.016666600000000642, 0.016666600000000642, 0.016666600000000642, 0.016666600000000642, 0.016666600000000642, 0.016666600000000642, 0.016666600000004195, 0.016666600000000642, 0.01666659999999709, 0.016666600000000642, 0.016666600000004195, 0.016666600000000642, 0.016666600000000642, 0.016666600000000642, 0.016666600000000642, 0.01666659999999709, 0.016666600000000642, 0.016666600000000642, 0.016666600000000642, 0.016666600000000642, 0.01666659999999709, 0.016666600000004195, 0.016666600000000642, 0.016666600000000642, 0.016666600000000642, 0.016666600000000642, 0.016666600000004195, 0.01666659999999709, 0.016666600000000642, 0.016666600000000642, 0.016666600000000642, 0.016666600000000642, 0.016666600000000642, 0.016666600000000642, 0.016666600000000642, 0.016666600000000642, 0.01666659999999709, 0.016666600000004195, 0.016666600000000642, 0.01666659999999709, 0.016666600000000642, 0.016666600000000642, 0.016666600000004195, 0.016666600000000642, 0.016666600000000642, 0.01666659999999709, 0.016666600000004195, 0.016666600000000642, 0.016666600000000642, 0.016666600000000642, 0.016666600000000642, 0.016666600000004195, 0.01666659999999709, 0.016666600000000642, 0.016666600000000642, 0.016666600000000642, 0.016666600000000642, 0.016666600000000642, 0.01666659999999709, 0.016666600000004195, 0.016666600000000642, 0.016666600000000642, 0.016666600000000642, 0.016666600000000642, 0.016666600000000642, 0.016666600000000642, 0.016666600000000642, 0.016666600000000642]\n",
            "this is the hr_bpm : 3600014.400057511\n",
            "this is the hr_list : [3600014.400057511]\n"
          ]
        },
        {
          "output_type": "display_data",
          "data": {
            "image/png": "[encoded data removed]",
            "text/plain": [
              "<Figure size 432x288 with 1 Axes>"
            ]
          },
          "metadata": {
            "needs_background": "light"
          }
        },
        {
          "output_type": "stream",
          "name": "stderr",
          "text": [
            "\r 20%|██        | 1/5 [00:00<00:00,  5.28it/s]"
          ]
        },
        {
          "output_type": "stream",
          "name": "stdout",
          "text": [
            "!!!!!!!!!!!!!!!!!!!!!!!!\n",
            "eheee\n",
            "/content/drive/MyDrive/Finalproject/face_videos/540.csv\n",
            "/content/drive/MyDrive/Finalproject/face_videos/540.avi\n",
            "True\n",
            "the loop was running\n",
            "10\n",
            "20.0\n",
            "this is the sliding_window_stride : 500\n",
            "this is the sliding_window_size_frame : 15\n",
            "this is the num_maps : 21\n",
            "this is the start_time : 0\n",
            "this is the sliding_window_stride : 500\n",
            "0\n",
            "1545\n",
            "[0.0166666, 0.016666599999999997, 0.016666600000000004, 0.016666600000000004, 0.01666659999999999, 0.016666600000000004, 0.016666600000000004, 0.016666600000000004, 0.016666600000000004, 0.016666600000000004, 0.016666599999999976, 0.016666600000000004, 0.016666600000000004, 0.016666600000000004, 0.016666600000000004, 0.016666599999999976, 0.01666659999999992, 0.016666599999999976, 0.01666660000000003, 0.016666599999999976, 0.01666659999999992, 0.016666599999999976, 0.01666660000000003, 0.016666599999999976, 0.01666659999999992, 0.016666599999999976, 0.01666660000000003, 0.016666599999999976, 0.01666659999999992, 0.016666600000000087, 0.016666599999999976, 0.016666599999999976, 0.016666599999999976, 0.016666599999999976, 0.016666599999999976, 0.016666599999999976, 0.016666599999999976, 0.016666599999999976, 0.016666599999999976, 0.016666599999999976, 0.016666599999999976, 0.016666599999999976, 0.016666599999999976, 0.016666599999999976, 0.016666599999999976, 0.016666599999999976, 0.016666599999999976, 0.016666599999999976, 0.016666599999999976, 0.016666599999999976, 0.016666599999999976, 0.016666599999999976, 0.016666599999999976, 0.016666600000000087, 0.016666599999999976, 0.016666599999999976, 0.016666599999999865, 0.016666599999999976, 0.016666599999999976, 0.016666599999999976, 0.016666599999999976, 0.016666599999999976, 0.016666599999999976, 0.016666599999999976, 0.016666599999999976, 0.016666599999999976, 0.016666599999999976, 0.016666599999999976, 0.016666599999999976, 0.016666599999999976, 0.016666599999999976, 0.016666600000000198, 0.016666599999999976, 0.016666599999999754, 0.016666599999999976, 0.016666599999999976, 0.016666599999999976, 0.016666599999999754, 0.016666599999999976, 0.016666600000000198, 0.016666599999999976, 0.016666599999999976, 0.016666599999999976, 0.016666599999999976, 0.016666599999999976, 0.016666599999999976, 0.016666599999999976, 0.016666599999999976, 0.016666600000000198, 0.016666599999999754, 0.016666599999999976, 0.016666599999999976, 0.016666599999999976, 0.016666599999999976, 0.016666599999999754, 0.016666600000000198, 0.016666599999999976, 0.016666599999999976, 0.016666599999999976, 0.016666599999999976, 0.016666599999999976, 0.016666599999999976, 0.016666599999999976, 0.016666599999999976, 0.016666600000000198, 0.016666599999999976, 0.016666599999999754, 0.016666599999999754, 0.016666599999999976, 0.016666599999999976, 0.016666599999999976, 0.016666599999999976, 0.016666600000000198, 0.016666599999999976, 0.016666599999999976, 0.016666599999999976, 0.016666599999999976, 0.016666599999999976, 0.016666599999999532, 0.016666600000000642, 0.016666600000000198, 0.016666600000000198, 0.016666600000000198, 0.016666600000000198, 0.016666600000000198, 0.016666600000000198, 0.016666600000000198, 0.016666600000000642, 0.016666599999999754, 0.016666600000000642, 0.016666599999999754, 0.016666600000000198, 0.016666600000000198, 0.016666600000000198, 0.016666600000000198, 0.016666600000000198, 0.016666600000000198, 0.016666600000000198, 0.016666599999999754, 0.016666600000000642, 0.016666600000000198, 0.016666600000000198, 0.016666600000000198, 0.016666600000000198, 0.016666600000000198, 0.016666600000000198, 0.016666600000000198, 0.016666600000000642, 0.016666599999999754, 0.016666600000000642, 0.016666599999999754, 0.016666600000000198, 0.016666600000000198, 0.016666600000000198, 0.016666600000000198, 0.016666600000000198, 0.016666600000000198, 0.016666600000000198, 0.016666599999999754, 0.016666600000000642, 0.016666600000000198, 0.016666600000000198, 0.016666600000000198, 0.016666600000000198, 0.016666600000000198, 0.016666600000000198, 0.016666600000000198, 0.016666600000000198, 0.016666600000000198, 0.016666600000000642, 0.016666599999999754, 0.016666600000000198, 0.016666599999999754, 0.016666600000000642, 0.016666600000000198, 0.016666600000000198, 0.016666600000000198, 0.016666599999999754, 0.016666600000000198, 0.016666600000000642, 0.016666600000000198, 0.016666600000000198, 0.016666600000000198, 0.016666600000000198, 0.016666600000000198, 0.016666600000000198, 0.016666600000000198, 0.016666600000000198, 0.016666600000000198, 0.016666600000000642, 0.016666599999999754, 0.016666600000000198, 0.016666600000000198, 0.016666600000000198, 0.016666600000000198, 0.016666600000000198, 0.016666600000000198, 0.016666600000000198, 0.016666600000000198, 0.016666600000000198, 0.016666600000000198, 0.016666600000000198, 0.016666600000000198, 0.016666600000000198, 0.016666600000000198, 0.016666600000000198, 0.016666600000000198, 0.016666600000000198, 0.016666600000000642, 0.016666600000000198, 0.016666600000000198, 0.016666599999999754, 0.016666600000000198, 0.016666600000000198, 0.016666600000000642, 0.016666599999999754, 0.016666600000000198, 0.016666600000000198, 0.016666599999999754, 0.016666600000000642, 0.016666600000000198, 0.016666600000000198, 0.016666600000000198, 0.01666659999999931, 0.016666600000001086, 0.016666599999999754, 0.016666600000000642, 0.016666600000000198, 0.016666600000000198, 0.016666600000000642, 0.016666600000000198, 0.016666599999999754, 0.016666600000000198, 0.016666599999999754, 0.016666600000001086, 0.016666599999999754, 0.016666600000000198, 0.016666600000000198, 0.016666599999999754, 0.016666600000000642, 0.016666599999999754, 0.016666599999999754, 0.016666599999999754, 0.016666599999999754, 0.016666599999999754, 0.016666599999999754, 0.016666599999999754, 0.016666600000000642, 0.016666599999998866, 0.016666599999999754, 0.016666599999999754, 0.016666599999999754, 0.016666599999999754, 0.016666599999999754, 0.016666599999999754, 0.016666599999999754, 0.016666599999999754, 0.016666599999999754, 0.016666599999999754, 0.016666599999999754, 0.016666599999999754, 0.016666599999999754, 0.016666599999999754, 0.016666599999999754, 0.016666599999999754, 0.016666599999999754, 0.016666599999999754, 0.016666599999999754, 0.016666599999999754, 0.016666599999999754, 0.016666599999999754, 0.016666599999999754, 0.016666599999999754, 0.016666599999999754, 0.016666599999999754, 0.016666599999999754, 0.016666599999999754, 0.016666599999999754, 0.016666599999999754, 0.016666599999999754, 0.016666599999999754, 0.016666599999999754, 0.016666599999999754, 0.016666599999999754, 0.016666599999999754, 0.016666599999999754, 0.016666599999999754, 0.016666599999999754, 0.016666599999999754, 0.016666599999999754, 0.016666599999999754, 0.016666599999999754, 0.016666599999999754, 0.016666599999999754, 0.016666599999999754, 0.016666599999999754, 0.016666600000000642, 0.016666599999998866, 0.016666599999999754, 0.016666599999999754, 0.016666600000000642, 0.016666599999998866, 0.016666599999999754, 0.016666599999999754, 0.016666599999999754, 0.016666599999999754, 0.016666599999999754, 0.016666599999999754, 0.016666599999999754, 0.016666599999999754, 0.016666599999999754, 0.016666599999999754, 0.016666600000000642, 0.016666599999998866, 0.016666599999999754, 0.016666599999999754, 0.016666599999999754, 0.016666599999999754, 0.016666599999999754, 0.016666599999999754, 0.016666599999999754, 0.016666599999999754, 0.016666599999999754, 0.016666599999999754, 0.016666599999999754, 0.016666599999999754, 0.016666599999999754, 0.016666599999999754, 0.016666599999999754, 0.016666599999999754, 0.016666599999999754, 0.016666599999999754, 0.016666599999999754, 0.016666599999999754, 0.016666599999999754, 0.016666599999999754, 0.016666599999999754, 0.016666599999999754, 0.016666599999999754, 0.016666599999999754, 0.016666599999999754, 0.016666599999999754, 0.016666599999999754, 0.016666599999999754, 0.016666599999999754, 0.016666599999999754, 0.016666599999999754, 0.016666599999999754, 0.016666599999999754, 0.016666599999999754, 0.016666599999999754, 0.016666599999999754, 0.016666599999999754, 0.016666599999999754, 0.016666599999999754, 0.016666599999999754, 0.016666599999999754, 0.016666599999999754, 0.016666599999999754, 0.016666599999999754, 0.016666599999999754, 0.016666600000000642, 0.016666599999998866, 0.016666599999999754, 0.016666599999999754, 0.016666600000000642, 0.016666599999998866, 0.016666599999999754, 0.016666599999999754, 0.016666599999999754, 0.016666599999999754, 0.016666599999999754, 0.016666599999999754, 0.016666599999999754, 0.016666599999999754, 0.016666599999999754, 0.016666599999999754, 0.016666600000000642, 0.016666599999998866, 0.016666599999999754, 0.016666599999999754, 0.016666599999999754, 0.016666599999999754, 0.016666599999999754, 0.016666599999999754, 0.016666599999999754, 0.016666599999999754, 0.016666599999999754, 0.016666599999999754, 0.016666599999999754, 0.016666599999999754, 0.016666599999999754, 0.016666599999999754, 0.016666599999999754, 0.016666599999999754, 0.016666599999999754, 0.016666599999999754, 0.016666599999999754, 0.016666599999999754, 0.016666599999999754, 0.016666599999999754, 0.016666599999999754, 0.016666599999999754, 0.016666599999999754, 0.016666599999999754, 0.016666599999999754, 0.016666599999999754, 0.016666599999999754, 0.016666599999999754, 0.016666599999999754, 0.016666599999999754, 0.016666599999999754, 0.016666599999999754, 0.016666599999999754, 0.016666599999999754, 0.016666599999999754, 0.016666599999999754, 0.016666599999999754, 0.016666599999999754, 0.016666599999999754, 0.016666599999999754, 0.016666599999999754, 0.016666599999998866, 0.016666600000000642, 0.016666599999999754, 0.016666599999999754, 0.016666600000000642, 0.016666599999998866, 0.016666599999999754, 0.016666599999999754, 0.016666600000000642, 0.016666599999998866, 0.016666599999999754, 0.016666599999999754, 0.016666599999998866, 0.016666600000000642, 0.016666599999999754, 0.016666599999999754, 0.016666599999998866, 0.016666600000000642, 0.016666599999999754, 0.016666599999999754, 0.016666599999999754, 0.016666599999999754, 0.016666599999999754, 0.016666599999999754, 0.016666599999998866, 0.016666600000000642, 0.016666599999999754, 0.016666599999999754, 0.016666599999999754, 0.016666599999999754, 0.016666599999999754, 0.016666599999999754, 0.016666599999999754, 0.016666599999999754, 0.016666599999999754, 0.016666599999999754, 0.016666599999999754, 0.016666599999999754, 0.016666599999999754, 0.016666599999999754, 0.016666599999999754, 0.016666599999999754, 0.016666599999999754, 0.016666599999999754, 0.016666599999999754, 0.016666599999999754, 0.016666599999999754, 0.016666599999999754, 0.016666599999999754, 0.016666599999999754, 0.016666599999999754, 0.016666599999999754, 0.016666599999999754, 0.016666599999999754, 0.016666599999999754, 0.016666599999999754, 0.016666599999999754, 0.016666599999999754, 0.016666600000000642, 0.016666600000000642, 0.016666600000000642, 0.016666600000000642, 0.016666600000000642, 0.016666600000000642, 0.016666600000000642, 0.016666600000000642, 0.016666600000000642, 0.016666600000000642, 0.016666600000000642, 0.016666600000000642, 0.016666600000000642, 0.016666600000000642, 0.016666600000000642, 0.016666600000000642, 0.016666600000000642, 0.016666600000000642, 0.016666600000000642, 0.016666600000000642, 0.016666600000000642, 0.016666600000000642, 0.016666600000000642, 0.016666600000000642, 0.016666600000000642, 0.016666600000000642, 0.016666600000000642, 0.016666600000000642, 0.016666600000000642, 0.016666600000000642, 0.016666600000000642, 0.016666600000000642, 0.016666600000000642, 0.016666600000000642, 0.016666600000000642, 0.016666600000000642, 0.016666600000000642, 0.016666600000000642, 0.016666600000000642, 0.016666600000000642, 0.016666600000000642, 0.016666600000000642, 0.016666600000000642, 0.016666600000000642, 0.016666600000000642, 0.016666600000000642, 0.016666600000000642, 0.016666600000000642, 0.016666600000000642, 0.016666600000000642, 0.016666600000000642, 0.016666600000000642, 0.016666600000000642, 0.016666600000000642, 0.016666600000000642, 0.016666600000000642, 0.016666600000000642, 0.016666600000000642, 0.016666600000000642, 0.016666599999998866, 0.01666660000000242, 0.016666600000000642, 0.01666660000000242, 0.016666599999998866, 0.016666600000000642, 0.016666600000000642, 0.016666599999998866, 0.01666660000000242, 0.01666660000000242, 0.016666599999998866, 0.016666600000000642, 0.016666600000000642, 0.016666600000000642, 0.016666600000000642, 0.016666600000000642, 0.016666600000000642, 0.016666600000000642, 0.016666600000000642, 0.016666599999998866, 0.01666660000000242, 0.016666600000000642, 0.01666660000000242, 0.016666599999998866, 0.016666600000000642, 0.016666599999998866, 0.01666660000000242, 0.016666600000000642, 0.01666660000000242, 0.016666599999998866, 0.016666600000000642, 0.016666600000000642, 0.016666599999998866, 0.01666660000000242, 0.01666660000000242, 0.016666599999998866, 0.016666600000000642, 0.016666600000000642, 0.016666599999998866, 0.01666660000000242, 0.01666660000000242, 0.016666599999998866, 0.016666600000000642, 0.016666600000000642, 0.016666600000000642, 0.016666600000000642, 0.016666600000000642, 0.016666600000000642, 0.016666600000000642, 0.016666600000000642, 0.016666599999998866, 0.01666660000000242, 0.016666600000000642, 0.01666660000000242, 0.016666599999998866, 0.016666600000000642, 0.016666599999998866, 0.01666660000000242, 0.016666600000000642, 0.01666660000000242, 0.016666599999998866, 0.016666600000000642, 0.016666600000000642, 0.016666599999998866, 0.01666660000000242, 0.01666660000000242, 0.016666599999998866, 0.016666600000000642, 0.016666600000000642, 0.016666599999998866, 0.01666660000000242, 0.01666660000000242, 0.016666599999998866, 0.016666600000000642, 0.016666600000000642, 0.016666599999998866, 0.01666660000000242, 0.016666600000000642, 0.01666660000000242, 0.016666599999998866, 0.016666600000000642, 0.016666599999998866, 0.01666660000000242, 0.016666600000000642, 0.01666660000000242, 0.016666599999998866, 0.016666600000000642, 0.016666600000000642, 0.016666599999998866, 0.01666660000000242, 0.01666660000000242, 0.016666599999998866, 0.016666600000000642, 0.016666600000000642, 0.016666599999998866, 0.01666660000000242, 0.01666660000000242, 0.016666599999998866, 0.016666600000000642, 0.016666600000000642, 0.016666599999998866, 0.01666660000000242, 0.016666600000000642, 0.01666660000000242, 0.016666599999998866, 0.016666600000000642, 0.016666599999998866, 0.01666660000000242, 0.016666600000000642, 0.01666660000000242, 0.016666599999998866, 0.016666600000000642, 0.016666600000000642, 0.016666599999998866, 0.01666660000000242, 0.01666660000000242, 0.016666599999998866, 0.016666600000000642, 0.016666600000000642, 0.016666599999998866, 0.01666660000000242, 0.01666660000000242, 0.016666599999998866, 0.016666600000000642, 0.016666600000000642, 0.016666599999998866, 0.01666660000000242, 0.016666600000000642, 0.016666600000000642, 0.016666600000000642, 0.016666600000000642, 0.016666599999998866, 0.01666660000000242, 0.016666600000000642, 0.01666660000000242, 0.016666599999998866, 0.016666600000000642, 0.016666599999998866, 0.01666660000000242, 0.016666600000000642, 0.016666600000000642, 0.016666600000000642, 0.016666600000000642, 0.016666600000000642, 0.016666599999998866, 0.01666660000000242, 0.01666660000000242, 0.016666599999998866, 0.016666600000000642, 0.016666600000000642, 0.016666599999998866, 0.01666660000000242, 0.01666660000000242, 0.016666599999998866, 0.016666600000000642, 0.016666600000000642, 0.016666599999998866, 0.01666660000000242, 0.016666600000000642, 0.01666660000000242, 0.016666599999998866, 0.016666600000000642, 0.016666599999998866, 0.01666660000000242, 0.016666600000000642, 0.01666660000000242, 0.016666599999998866, 0.016666600000000642, 0.016666600000000642, 0.016666600000000642, 0.016666600000000642, 0.016666600000000642, 0.016666600000000642, 0.016666600000000642, 0.016666600000000642, 0.016666599999998866, 0.01666660000000242, 0.01666660000000242, 0.016666599999998866, 0.016666600000000642, 0.016666600000000642, 0.016666599999998866, 0.01666660000000242, 0.016666600000000642, 0.01666660000000242, 0.016666599999998866, 0.016666600000000642, 0.016666599999998866, 0.01666660000000242, 0.016666600000000642, 0.01666660000000242, 0.016666599999998866, 0.016666600000000642, 0.016666600000000642, 0.016666599999998866, 0.01666660000000242, 0.01666660000000242, 0.016666599999998866, 0.016666600000000642, 0.016666600000000642, 0.016666600000000642, 0.016666600000000642, 0.016666600000000642, 0.016666600000000642, 0.016666600000000642, 0.016666600000000642, 0.016666599999998866, 0.01666660000000242, 0.016666600000000642, 0.016666600000000642, 0.016666600000000642, 0.016666600000000642, 0.016666599999998866, 0.01666660000000242, 0.016666600000000642, 0.01666660000000242, 0.016666599999998866, 0.016666600000000642, 0.016666599999998866, 0.01666660000000242, 0.016666600000000642, 0.01666660000000242, 0.016666599999998866, 0.016666600000000642, 0.016666600000000642, 0.016666599999998866, 0.01666660000000242, 0.01666660000000242, 0.016666599999998866, 0.016666600000000642, 0.016666600000000642, 0.016666600000000642, 0.016666600000000642, 0.016666600000000642, 0.016666600000000642, 0.016666600000000642, 0.016666600000000642, 0.016666599999998866, 0.01666660000000242, 0.016666600000000642, 0.01666660000000242, 0.016666599999998866, 0.016666600000000642, 0.016666599999998866, 0.01666660000000242, 0.016666600000000642, 0.01666660000000242, 0.016666599999998866, 0.016666600000000642, 0.016666600000000642, 0.016666599999998866, 0.01666660000000242, 0.01666660000000242, 0.016666599999998866, 0.016666600000000642, 0.016666600000000642, 0.016666599999998866, 0.01666660000000242, 0.01666660000000242, 0.016666599999998866, 0.016666600000000642, 0.016666600000000642, 0.016666600000000642, 0.016666600000000642, 0.016666600000000642, 0.01666660000000242, 0.016666599999998866, 0.016666600000000642, 0.016666599999998866, 0.01666660000000242, 0.016666600000000642, 0.01666660000000242, 0.016666599999998866, 0.016666600000000642, 0.016666600000000642, 0.016666599999998866, 0.01666660000000242, 0.01666660000000242, 0.016666599999998866, 0.016666600000000642, 0.016666600000000642, 0.016666599999998866, 0.01666660000000242, 0.01666660000000242, 0.016666599999998866, 0.016666600000000642, 0.016666600000000642, 0.016666599999998866, 0.01666660000000242, 0.016666600000000642, 0.016666600000000642, 0.016666600000000642, 0.016666600000000642, 0.016666599999998866, 0.01666660000000242, 0.016666600000000642, 0.01666660000000242, 0.016666599999998866, 0.016666600000000642, 0.016666599999998866, 0.01666660000000242, 0.016666600000000642, 0.01666660000000242, 0.016666599999998866, 0.016666600000000642, 0.016666600000000642, 0.016666599999998866, 0.01666660000000242, 0.01666660000000242, 0.016666599999998866, 0.016666600000000642, 0.016666600000000642, 0.016666599999998866, 0.01666660000000242, 0.01666660000000242, 0.016666599999998866, 0.016666600000000642, 0.016666600000000642, 0.016666599999998866, 0.01666660000000242, 0.016666600000000642, 0.01666660000000242, 0.016666599999998866, 0.016666600000000642, 0.016666599999998866, 0.01666660000000242, 0.016666600000000642, 0.016666600000000642, 0.016666600000000642, 0.016666600000000642, 0.016666600000000642, 0.016666599999998866, 0.01666660000000242, 0.01666660000000242, 0.016666599999998866, 0.016666600000000642, 0.016666600000000642, 0.016666599999998866, 0.01666660000000242, 0.01666660000000242, 0.016666599999998866, 0.016666600000000642, 0.016666600000000642, 0.016666599999998866, 0.01666660000000242, 0.016666600000000642, 0.01666660000000242, 0.016666599999998866, 0.016666600000000642, 0.016666599999998866, 0.01666660000000242, 0.016666600000000642, 0.01666660000000242, 0.016666599999998866, 0.016666600000000642, 0.016666600000000642, 0.016666600000000642, 0.016666600000000642, 0.016666600000000642, 0.016666600000000642, 0.016666600000000642, 0.016666600000000642, 0.016666599999998866, 0.01666660000000242, 0.01666660000000242, 0.016666599999998866, 0.016666600000000642, 0.016666600000000642, 0.016666599999998866, 0.01666660000000242, 0.016666600000000642, 0.016666600000000642, 0.016666600000000642, 0.016666600000000642, 0.016666599999998866, 0.01666660000000242, 0.016666600000000642, 0.01666660000000242, 0.016666599999998866, 0.016666600000000642, 0.016666599999998866, 0.01666660000000242, 0.016666600000000642, 0.01666660000000242, 0.016666599999998866, 0.016666600000000642, 0.016666600000000642, 0.016666600000000642, 0.016666600000000642, 0.016666600000000642, 0.016666600000000642, 0.016666600000000642, 0.016666600000000642, 0.016666599999998866, 0.01666660000000242, 0.01666660000000242, 0.016666599999998866, 0.016666600000000642, 0.016666600000000642, 0.016666599999998866, 0.01666660000000242, 0.016666600000000642, 0.01666660000000242, 0.016666599999998866, 0.016666600000000642, 0.016666599999998866, 0.01666660000000242, 0.016666600000000642, 0.01666660000000242, 0.016666599999998866, 0.016666600000000642, 0.016666600000000642, 0.016666599999998866, 0.01666660000000242, 0.01666660000000242, 0.016666599999998866, 0.016666600000000642, 0.016666600000000642, 0.016666600000000642, 0.016666600000000642, 0.016666599999998866, 0.016666600000000642, 0.016666600000000642, 0.016666600000000642, 0.016666600000000642, 0.016666600000000642, 0.016666600000000642, 0.016666600000000642, 0.016666600000000642, 0.016666600000000642, 0.016666600000000642, 0.016666600000000642, 0.016666600000000642, 0.016666600000000642, 0.016666600000000642, 0.016666600000000642, 0.016666600000000642, 0.016666600000000642, 0.016666600000000642, 0.016666600000000642, 0.016666600000000642, 0.016666600000000642, 0.016666600000000642, 0.016666600000000642, 0.016666600000000642, 0.016666600000000642, 0.016666600000000642, 0.016666600000000642, 0.016666600000000642, 0.016666600000000642, 0.016666600000000642, 0.016666600000000642, 0.016666600000000642, 0.016666600000000642, 0.016666600000000642, 0.016666600000000642, 0.016666600000000642, 0.016666600000000642, 0.016666600000000642, 0.016666600000000642, 0.016666600000000642, 0.016666600000000642, 0.016666600000000642, 0.016666600000000642, 0.016666600000000642, 0.016666600000000642, 0.016666600000000642, 0.016666600000000642, 0.016666600000000642, 0.016666600000000642, 0.016666600000000642, 0.016666600000000642, 0.016666600000000642, 0.016666600000000642, 0.016666600000000642, 0.016666600000000642, 0.016666600000000642, 0.016666600000000642, 0.016666600000000642, 0.016666600000000642, 0.016666600000000642, 0.016666600000000642, 0.016666600000000642, 0.016666600000000642, 0.016666600000000642, 0.016666600000000642, 0.016666600000000642, 0.016666600000000642, 0.016666600000000642, 0.016666600000000642, 0.016666600000000642, 0.016666600000000642, 0.016666600000000642, 0.016666600000000642, 0.016666600000000642, 0.016666600000000642, 0.016666600000000642, 0.016666600000000642, 0.016666600000000642, 0.016666600000000642, 0.016666600000000642, 0.016666600000000642, 0.016666600000000642, 0.016666600000000642, 0.016666600000000642, 0.016666600000000642, 0.016666600000000642, 0.016666600000000642, 0.016666600000000642, 0.016666600000000642, 0.016666600000000642, 0.016666600000000642, 0.016666600000000642, 0.016666600000000642, 0.016666600000000642, 0.016666600000000642, 0.016666600000000642, 0.016666600000000642, 0.016666600000000642, 0.016666600000000642, 0.016666600000000642, 0.016666600000000642, 0.016666600000000642, 0.016666600000000642, 0.016666600000000642, 0.016666600000000642, 0.016666600000000642, 0.016666600000000642, 0.016666600000000642, 0.016666600000000642, 0.016666600000000642, 0.016666600000000642, 0.016666600000000642, 0.016666600000000642, 0.016666600000000642, 0.016666600000000642, 0.016666600000000642, 0.016666600000000642, 0.016666600000000642, 0.016666600000000642, 0.01666659999999709, 0.016666600000000642, 0.016666600000004195, 0.016666600000000642, 0.016666600000000642, 0.016666600000000642, 0.016666600000000642, 0.016666600000000642, 0.016666600000000642, 0.016666600000000642, 0.016666600000000642, 0.016666600000004195, 0.016666600000000642, 0.016666600000000642, 0.01666659999999709, 0.016666600000000642, 0.016666600000004195, 0.016666600000000642, 0.016666600000000642, 0.016666600000000642, 0.01666659999999709, 0.016666600000000642, 0.016666600000000642, 0.016666600000000642, 0.016666600000000642, 0.01666659999999709, 0.016666600000004195, 0.016666600000000642, 0.016666600000000642, 0.016666600000000642, 0.016666600000000642, 0.016666600000004195, 0.01666659999999709, 0.016666600000000642, 0.016666600000000642, 0.016666600000000642, 0.016666600000000642, 0.016666600000000642, 0.016666600000000642, 0.016666600000000642, 0.016666600000000642, 0.01666659999999709, 0.016666600000004195, 0.016666600000000642, 0.01666659999999709, 0.016666600000000642, 0.016666600000000642, 0.016666600000004195, 0.016666600000000642, 0.016666600000000642, 0.01666659999999709, 0.016666600000004195, 0.016666600000000642, 0.016666600000000642, 0.016666600000000642, 0.016666600000000642, 0.016666600000004195, 0.01666659999999709, 0.016666600000000642, 0.016666600000000642, 0.016666600000000642, 0.016666600000000642, 0.016666600000000642, 0.01666659999999709, 0.016666600000004195, 0.016666600000000642, 0.016666600000000642, 0.016666600000000642, 0.016666600000000642, 0.016666600000000642, 0.016666600000000642, 0.016666600000000642, 0.016666600000000642, 0.016666600000004195, 0.016666600000000642, 0.016666600000000642, 0.01666659999999709, 0.016666600000000642, 0.016666600000004195, 0.016666600000000642, 0.016666600000000642, 0.016666600000000642, 0.01666659999999709, 0.016666600000000642, 0.016666600000000642, 0.016666600000000642, 0.016666600000000642, 0.016666600000000642, 0.01666659999999709, 0.016666600000004195, 0.016666600000000642, 0.016666600000000642, 0.016666600000000642, 0.016666600000004195, 0.016666600000000642, 0.01666659999999709, 0.016666600000000642, 0.016666600000000642, 0.016666600000000642, 0.016666600000000642, 0.016666600000000642, 0.016666600000000642, 0.016666600000000642, 0.01666659999999709, 0.016666600000004195, 0.016666600000000642, 0.01666659999999709, 0.016666600000000642, 0.016666600000000642, 0.016666600000004195, 0.016666600000000642, 0.016666600000000642, 0.016666600000000642, 0.016666600000000642, 0.016666600000000642, 0.016666600000000642, 0.016666600000000642, 0.016666600000000642, 0.016666600000000642, 0.016666600000000642, 0.016666600000000642, 0.016666600000000642, 0.016666600000000642, 0.016666600000000642, 0.016666600000000642, 0.01666659999999709, 0.016666600000004195, 0.016666600000000642, 0.016666600000000642, 0.016666600000000642, 0.016666600000000642, 0.016666600000000642, 0.016666600000000642, 0.016666600000000642, 0.016666600000000642, 0.016666600000004195, 0.016666600000000642, 0.016666600000000642, 0.01666659999999709, 0.016666600000000642, 0.016666600000004195, 0.016666600000000642, 0.016666600000000642, 0.016666600000000642, 0.01666659999999709, 0.016666600000000642, 0.016666600000000642, 0.016666600000000642, 0.016666600000000642, 0.016666600000000642, 0.01666659999999709, 0.016666600000004195, 0.016666600000000642, 0.016666600000000642, 0.016666600000000642, 0.016666600000000642, 0.016666600000004195, 0.01666659999999709, 0.016666600000000642, 0.016666600000000642, 0.016666600000000642, 0.016666600000000642, 0.016666600000000642, 0.016666600000000642, 0.016666600000000642, 0.01666659999999709, 0.016666600000000642, 0.016666600000004195, 0.016666600000000642, 0.01666659999999709, 0.016666600000000642, 0.016666600000004195, 0.016666600000000642, 0.016666600000000642, 0.016666600000000642, 0.01666659999999709, 0.016666600000004195, 0.016666600000000642, 0.016666600000000642, 0.016666600000000642, 0.016666600000000642, 0.016666600000004195, 0.01666659999999709, 0.016666600000000642, 0.016666600000000642, 0.016666600000000642, 0.016666600000000642, 0.01666659999999709, 0.016666600000004195, 0.016666600000000642, 0.016666600000000642, 0.016666600000000642, 0.016666600000000642, 0.016666600000000642, 0.016666600000000642, 0.016666600000000642, 0.016666600000000642, 0.016666600000000642, 0.016666600000004195, 0.016666600000000642, 0.01666659999999709, 0.016666600000000642, 0.016666600000004195, 0.016666600000000642, 0.016666600000000642, 0.016666600000000642, 0.016666600000000642, 0.01666659999999709, 0.016666600000000642, 0.016666600000000642, 0.016666600000000642, 0.016666600000000642, 0.01666659999999709, 0.016666600000004195, 0.016666600000000642, 0.016666600000000642, 0.016666600000000642, 0.016666600000000642, 0.016666600000004195, 0.01666659999999709, 0.016666600000000642, 0.016666600000000642, 0.016666600000000642, 0.016666600000000642, 0.016666600000000642, 0.016666600000000642, 0.016666600000000642, 0.016666600000000642, 0.01666659999999709, 0.016666600000004195, 0.016666600000000642, 0.01666659999999709, 0.016666600000000642, 0.016666600000000642, 0.016666600000004195, 0.016666600000000642, 0.016666600000000642, 0.01666659999999709, 0.016666600000004195, 0.016666600000000642, 0.016666600000000642, 0.016666600000000642, 0.016666600000000642, 0.016666600000004195, 0.01666659999999709, 0.016666600000000642, 0.016666600000000642, 0.016666600000000642, 0.016666600000000642, 0.016666600000000642, 0.01666659999999709, 0.016666600000004195, 0.016666600000000642, 0.016666600000000642, 0.016666600000000642, 0.016666600000000642, 0.016666600000000642, 0.016666600000000642, 0.016666600000000642, 0.016666600000000642, 0.016666600000004195, 0.016666600000000642, 0.016666600000000642, 0.01666659999999709, 0.016666600000000642, 0.016666600000004195, 0.016666600000000642, 0.016666600000000642, 0.016666600000000642, 0.01666659999999709, 0.016666600000000642, 0.016666600000000642, 0.016666600000000642, 0.016666600000000642, 0.016666600000000642, 0.01666659999999709, 0.016666600000004195, 0.016666600000000642, 0.016666600000000642, 0.016666600000000642, 0.016666600000004195, 0.01666659999999709, 0.016666600000000642, 0.016666600000000642, 0.016666600000000642, 0.016666600000000642, 0.016666600000000642, 0.016666600000000642, 0.016666600000000642, 0.016666600000000642, 0.01666659999999709, 0.016666600000004195, 0.016666600000000642, 0.01666659999999709, 0.016666600000000642, 0.016666600000000642, 0.016666600000004195, 0.016666600000000642, 0.016666600000000642, 0.01666659999999709, 0.016666600000004195, 0.016666600000000642, 0.016666600000000642, 0.016666600000000642, 0.016666600000000642, 0.016666600000000642, 0.016666600000000642, 0.016666600000000642, 0.016666600000000642, 0.016666600000000642, 0.016666600000000642, 0.016666600000000642, 0.01666659999999709, 0.016666600000004195, 0.016666600000000642, 0.016666600000000642, 0.016666600000000642, 0.016666600000000642, 0.016666600000000642, 0.016666600000000642, 0.016666600000000642, 0.016666600000000642, 0.016666600000004195, 0.016666600000000642, 0.016666600000000642, 0.01666659999999709, 0.016666600000000642, 0.016666600000004195, 0.016666600000000642, 0.016666600000000642, 0.016666600000000642, 0.01666659999999709, 0.016666600000000642, 0.016666600000000642, 0.016666600000000642, 0.016666600000000642, 0.016666600000000642, 0.01666659999999709, 0.016666600000004195, 0.016666600000000642, 0.016666600000000642, 0.016666600000000642, 0.016666600000000642, 0.016666600000004195, 0.01666659999999709, 0.016666600000000642, 0.016666600000000642, 0.016666600000000642, 0.016666600000000642, 0.016666600000000642, 0.016666600000000642, 0.016666600000000642, 0.01666659999999709, 0.016666600000000642, 0.016666600000004195, 0.016666600000000642, 0.01666659999999709, 0.016666600000000642, 0.016666600000004195, 0.016666600000000642, 0.016666600000000642, 0.016666600000000642, 0.016666600000000642, 0.016666600000000642, 0.016666600000000642, 0.016666600000000642, 0.016666600000000642, 0.016666600000000642, 0.016666600000004195, 0.01666659999999709, 0.016666600000000642, 0.016666600000000642, 0.016666600000000642, 0.016666600000000642, 0.01666659999999709, 0.016666600000004195, 0.016666600000000642, 0.016666600000000642, 0.016666600000000642, 0.016666600000000642, 0.016666600000000642, 0.016666600000000642, 0.016666600000000642, 0.016666600000000642, 0.016666600000000642, 0.016666600000004195, 0.016666600000000642, 0.01666659999999709, 0.016666600000000642, 0.016666600000004195, 0.016666600000000642, 0.016666600000000642, 0.016666600000000642, 0.016666600000000642, 0.01666659999999709, 0.016666600000000642, 0.016666600000000642, 0.016666600000000642, 0.016666600000000642, 0.01666659999999709, 0.016666600000004195, 0.016666600000000642, 0.016666600000000642, 0.016666600000000642, 0.016666600000000642, 0.016666600000004195, 0.01666659999999709, 0.016666600000000642, 0.016666600000000642, 0.016666600000000642, 0.016666600000000642, 0.016666600000000642, 0.016666600000000642, 0.016666600000000642, 0.016666600000000642, 0.01666659999999709, 0.016666600000004195, 0.016666600000000642, 0.01666659999999709, 0.016666600000000642, 0.016666600000000642, 0.016666600000004195, 0.016666600000000642, 0.016666600000000642, 0.01666659999999709, 0.016666600000004195, 0.016666600000000642, 0.016666600000000642, 0.016666600000000642, 0.016666600000000642, 0.016666600000004195, 0.01666659999999709, 0.016666600000000642, 0.016666600000000642, 0.016666600000000642, 0.016666600000000642, 0.016666600000000642, 0.01666659999999709, 0.016666600000004195, 0.016666600000000642, 0.016666600000000642, 0.016666600000000642, 0.016666600000000642, 0.016666600000000642, 0.016666600000000642, 0.016666600000000642, 0.016666600000000642, 0.016666600000004195, 0.016666600000000642, 0.016666600000000642, 0.01666659999999709, 0.016666600000000642, 0.016666600000004195, 0.016666600000000642, 0.016666600000000642, 0.016666600000000642, 0.01666659999999709, 0.016666600000000642, 0.016666600000000642, 0.016666600000000642, 0.016666600000000642, 0.01666659999999709, 0.016666600000000642, 0.016666600000004195, 0.016666600000000642]\n",
            "this is the hr_bpm : 3600014.40005751\n",
            "this is the hr_list : [3600014.40005751]\n"
          ]
        },
        {
          "output_type": "display_data",
          "data": {
            "image/png": "[encoded data removed]",
            "text/plain": [
              "<Figure size 432x288 with 1 Axes>"
            ]
          },
          "metadata": {
            "needs_background": "light"
          }
        },
        {
          "output_type": "stream",
          "name": "stderr",
          "text": [
            "\r 40%|████      | 2/5 [00:01<00:02,  1.01it/s]"
          ]
        },
        {
          "output_type": "stream",
          "name": "stdout",
          "text": [
            "!!!!!!!!!!!!!!!!!!!!!!!!\n",
            "eheee\n",
            "/content/drive/MyDrive/Finalproject/face_videos/490.csv\n",
            "/content/drive/MyDrive/Finalproject/face_videos/490.avi\n",
            "True\n",
            "the loop was running\n",
            "10\n",
            "20.0\n",
            "this is the sliding_window_stride : 500\n",
            "this is the sliding_window_size_frame : 15\n",
            "this is the num_maps : 21\n",
            "this is the start_time : 0\n",
            "this is the sliding_window_stride : 500\n",
            "0\n",
            "1520\n",
            "[0.0166666, 0.016666599999999997, 0.016666600000000004, 0.016666600000000004, 0.01666659999999999, 0.016666600000000004, 0.016666600000000004, 0.016666600000000004, 0.016666600000000004, 0.016666600000000004, 0.016666599999999976, 0.016666600000000004, 0.016666600000000004, 0.016666600000000004, 0.016666600000000004, 0.016666599999999976, 0.01666659999999992, 0.016666599999999976, 0.01666660000000003, 0.016666599999999976, 0.01666659999999992, 0.016666599999999976, 0.01666660000000003, 0.016666599999999976, 0.01666659999999992, 0.016666599999999976, 0.01666660000000003, 0.016666599999999976, 0.01666659999999992, 0.016666600000000087, 0.016666599999999976, 0.016666599999999976, 0.016666599999999976, 0.016666599999999976, 0.016666599999999976, 0.016666599999999976, 0.016666599999999976, 0.016666599999999976, 0.016666599999999976, 0.016666599999999976, 0.016666599999999976, 0.016666599999999976, 0.016666599999999976, 0.016666599999999976, 0.016666599999999976, 0.016666599999999976, 0.016666599999999976, 0.016666599999999976, 0.016666599999999976, 0.016666599999999976, 0.016666599999999976, 0.016666599999999976, 0.016666599999999976, 0.016666600000000087, 0.016666599999999976, 0.016666599999999976, 0.016666599999999865, 0.016666599999999976, 0.016666599999999976, 0.016666599999999976, 0.016666599999999976, 0.016666599999999976, 0.016666599999999976, 0.016666599999999976, 0.016666599999999976, 0.016666599999999976, 0.016666599999999976, 0.016666599999999976, 0.016666599999999976, 0.016666599999999976, 0.016666599999999976, 0.016666600000000198, 0.016666599999999976, 0.016666599999999754, 0.016666599999999976, 0.016666599999999976, 0.016666599999999976, 0.016666599999999754, 0.016666599999999976, 0.016666600000000198, 0.016666599999999976, 0.016666599999999976, 0.016666599999999976, 0.016666599999999976, 0.016666599999999976, 0.016666599999999976, 0.016666599999999976, 0.016666599999999976, 0.016666600000000198, 0.016666599999999754, 0.016666599999999976, 0.016666599999999976, 0.016666599999999976, 0.016666599999999976, 0.016666599999999754, 0.016666600000000198, 0.016666599999999976, 0.016666599999999976, 0.016666599999999976, 0.016666599999999976, 0.016666599999999976, 0.016666599999999976, 0.016666599999999976, 0.016666599999999976, 0.016666600000000198, 0.016666599999999976, 0.016666599999999754, 0.016666599999999754, 0.016666599999999976, 0.016666599999999976, 0.016666599999999976, 0.016666599999999976, 0.016666600000000198, 0.016666599999999976, 0.016666599999999976, 0.016666599999999976, 0.016666599999999976, 0.016666599999999976, 0.016666599999999532, 0.016666600000000642, 0.016666600000000198, 0.016666600000000198, 0.016666600000000198, 0.016666600000000198, 0.016666600000000198, 0.016666600000000198, 0.016666600000000198, 0.016666600000000642, 0.016666599999999754, 0.016666600000000642, 0.016666599999999754, 0.016666600000000198, 0.016666600000000198, 0.016666600000000198, 0.016666600000000198, 0.016666600000000198, 0.016666600000000198, 0.016666600000000198, 0.016666599999999754, 0.016666600000000642, 0.016666600000000198, 0.016666600000000198, 0.016666600000000198, 0.016666600000000198, 0.016666600000000198, 0.016666600000000198, 0.016666600000000198, 0.016666600000000642, 0.016666599999999754, 0.016666600000000642, 0.016666599999999754, 0.016666600000000198, 0.016666600000000198, 0.016666600000000198, 0.016666600000000198, 0.016666600000000198, 0.016666600000000198, 0.016666600000000198, 0.016666599999999754, 0.016666600000000642, 0.016666600000000198, 0.016666600000000198, 0.016666600000000198, 0.016666600000000198, 0.016666600000000198, 0.016666600000000198, 0.016666600000000198, 0.016666600000000198, 0.016666600000000198, 0.016666600000000642, 0.016666599999999754, 0.016666600000000198, 0.016666599999999754, 0.016666600000000642, 0.016666600000000198, 0.016666600000000198, 0.016666600000000198, 0.016666599999999754, 0.016666600000000198, 0.016666600000000642, 0.016666600000000198, 0.016666600000000198, 0.016666600000000198, 0.016666600000000198, 0.016666600000000198, 0.016666600000000198, 0.016666600000000198, 0.016666600000000198, 0.016666600000000198, 0.016666600000000642, 0.016666599999999754, 0.016666600000000198, 0.016666600000000198, 0.016666600000000198, 0.016666600000000198, 0.016666600000000198, 0.016666600000000198, 0.016666600000000198, 0.016666600000000198, 0.016666600000000198, 0.016666600000000198, 0.016666600000000198, 0.016666600000000198, 0.016666600000000198, 0.016666600000000198, 0.016666600000000198, 0.016666600000000198, 0.016666600000000198, 0.016666600000000642, 0.016666600000000198, 0.016666600000000198, 0.016666599999999754, 0.016666600000000198, 0.016666600000000198, 0.016666600000000642, 0.016666599999999754, 0.016666600000000198, 0.016666600000000198, 0.016666599999999754, 0.016666600000000642, 0.016666600000000198, 0.016666600000000198, 0.016666600000000198, 0.01666659999999931, 0.016666600000001086, 0.016666599999999754, 0.016666600000000642, 0.016666600000000198, 0.016666600000000198, 0.016666600000000642, 0.016666600000000198, 0.016666599999999754, 0.016666600000000198, 0.016666599999999754, 0.016666600000001086, 0.016666599999999754, 0.016666600000000198, 0.016666600000000198, 0.016666599999999754, 0.016666600000000642, 0.016666599999999754, 0.016666599999999754, 0.016666599999999754, 0.016666599999999754, 0.016666599999999754, 0.016666599999999754, 0.016666599999999754, 0.016666600000000642, 0.016666599999998866, 0.016666599999999754, 0.016666599999999754, 0.016666599999999754, 0.016666599999999754, 0.016666599999999754, 0.016666599999999754, 0.016666599999999754, 0.016666599999999754, 0.016666599999999754, 0.016666599999999754, 0.016666599999999754, 0.016666599999999754, 0.016666599999999754, 0.016666599999999754, 0.016666599999999754, 0.016666599999999754, 0.016666599999999754, 0.016666599999999754, 0.016666599999999754, 0.016666599999999754, 0.016666599999999754, 0.016666599999999754, 0.016666599999999754, 0.016666599999999754, 0.016666599999999754, 0.016666599999999754, 0.016666599999999754, 0.016666599999999754, 0.016666599999999754, 0.016666599999999754, 0.016666599999999754, 0.016666599999999754, 0.016666599999999754, 0.016666599999999754, 0.016666599999999754, 0.016666599999999754, 0.016666599999999754, 0.016666599999999754, 0.016666599999999754, 0.016666599999999754, 0.016666599999999754, 0.016666599999999754, 0.016666599999999754, 0.016666599999999754, 0.016666599999999754, 0.016666599999999754, 0.016666599999999754, 0.016666600000000642, 0.016666599999998866, 0.016666599999999754, 0.016666599999999754, 0.016666600000000642, 0.016666599999998866, 0.016666599999999754, 0.016666599999999754, 0.016666599999999754, 0.016666599999999754, 0.016666599999999754, 0.016666599999999754, 0.016666599999999754, 0.016666599999999754, 0.016666599999999754, 0.016666599999999754, 0.016666600000000642, 0.016666599999998866, 0.016666599999999754, 0.016666599999999754, 0.016666599999999754, 0.016666599999999754, 0.016666599999999754, 0.016666599999999754, 0.016666599999999754, 0.016666599999999754, 0.016666599999999754, 0.016666599999999754, 0.016666599999999754, 0.016666599999999754, 0.016666599999999754, 0.016666599999999754, 0.016666599999999754, 0.016666599999999754, 0.016666599999999754, 0.016666599999999754, 0.016666599999999754, 0.016666599999999754, 0.016666599999999754, 0.016666599999999754, 0.016666599999999754, 0.016666599999999754, 0.016666599999999754, 0.016666599999999754, 0.016666599999999754, 0.016666599999999754, 0.016666599999999754, 0.016666599999999754, 0.016666599999999754, 0.016666599999999754, 0.016666599999999754, 0.016666599999999754, 0.016666599999999754, 0.016666599999999754, 0.016666599999999754, 0.016666599999999754, 0.016666599999999754, 0.016666599999999754, 0.016666599999999754, 0.016666599999999754, 0.016666599999999754, 0.016666599999999754, 0.016666599999999754, 0.016666599999999754, 0.016666599999999754, 0.016666600000000642, 0.016666599999998866, 0.016666599999999754, 0.016666599999999754, 0.016666600000000642, 0.016666599999998866, 0.016666599999999754, 0.016666599999999754, 0.016666599999999754, 0.016666599999999754, 0.016666599999999754, 0.016666599999999754, 0.016666599999999754, 0.016666599999999754, 0.016666599999999754, 0.016666599999999754, 0.016666600000000642, 0.016666599999998866, 0.016666599999999754, 0.016666599999999754, 0.016666599999999754, 0.016666599999999754, 0.016666599999999754, 0.016666599999999754, 0.016666599999999754, 0.016666599999999754, 0.016666599999999754, 0.016666599999999754, 0.016666599999999754, 0.016666599999999754, 0.016666599999999754, 0.016666599999999754, 0.016666599999999754, 0.016666599999999754, 0.016666599999999754, 0.016666599999999754, 0.016666599999999754, 0.016666599999999754, 0.016666599999999754, 0.016666599999999754, 0.016666599999999754, 0.016666599999999754, 0.016666599999999754, 0.016666599999999754, 0.016666599999999754, 0.016666599999999754, 0.016666599999999754, 0.016666599999999754, 0.016666599999999754, 0.016666599999999754, 0.016666599999999754, 0.016666599999999754, 0.016666599999999754, 0.016666599999999754, 0.016666599999999754, 0.016666599999999754, 0.016666599999999754, 0.016666599999999754, 0.016666599999999754, 0.016666599999999754, 0.016666599999999754, 0.016666599999998866, 0.016666600000000642, 0.016666599999999754, 0.016666599999999754, 0.016666600000000642, 0.016666599999998866, 0.016666599999999754, 0.016666599999999754, 0.016666600000000642, 0.016666599999998866, 0.016666599999999754, 0.016666599999999754, 0.016666599999998866, 0.016666600000000642, 0.016666599999999754, 0.016666599999999754, 0.016666599999998866, 0.016666600000000642, 0.016666599999999754, 0.016666599999999754, 0.016666599999999754, 0.016666599999999754, 0.016666599999999754, 0.016666599999999754, 0.016666599999998866, 0.016666600000000642, 0.016666599999999754, 0.016666599999999754, 0.016666599999999754, 0.016666599999999754, 0.016666599999999754, 0.016666599999999754, 0.016666599999999754, 0.016666599999999754, 0.016666599999999754, 0.016666599999999754, 0.016666599999999754, 0.016666599999999754, 0.016666599999999754, 0.016666599999999754, 0.016666599999999754, 0.016666599999999754, 0.016666599999999754, 0.016666599999999754, 0.016666599999999754, 0.016666599999999754, 0.016666599999999754, 0.016666599999999754, 0.016666599999999754, 0.016666599999999754, 0.016666599999999754, 0.016666599999999754, 0.016666599999999754, 0.016666599999999754, 0.016666599999999754, 0.016666599999999754, 0.016666599999999754, 0.016666599999999754, 0.016666600000000642, 0.016666600000000642, 0.016666600000000642, 0.016666600000000642, 0.016666600000000642, 0.016666600000000642, 0.016666600000000642, 0.016666600000000642, 0.016666600000000642, 0.016666600000000642, 0.016666600000000642, 0.016666600000000642, 0.016666600000000642, 0.016666600000000642, 0.016666600000000642, 0.016666600000000642, 0.016666600000000642, 0.016666600000000642, 0.016666600000000642, 0.016666600000000642, 0.016666600000000642, 0.016666600000000642, 0.016666600000000642, 0.016666600000000642, 0.016666600000000642, 0.016666600000000642, 0.016666600000000642, 0.016666600000000642, 0.016666600000000642, 0.016666600000000642, 0.016666600000000642, 0.016666600000000642, 0.016666600000000642, 0.016666600000000642, 0.016666600000000642, 0.016666600000000642, 0.016666600000000642, 0.016666600000000642, 0.016666600000000642, 0.016666600000000642, 0.016666600000000642, 0.016666600000000642, 0.016666600000000642, 0.016666600000000642, 0.016666600000000642, 0.016666600000000642, 0.016666600000000642, 0.016666600000000642, 0.016666600000000642, 0.016666600000000642, 0.016666600000000642, 0.016666600000000642, 0.016666600000000642, 0.016666600000000642, 0.016666600000000642, 0.016666600000000642, 0.016666600000000642, 0.016666600000000642, 0.016666600000000642, 0.016666599999998866, 0.01666660000000242, 0.016666600000000642, 0.01666660000000242, 0.016666599999998866, 0.016666600000000642, 0.016666600000000642, 0.016666599999998866, 0.01666660000000242, 0.01666660000000242, 0.016666599999998866, 0.016666600000000642, 0.016666600000000642, 0.016666600000000642, 0.016666600000000642, 0.016666600000000642, 0.016666600000000642, 0.016666600000000642, 0.016666600000000642, 0.016666599999998866, 0.01666660000000242, 0.016666600000000642, 0.01666660000000242, 0.016666599999998866, 0.016666600000000642, 0.016666599999998866, 0.01666660000000242, 0.016666600000000642, 0.01666660000000242, 0.016666599999998866, 0.016666600000000642, 0.016666600000000642, 0.016666599999998866, 0.01666660000000242, 0.01666660000000242, 0.016666599999998866, 0.016666600000000642, 0.016666600000000642, 0.016666599999998866, 0.01666660000000242, 0.01666660000000242, 0.016666599999998866, 0.016666600000000642, 0.016666600000000642, 0.016666600000000642, 0.016666600000000642, 0.016666600000000642, 0.016666600000000642, 0.016666600000000642, 0.016666600000000642, 0.016666599999998866, 0.01666660000000242, 0.016666600000000642, 0.01666660000000242, 0.016666599999998866, 0.016666600000000642, 0.016666599999998866, 0.01666660000000242, 0.016666600000000642, 0.01666660000000242, 0.016666599999998866, 0.016666600000000642, 0.016666600000000642, 0.016666599999998866, 0.01666660000000242, 0.01666660000000242, 0.016666599999998866, 0.016666600000000642, 0.016666600000000642, 0.016666599999998866, 0.01666660000000242, 0.01666660000000242, 0.016666599999998866, 0.016666600000000642, 0.016666600000000642, 0.016666599999998866, 0.01666660000000242, 0.016666600000000642, 0.01666660000000242, 0.016666599999998866, 0.016666600000000642, 0.016666599999998866, 0.01666660000000242, 0.016666600000000642, 0.01666660000000242, 0.016666599999998866, 0.016666600000000642, 0.016666600000000642, 0.016666599999998866, 0.01666660000000242, 0.01666660000000242, 0.016666599999998866, 0.016666600000000642, 0.016666600000000642, 0.016666599999998866, 0.01666660000000242, 0.01666660000000242, 0.016666599999998866, 0.016666600000000642, 0.016666600000000642, 0.016666599999998866, 0.01666660000000242, 0.016666600000000642, 0.01666660000000242, 0.016666599999998866, 0.016666600000000642, 0.016666599999998866, 0.01666660000000242, 0.016666600000000642, 0.01666660000000242, 0.016666599999998866, 0.016666600000000642, 0.016666600000000642, 0.016666599999998866, 0.01666660000000242, 0.01666660000000242, 0.016666599999998866, 0.016666600000000642, 0.016666600000000642, 0.016666599999998866, 0.01666660000000242, 0.01666660000000242, 0.016666599999998866, 0.016666600000000642, 0.016666600000000642, 0.016666599999998866, 0.01666660000000242, 0.016666600000000642, 0.016666600000000642, 0.016666600000000642, 0.016666600000000642, 0.016666599999998866, 0.01666660000000242, 0.016666600000000642, 0.01666660000000242, 0.016666599999998866, 0.016666600000000642, 0.016666599999998866, 0.01666660000000242, 0.016666600000000642, 0.016666600000000642, 0.016666600000000642, 0.016666600000000642, 0.016666600000000642, 0.016666599999998866, 0.01666660000000242, 0.01666660000000242, 0.016666599999998866, 0.016666600000000642, 0.016666600000000642, 0.016666599999998866, 0.01666660000000242, 0.01666660000000242, 0.016666599999998866, 0.016666600000000642, 0.016666600000000642, 0.016666599999998866, 0.01666660000000242, 0.016666600000000642, 0.01666660000000242, 0.016666599999998866, 0.016666600000000642, 0.016666599999998866, 0.01666660000000242, 0.016666600000000642, 0.01666660000000242, 0.016666599999998866, 0.016666600000000642, 0.016666600000000642, 0.016666600000000642, 0.016666600000000642, 0.016666600000000642, 0.016666600000000642, 0.016666600000000642, 0.016666600000000642, 0.016666599999998866, 0.01666660000000242, 0.01666660000000242, 0.016666599999998866, 0.016666600000000642, 0.016666600000000642, 0.016666599999998866, 0.01666660000000242, 0.016666600000000642, 0.01666660000000242, 0.016666599999998866, 0.016666600000000642, 0.016666599999998866, 0.01666660000000242, 0.016666600000000642, 0.01666660000000242, 0.016666599999998866, 0.016666600000000642, 0.016666600000000642, 0.016666599999998866, 0.01666660000000242, 0.01666660000000242, 0.016666599999998866, 0.016666600000000642, 0.016666600000000642, 0.016666600000000642, 0.016666600000000642, 0.016666600000000642, 0.016666600000000642, 0.016666600000000642, 0.016666600000000642, 0.016666599999998866, 0.01666660000000242, 0.016666600000000642, 0.016666600000000642, 0.016666600000000642, 0.016666600000000642, 0.016666599999998866, 0.01666660000000242, 0.016666600000000642, 0.01666660000000242, 0.016666599999998866, 0.016666600000000642, 0.016666599999998866, 0.01666660000000242, 0.016666600000000642, 0.01666660000000242, 0.016666599999998866, 0.016666600000000642, 0.016666600000000642, 0.016666599999998866, 0.01666660000000242, 0.01666660000000242, 0.016666599999998866, 0.016666600000000642, 0.016666600000000642, 0.016666600000000642, 0.016666600000000642, 0.016666600000000642, 0.016666600000000642, 0.016666600000000642, 0.016666600000000642, 0.016666599999998866, 0.01666660000000242, 0.016666600000000642, 0.01666660000000242, 0.016666599999998866, 0.016666600000000642, 0.016666599999998866, 0.01666660000000242, 0.016666600000000642, 0.01666660000000242, 0.016666599999998866, 0.016666600000000642, 0.016666600000000642, 0.016666599999998866, 0.01666660000000242, 0.01666660000000242, 0.016666599999998866, 0.016666600000000642, 0.016666600000000642, 0.016666599999998866, 0.01666660000000242, 0.01666660000000242, 0.016666599999998866, 0.016666600000000642, 0.016666600000000642, 0.016666600000000642, 0.016666600000000642, 0.016666600000000642, 0.01666660000000242, 0.016666599999998866, 0.016666600000000642, 0.016666599999998866, 0.01666660000000242, 0.016666600000000642, 0.01666660000000242, 0.016666599999998866, 0.016666600000000642, 0.016666600000000642, 0.016666599999998866, 0.01666660000000242, 0.01666660000000242, 0.016666599999998866, 0.016666600000000642, 0.016666600000000642, 0.016666599999998866, 0.01666660000000242, 0.01666660000000242, 0.016666599999998866, 0.016666600000000642, 0.016666600000000642, 0.016666599999998866, 0.01666660000000242, 0.016666600000000642, 0.016666600000000642, 0.016666600000000642, 0.016666600000000642, 0.016666599999998866, 0.01666660000000242, 0.016666600000000642, 0.01666660000000242, 0.016666599999998866, 0.016666600000000642, 0.016666599999998866, 0.01666660000000242, 0.016666600000000642, 0.01666660000000242, 0.016666599999998866, 0.016666600000000642, 0.016666600000000642, 0.016666599999998866, 0.01666660000000242, 0.01666660000000242, 0.016666599999998866, 0.016666600000000642, 0.016666600000000642, 0.016666599999998866, 0.01666660000000242, 0.01666660000000242, 0.016666599999998866, 0.016666600000000642, 0.016666600000000642, 0.016666599999998866, 0.01666660000000242, 0.016666600000000642, 0.01666660000000242, 0.016666599999998866, 0.016666600000000642, 0.016666599999998866, 0.01666660000000242, 0.016666600000000642, 0.016666600000000642, 0.016666600000000642, 0.016666600000000642, 0.016666600000000642, 0.016666599999998866, 0.01666660000000242, 0.01666660000000242, 0.016666599999998866, 0.016666600000000642, 0.016666600000000642, 0.016666599999998866, 0.01666660000000242, 0.01666660000000242, 0.016666599999998866, 0.016666600000000642, 0.016666600000000642, 0.016666599999998866, 0.01666660000000242, 0.016666600000000642, 0.01666660000000242, 0.016666599999998866, 0.016666600000000642, 0.016666599999998866, 0.01666660000000242, 0.016666600000000642, 0.01666660000000242, 0.016666599999998866, 0.016666600000000642, 0.016666600000000642, 0.016666600000000642, 0.016666600000000642, 0.016666600000000642, 0.016666600000000642, 0.016666600000000642, 0.016666600000000642, 0.016666599999998866, 0.01666660000000242, 0.01666660000000242, 0.016666599999998866, 0.016666600000000642, 0.016666600000000642, 0.016666599999998866, 0.01666660000000242, 0.016666600000000642, 0.016666600000000642, 0.016666600000000642, 0.016666600000000642, 0.016666599999998866, 0.01666660000000242, 0.016666600000000642, 0.01666660000000242, 0.016666599999998866, 0.016666600000000642, 0.016666599999998866, 0.01666660000000242, 0.016666600000000642, 0.01666660000000242, 0.016666599999998866, 0.016666600000000642, 0.016666600000000642, 0.016666600000000642, 0.016666600000000642, 0.016666600000000642, 0.016666600000000642, 0.016666600000000642, 0.016666600000000642, 0.016666599999998866, 0.01666660000000242, 0.01666660000000242, 0.016666599999998866, 0.016666600000000642, 0.016666600000000642, 0.016666599999998866, 0.01666660000000242, 0.016666600000000642, 0.01666660000000242, 0.016666599999998866, 0.016666600000000642, 0.016666599999998866, 0.01666660000000242, 0.016666600000000642, 0.01666660000000242, 0.016666599999998866, 0.016666600000000642, 0.016666600000000642, 0.016666599999998866, 0.01666660000000242, 0.01666660000000242, 0.016666599999998866, 0.016666600000000642, 0.016666600000000642, 0.016666600000000642, 0.016666600000000642, 0.016666599999998866, 0.016666600000000642, 0.016666600000000642, 0.016666600000000642, 0.016666600000000642, 0.016666600000000642, 0.016666600000000642, 0.016666600000000642, 0.016666600000000642, 0.016666600000000642, 0.016666600000000642, 0.016666600000000642, 0.016666600000000642, 0.016666600000000642, 0.016666600000000642, 0.016666600000000642, 0.016666600000000642, 0.016666600000000642, 0.016666600000000642, 0.016666600000000642, 0.016666600000000642, 0.016666600000000642, 0.016666600000000642, 0.016666600000000642, 0.016666600000000642, 0.016666600000000642, 0.016666600000000642, 0.016666600000000642, 0.016666600000000642, 0.016666600000000642, 0.016666600000000642, 0.016666600000000642, 0.016666600000000642, 0.016666600000000642, 0.016666600000000642, 0.016666600000000642, 0.016666600000000642, 0.016666600000000642, 0.016666600000000642, 0.016666600000000642, 0.016666600000000642, 0.016666600000000642, 0.016666600000000642, 0.016666600000000642, 0.016666600000000642, 0.016666600000000642, 0.016666600000000642, 0.016666600000000642, 0.016666600000000642, 0.016666600000000642, 0.016666600000000642, 0.016666600000000642, 0.016666600000000642, 0.016666600000000642, 0.016666600000000642, 0.016666600000000642, 0.016666600000000642, 0.016666600000000642, 0.016666600000000642, 0.016666600000000642, 0.016666600000000642, 0.016666600000000642, 0.016666600000000642, 0.016666600000000642, 0.016666600000000642, 0.016666600000000642, 0.016666600000000642, 0.016666600000000642, 0.016666600000000642, 0.016666600000000642, 0.016666600000000642, 0.016666600000000642, 0.016666600000000642, 0.016666600000000642, 0.016666600000000642, 0.016666600000000642, 0.016666600000000642, 0.016666600000000642, 0.016666600000000642, 0.016666600000000642, 0.016666600000000642, 0.016666600000000642, 0.016666600000000642, 0.016666600000000642, 0.016666600000000642, 0.016666600000000642, 0.016666600000000642, 0.016666600000000642, 0.016666600000000642, 0.016666600000000642, 0.016666600000000642, 0.016666600000000642, 0.016666600000000642, 0.016666600000000642, 0.016666600000000642, 0.016666600000000642, 0.016666600000000642, 0.016666600000000642, 0.016666600000000642, 0.016666600000000642, 0.016666600000000642, 0.016666600000000642, 0.016666600000000642, 0.016666600000000642, 0.016666600000000642, 0.016666600000000642, 0.016666600000000642, 0.016666600000000642, 0.016666600000000642, 0.016666600000000642, 0.016666600000000642, 0.016666600000000642, 0.016666600000000642, 0.016666600000000642, 0.016666600000000642, 0.016666600000000642, 0.016666600000000642, 0.016666600000000642, 0.016666600000000642, 0.016666600000000642, 0.01666659999999709, 0.016666600000000642, 0.016666600000004195, 0.016666600000000642, 0.016666600000000642, 0.016666600000000642, 0.016666600000000642, 0.016666600000000642, 0.016666600000000642, 0.016666600000000642, 0.016666600000000642, 0.016666600000004195, 0.016666600000000642, 0.016666600000000642, 0.01666659999999709, 0.016666600000000642, 0.016666600000004195, 0.016666600000000642, 0.016666600000000642, 0.016666600000000642, 0.01666659999999709, 0.016666600000000642, 0.016666600000000642, 0.016666600000000642, 0.016666600000000642, 0.01666659999999709, 0.016666600000004195, 0.016666600000000642, 0.016666600000000642, 0.016666600000000642, 0.016666600000000642, 0.016666600000004195, 0.01666659999999709, 0.016666600000000642, 0.016666600000000642, 0.016666600000000642, 0.016666600000000642, 0.016666600000000642, 0.016666600000000642, 0.016666600000000642, 0.016666600000000642, 0.01666659999999709, 0.016666600000004195, 0.016666600000000642, 0.01666659999999709, 0.016666600000000642, 0.016666600000000642, 0.016666600000004195, 0.016666600000000642, 0.016666600000000642, 0.01666659999999709, 0.016666600000004195, 0.016666600000000642, 0.016666600000000642, 0.016666600000000642, 0.016666600000000642, 0.016666600000004195, 0.01666659999999709, 0.016666600000000642, 0.016666600000000642, 0.016666600000000642, 0.016666600000000642, 0.016666600000000642, 0.01666659999999709, 0.016666600000004195, 0.016666600000000642, 0.016666600000000642, 0.016666600000000642, 0.016666600000000642, 0.016666600000000642, 0.016666600000000642, 0.016666600000000642, 0.016666600000000642, 0.016666600000004195, 0.016666600000000642, 0.016666600000000642, 0.01666659999999709, 0.016666600000000642, 0.016666600000004195, 0.016666600000000642, 0.016666600000000642, 0.016666600000000642, 0.01666659999999709, 0.016666600000000642, 0.016666600000000642, 0.016666600000000642, 0.016666600000000642, 0.016666600000000642, 0.01666659999999709, 0.016666600000004195, 0.016666600000000642, 0.016666600000000642, 0.016666600000000642, 0.016666600000004195, 0.016666600000000642, 0.01666659999999709, 0.016666600000000642, 0.016666600000000642, 0.016666600000000642, 0.016666600000000642, 0.016666600000000642, 0.016666600000000642, 0.016666600000000642, 0.01666659999999709, 0.016666600000004195, 0.016666600000000642, 0.01666659999999709, 0.016666600000000642, 0.016666600000000642, 0.016666600000004195, 0.016666600000000642, 0.016666600000000642, 0.016666600000000642, 0.016666600000000642, 0.016666600000000642, 0.016666600000000642, 0.016666600000000642, 0.016666600000000642, 0.016666600000000642, 0.016666600000000642, 0.016666600000000642, 0.016666600000000642, 0.016666600000000642, 0.016666600000000642, 0.016666600000000642, 0.01666659999999709, 0.016666600000004195, 0.016666600000000642, 0.016666600000000642, 0.016666600000000642, 0.016666600000000642, 0.016666600000000642, 0.016666600000000642, 0.016666600000000642, 0.016666600000000642, 0.016666600000004195, 0.016666600000000642, 0.016666600000000642, 0.01666659999999709, 0.016666600000000642, 0.016666600000004195, 0.016666600000000642, 0.016666600000000642, 0.016666600000000642, 0.01666659999999709, 0.016666600000000642, 0.016666600000000642, 0.016666600000000642, 0.016666600000000642, 0.016666600000000642, 0.01666659999999709, 0.016666600000004195, 0.016666600000000642, 0.016666600000000642, 0.016666600000000642, 0.016666600000000642, 0.016666600000004195, 0.01666659999999709, 0.016666600000000642, 0.016666600000000642, 0.016666600000000642, 0.016666600000000642, 0.016666600000000642, 0.016666600000000642, 0.016666600000000642, 0.01666659999999709, 0.016666600000000642, 0.016666600000004195, 0.016666600000000642, 0.01666659999999709, 0.016666600000000642, 0.016666600000004195, 0.016666600000000642, 0.016666600000000642, 0.016666600000000642, 0.01666659999999709, 0.016666600000004195, 0.016666600000000642, 0.016666600000000642, 0.016666600000000642, 0.016666600000000642, 0.016666600000004195, 0.01666659999999709, 0.016666600000000642, 0.016666600000000642, 0.016666600000000642, 0.016666600000000642, 0.01666659999999709, 0.016666600000004195, 0.016666600000000642, 0.016666600000000642, 0.016666600000000642, 0.016666600000000642, 0.016666600000000642, 0.016666600000000642, 0.016666600000000642, 0.016666600000000642, 0.016666600000000642, 0.016666600000004195, 0.016666600000000642, 0.01666659999999709, 0.016666600000000642, 0.016666600000004195, 0.016666600000000642, 0.016666600000000642, 0.016666600000000642, 0.016666600000000642, 0.01666659999999709, 0.016666600000000642, 0.016666600000000642, 0.016666600000000642, 0.016666600000000642, 0.01666659999999709, 0.016666600000004195, 0.016666600000000642, 0.016666600000000642, 0.016666600000000642, 0.016666600000000642, 0.016666600000004195, 0.01666659999999709, 0.016666600000000642, 0.016666600000000642, 0.016666600000000642, 0.016666600000000642, 0.016666600000000642, 0.016666600000000642, 0.016666600000000642, 0.016666600000000642, 0.01666659999999709, 0.016666600000004195, 0.016666600000000642, 0.01666659999999709, 0.016666600000000642, 0.016666600000000642, 0.016666600000004195, 0.016666600000000642, 0.016666600000000642, 0.01666659999999709, 0.016666600000004195, 0.016666600000000642, 0.016666600000000642, 0.016666600000000642, 0.016666600000000642, 0.016666600000004195, 0.01666659999999709, 0.016666600000000642, 0.016666600000000642, 0.016666600000000642, 0.016666600000000642, 0.016666600000000642, 0.01666659999999709, 0.016666600000004195, 0.016666600000000642, 0.016666600000000642, 0.016666600000000642, 0.016666600000000642, 0.016666600000000642, 0.016666600000000642, 0.016666600000000642, 0.016666600000000642, 0.016666600000004195, 0.016666600000000642, 0.016666600000000642, 0.01666659999999709, 0.016666600000000642, 0.016666600000004195, 0.016666600000000642, 0.016666600000000642, 0.016666600000000642, 0.01666659999999709, 0.016666600000000642, 0.016666600000000642, 0.016666600000000642, 0.016666600000000642, 0.016666600000000642, 0.01666659999999709, 0.016666600000004195, 0.016666600000000642, 0.016666600000000642, 0.016666600000000642, 0.016666600000004195, 0.01666659999999709, 0.016666600000000642, 0.016666600000000642, 0.016666600000000642, 0.016666600000000642, 0.016666600000000642, 0.016666600000000642, 0.016666600000000642, 0.016666600000000642, 0.01666659999999709, 0.016666600000004195, 0.016666600000000642, 0.01666659999999709, 0.016666600000000642, 0.016666600000000642, 0.016666600000004195, 0.016666600000000642, 0.016666600000000642, 0.01666659999999709, 0.016666600000004195, 0.016666600000000642, 0.016666600000000642, 0.016666600000000642, 0.016666600000000642, 0.016666600000000642, 0.016666600000000642, 0.016666600000000642, 0.016666600000000642, 0.016666600000000642, 0.016666600000000642, 0.016666600000000642, 0.01666659999999709, 0.016666600000004195, 0.016666600000000642, 0.016666600000000642, 0.016666600000000642, 0.016666600000000642, 0.016666600000000642, 0.016666600000000642, 0.016666600000000642, 0.016666600000000642, 0.016666600000004195, 0.016666600000000642, 0.016666600000000642, 0.01666659999999709, 0.016666600000000642, 0.016666600000004195, 0.016666600000000642, 0.016666600000000642, 0.016666600000000642, 0.01666659999999709, 0.016666600000000642, 0.016666600000000642, 0.016666600000000642, 0.016666600000000642, 0.016666600000000642, 0.01666659999999709, 0.016666600000004195, 0.016666600000000642, 0.016666600000000642, 0.016666600000000642, 0.016666600000000642, 0.016666600000004195, 0.01666659999999709, 0.016666600000000642, 0.016666600000000642, 0.016666600000000642, 0.016666600000000642, 0.016666600000000642, 0.016666600000000642, 0.016666600000000642, 0.01666659999999709, 0.016666600000000642, 0.016666600000004195, 0.016666600000000642, 0.01666659999999709, 0.016666600000000642, 0.016666600000004195, 0.016666600000000642, 0.016666600000000642, 0.016666600000000642, 0.016666600000000642, 0.016666600000000642, 0.016666600000000642, 0.016666600000000642, 0.016666600000000642, 0.016666600000000642, 0.016666600000004195, 0.01666659999999709, 0.016666600000000642, 0.016666600000000642, 0.016666600000000642, 0.016666600000000642, 0.01666659999999709, 0.016666600000004195, 0.016666600000000642, 0.016666600000000642, 0.016666600000000642, 0.016666600000000642, 0.016666600000000642, 0.016666600000000642, 0.016666600000000642, 0.016666600000000642, 0.016666600000000642, 0.016666600000004195, 0.016666600000000642, 0.01666659999999709, 0.016666600000000642, 0.016666600000004195, 0.016666600000000642, 0.016666600000000642, 0.016666600000000642, 0.016666600000000642, 0.01666659999999709, 0.016666600000000642, 0.016666600000000642, 0.016666600000000642, 0.016666600000000642, 0.01666659999999709, 0.016666600000004195, 0.016666600000000642, 0.016666600000000642, 0.016666600000000642, 0.016666600000000642, 0.016666600000004195, 0.01666659999999709, 0.016666600000000642, 0.016666600000000642, 0.016666600000000642, 0.016666600000000642, 0.016666600000000642, 0.016666600000000642, 0.016666600000000642, 0.016666600000000642, 0.01666659999999709, 0.016666600000004195, 0.016666600000000642, 0.01666659999999709, 0.016666600000000642, 0.016666600000000642, 0.016666600000004195, 0.016666600000000642, 0.016666600000000642, 0.01666659999999709, 0.016666600000004195, 0.016666600000000642, 0.016666600000000642, 0.016666600000000642, 0.016666600000000642, 0.016666600000004195, 0.01666659999999709, 0.016666600000000642, 0.016666600000000642, 0.016666600000000642, 0.016666600000000642, 0.016666600000000642, 0.01666659999999709, 0.016666600000004195, 0.016666600000000642]\n",
            "this is the hr_bpm : 3600014.400057511\n",
            "this is the hr_list : [3600014.400057511]\n"
          ]
        },
        {
          "output_type": "display_data",
          "data": {
            "image/png": "[encoded data removed]",
            "text/plain": [
              "<Figure size 432x288 with 1 Axes>"
            ]
          },
          "metadata": {
            "needs_background": "light"
          }
        },
        {
          "output_type": "stream",
          "name": "stderr",
          "text": [
            "\r 60%|██████    | 3/5 [00:03<00:02,  1.17s/it]"
          ]
        },
        {
          "output_type": "stream",
          "name": "stdout",
          "text": [
            "!!!!!!!!!!!!!!!!!!!!!!!!\n",
            "eheee\n",
            "/content/drive/MyDrive/Finalproject/face_videos/580.csv\n",
            "/content/drive/MyDrive/Finalproject/face_videos/580.avi\n",
            "True\n",
            "the loop was running\n",
            "10\n",
            "20.0\n",
            "this is the sliding_window_stride : 500\n",
            "this is the sliding_window_size_frame : 15\n",
            "this is the num_maps : 21\n",
            "this is the start_time : 0\n",
            "this is the sliding_window_stride : 500\n",
            "0\n",
            "1520\n",
            "[0.0166666, 0.016666599999999997, 0.016666600000000004, 0.016666600000000004, 0.01666659999999999, 0.016666600000000004, 0.016666600000000004, 0.016666600000000004, 0.016666600000000004, 0.016666600000000004, 0.016666599999999976, 0.016666600000000004, 0.016666600000000004, 0.016666600000000004, 0.016666600000000004, 0.016666599999999976, 0.01666659999999992, 0.016666599999999976, 0.01666660000000003, 0.016666599999999976, 0.01666659999999992, 0.016666599999999976, 0.01666660000000003, 0.016666599999999976, 0.01666659999999992, 0.016666599999999976, 0.01666660000000003, 0.016666599999999976, 0.01666659999999992, 0.016666600000000087, 0.016666599999999976, 0.016666599999999976, 0.016666599999999976, 0.016666599999999976, 0.016666599999999976, 0.016666599999999976, 0.016666599999999976, 0.016666599999999976, 0.016666599999999976, 0.016666599999999976, 0.016666599999999976, 0.016666599999999976, 0.016666599999999976, 0.016666599999999976, 0.016666599999999976, 0.016666599999999976, 0.016666599999999976, 0.016666599999999976, 0.016666599999999976, 0.016666599999999976, 0.016666599999999976, 0.016666599999999976, 0.016666599999999976, 0.016666600000000087, 0.016666599999999976, 0.016666599999999976, 0.016666599999999865, 0.016666599999999976, 0.016666599999999976, 0.016666599999999976, 0.016666599999999976, 0.016666599999999976, 0.016666599999999976, 0.016666599999999976, 0.016666599999999976, 0.016666599999999976, 0.016666599999999976, 0.016666599999999976, 0.016666599999999976, 0.016666599999999976, 0.016666599999999976, 0.016666600000000198, 0.016666599999999976, 0.016666599999999754, 0.016666599999999976, 0.016666599999999976, 0.016666599999999976, 0.016666599999999754, 0.016666599999999976, 0.016666600000000198, 0.016666599999999976, 0.016666599999999976, 0.016666599999999976, 0.016666599999999976, 0.016666599999999976, 0.016666599999999976, 0.016666599999999976, 0.016666599999999976, 0.016666600000000198, 0.016666599999999754, 0.016666599999999976, 0.016666599999999976, 0.016666599999999976, 0.016666599999999976, 0.016666599999999754, 0.016666600000000198, 0.016666599999999976, 0.016666599999999976, 0.016666599999999976, 0.016666599999999976, 0.016666599999999976, 0.016666599999999976, 0.016666599999999976, 0.016666599999999976, 0.016666600000000198, 0.016666599999999976, 0.016666599999999754, 0.016666599999999754, 0.016666599999999976, 0.016666599999999976, 0.016666599999999976, 0.016666599999999976, 0.016666600000000198, 0.016666599999999976, 0.016666599999999976, 0.016666599999999976, 0.016666599999999976, 0.016666599999999976, 0.016666599999999532, 0.016666600000000642, 0.016666600000000198, 0.016666600000000198, 0.016666600000000198, 0.016666600000000198, 0.016666600000000198, 0.016666600000000198, 0.016666600000000198, 0.016666600000000642, 0.016666599999999754, 0.016666600000000642, 0.016666599999999754, 0.016666600000000198, 0.016666600000000198, 0.016666600000000198, 0.016666600000000198, 0.016666600000000198, 0.016666600000000198, 0.016666600000000198, 0.016666599999999754, 0.016666600000000642, 0.016666600000000198, 0.016666600000000198, 0.016666600000000198, 0.016666600000000198, 0.016666600000000198, 0.016666600000000198, 0.016666600000000198, 0.016666600000000642, 0.016666599999999754, 0.016666600000000642, 0.016666599999999754, 0.016666600000000198, 0.016666600000000198, 0.016666600000000198, 0.016666600000000198, 0.016666600000000198, 0.016666600000000198, 0.016666600000000198, 0.016666599999999754, 0.016666600000000642, 0.016666600000000198, 0.016666600000000198, 0.016666600000000198, 0.016666600000000198, 0.016666600000000198, 0.016666600000000198, 0.016666600000000198, 0.016666600000000198, 0.016666600000000198, 0.016666600000000642, 0.016666599999999754, 0.016666600000000198, 0.016666599999999754, 0.016666600000000642, 0.016666600000000198, 0.016666600000000198, 0.016666600000000198, 0.016666599999999754, 0.016666600000000198, 0.016666600000000642, 0.016666600000000198, 0.016666600000000198, 0.016666600000000198, 0.016666600000000198, 0.016666600000000198, 0.016666600000000198, 0.016666600000000198, 0.016666600000000198, 0.016666600000000198, 0.016666600000000642, 0.016666599999999754, 0.016666600000000198, 0.016666600000000198, 0.016666600000000198, 0.016666600000000198, 0.016666600000000198, 0.016666600000000198, 0.016666600000000198, 0.016666600000000198, 0.016666600000000198, 0.016666600000000198, 0.016666600000000198, 0.016666600000000198, 0.016666600000000198, 0.016666600000000198, 0.016666600000000198, 0.016666600000000198, 0.016666600000000198, 0.016666600000000642, 0.016666600000000198, 0.016666600000000198, 0.016666599999999754, 0.016666600000000198, 0.016666600000000198, 0.016666600000000642, 0.016666599999999754, 0.016666600000000198, 0.016666600000000198, 0.016666599999999754, 0.016666600000000642, 0.016666600000000198, 0.016666600000000198, 0.016666600000000198, 0.01666659999999931, 0.016666600000001086, 0.016666599999999754, 0.016666600000000642, 0.016666600000000198, 0.016666600000000198, 0.016666600000000642, 0.016666600000000198, 0.016666599999999754, 0.016666600000000198, 0.016666599999999754, 0.016666600000001086, 0.016666599999999754, 0.016666600000000198, 0.016666600000000198, 0.016666599999999754, 0.016666600000000642, 0.016666599999999754, 0.016666599999999754, 0.016666599999999754, 0.016666599999999754, 0.016666599999999754, 0.016666599999999754, 0.016666599999999754, 0.016666600000000642, 0.016666599999998866, 0.016666599999999754, 0.016666599999999754, 0.016666599999999754, 0.016666599999999754, 0.016666599999999754, 0.016666599999999754, 0.016666599999999754, 0.016666599999999754, 0.016666599999999754, 0.016666599999999754, 0.016666599999999754, 0.016666599999999754, 0.016666599999999754, 0.016666599999999754, 0.016666599999999754, 0.016666599999999754, 0.016666599999999754, 0.016666599999999754, 0.016666599999999754, 0.016666599999999754, 0.016666599999999754, 0.016666599999999754, 0.016666599999999754, 0.016666599999999754, 0.016666599999999754, 0.016666599999999754, 0.016666599999999754, 0.016666599999999754, 0.016666599999999754, 0.016666599999999754, 0.016666599999999754, 0.016666599999999754, 0.016666599999999754, 0.016666599999999754, 0.016666599999999754, 0.016666599999999754, 0.016666599999999754, 0.016666599999999754, 0.016666599999999754, 0.016666599999999754, 0.016666599999999754, 0.016666599999999754, 0.016666599999999754, 0.016666599999999754, 0.016666599999999754, 0.016666599999999754, 0.016666599999999754, 0.016666600000000642, 0.016666599999998866, 0.016666599999999754, 0.016666599999999754, 0.016666600000000642, 0.016666599999998866, 0.016666599999999754, 0.016666599999999754, 0.016666599999999754, 0.016666599999999754, 0.016666599999999754, 0.016666599999999754, 0.016666599999999754, 0.016666599999999754, 0.016666599999999754, 0.016666599999999754, 0.016666600000000642, 0.016666599999998866, 0.016666599999999754, 0.016666599999999754, 0.016666599999999754, 0.016666599999999754, 0.016666599999999754, 0.016666599999999754, 0.016666599999999754, 0.016666599999999754, 0.016666599999999754, 0.016666599999999754, 0.016666599999999754, 0.016666599999999754, 0.016666599999999754, 0.016666599999999754, 0.016666599999999754, 0.016666599999999754, 0.016666599999999754, 0.016666599999999754, 0.016666599999999754, 0.016666599999999754, 0.016666599999999754, 0.016666599999999754, 0.016666599999999754, 0.016666599999999754, 0.016666599999999754, 0.016666599999999754, 0.016666599999999754, 0.016666599999999754, 0.016666599999999754, 0.016666599999999754, 0.016666599999999754, 0.016666599999999754, 0.016666599999999754, 0.016666599999999754, 0.016666599999999754, 0.016666599999999754, 0.016666599999999754, 0.016666599999999754, 0.016666599999999754, 0.016666599999999754, 0.016666599999999754, 0.016666599999999754, 0.016666599999999754, 0.016666599999999754, 0.016666599999999754, 0.016666599999999754, 0.016666599999999754, 0.016666600000000642, 0.016666599999998866, 0.016666599999999754, 0.016666599999999754, 0.016666600000000642, 0.016666599999998866, 0.016666599999999754, 0.016666599999999754, 0.016666599999999754, 0.016666599999999754, 0.016666599999999754, 0.016666599999999754, 0.016666599999999754, 0.016666599999999754, 0.016666599999999754, 0.016666599999999754, 0.016666600000000642, 0.016666599999998866, 0.016666599999999754, 0.016666599999999754, 0.016666599999999754, 0.016666599999999754, 0.016666599999999754, 0.016666599999999754, 0.016666599999999754, 0.016666599999999754, 0.016666599999999754, 0.016666599999999754, 0.016666599999999754, 0.016666599999999754, 0.016666599999999754, 0.016666599999999754, 0.016666599999999754, 0.016666599999999754, 0.016666599999999754, 0.016666599999999754, 0.016666599999999754, 0.016666599999999754, 0.016666599999999754, 0.016666599999999754, 0.016666599999999754, 0.016666599999999754, 0.016666599999999754, 0.016666599999999754, 0.016666599999999754, 0.016666599999999754, 0.016666599999999754, 0.016666599999999754, 0.016666599999999754, 0.016666599999999754, 0.016666599999999754, 0.016666599999999754, 0.016666599999999754, 0.016666599999999754, 0.016666599999999754, 0.016666599999999754, 0.016666599999999754, 0.016666599999999754, 0.016666599999999754, 0.016666599999999754, 0.016666599999999754, 0.016666599999998866, 0.016666600000000642, 0.016666599999999754, 0.016666599999999754, 0.016666600000000642, 0.016666599999998866, 0.016666599999999754, 0.016666599999999754, 0.016666600000000642, 0.016666599999998866, 0.016666599999999754, 0.016666599999999754, 0.016666599999998866, 0.016666600000000642, 0.016666599999999754, 0.016666599999999754, 0.016666599999998866, 0.016666600000000642, 0.016666599999999754, 0.016666599999999754, 0.016666599999999754, 0.016666599999999754, 0.016666599999999754, 0.016666599999999754, 0.016666599999998866, 0.016666600000000642, 0.016666599999999754, 0.016666599999999754, 0.016666599999999754, 0.016666599999999754, 0.016666599999999754, 0.016666599999999754, 0.016666599999999754, 0.016666599999999754, 0.016666599999999754, 0.016666599999999754, 0.016666599999999754, 0.016666599999999754, 0.016666599999999754, 0.016666599999999754, 0.016666599999999754, 0.016666599999999754, 0.016666599999999754, 0.016666599999999754, 0.016666599999999754, 0.016666599999999754, 0.016666599999999754, 0.016666599999999754, 0.016666599999999754, 0.016666599999999754, 0.016666599999999754, 0.016666599999999754, 0.016666599999999754, 0.016666599999999754, 0.016666599999999754, 0.016666599999999754, 0.016666599999999754, 0.016666599999999754, 0.016666600000000642, 0.016666600000000642, 0.016666600000000642, 0.016666600000000642, 0.016666600000000642, 0.016666600000000642, 0.016666600000000642, 0.016666600000000642, 0.016666600000000642, 0.016666600000000642, 0.016666600000000642, 0.016666600000000642, 0.016666600000000642, 0.016666600000000642, 0.016666600000000642, 0.016666600000000642, 0.016666600000000642, 0.016666600000000642, 0.016666600000000642, 0.016666600000000642, 0.016666600000000642, 0.016666600000000642, 0.016666600000000642, 0.016666600000000642, 0.016666600000000642, 0.016666600000000642, 0.016666600000000642, 0.016666600000000642, 0.016666600000000642, 0.016666600000000642, 0.016666600000000642, 0.016666600000000642, 0.016666600000000642, 0.016666600000000642, 0.016666600000000642, 0.016666600000000642, 0.016666600000000642, 0.016666600000000642, 0.016666600000000642, 0.016666600000000642, 0.016666600000000642, 0.016666600000000642, 0.016666600000000642, 0.016666600000000642, 0.016666600000000642, 0.016666600000000642, 0.016666600000000642, 0.016666600000000642, 0.016666600000000642, 0.016666600000000642, 0.016666600000000642, 0.016666600000000642, 0.016666600000000642, 0.016666600000000642, 0.016666600000000642, 0.016666600000000642, 0.016666600000000642, 0.016666600000000642, 0.016666600000000642, 0.016666599999998866, 0.01666660000000242, 0.016666600000000642, 0.01666660000000242, 0.016666599999998866, 0.016666600000000642, 0.016666600000000642, 0.016666599999998866, 0.01666660000000242, 0.01666660000000242, 0.016666599999998866, 0.016666600000000642, 0.016666600000000642, 0.016666600000000642, 0.016666600000000642, 0.016666600000000642, 0.016666600000000642, 0.016666600000000642, 0.016666600000000642, 0.016666599999998866, 0.01666660000000242, 0.016666600000000642, 0.01666660000000242, 0.016666599999998866, 0.016666600000000642, 0.016666599999998866, 0.01666660000000242, 0.016666600000000642, 0.01666660000000242, 0.016666599999998866, 0.016666600000000642, 0.016666600000000642, 0.016666599999998866, 0.01666660000000242, 0.01666660000000242, 0.016666599999998866, 0.016666600000000642, 0.016666600000000642, 0.016666599999998866, 0.01666660000000242, 0.01666660000000242, 0.016666599999998866, 0.016666600000000642, 0.016666600000000642, 0.016666600000000642, 0.016666600000000642, 0.016666600000000642, 0.016666600000000642, 0.016666600000000642, 0.016666600000000642, 0.016666599999998866, 0.01666660000000242, 0.016666600000000642, 0.01666660000000242, 0.016666599999998866, 0.016666600000000642, 0.016666599999998866, 0.01666660000000242, 0.016666600000000642, 0.01666660000000242, 0.016666599999998866, 0.016666600000000642, 0.016666600000000642, 0.016666599999998866, 0.01666660000000242, 0.01666660000000242, 0.016666599999998866, 0.016666600000000642, 0.016666600000000642, 0.016666599999998866, 0.01666660000000242, 0.01666660000000242, 0.016666599999998866, 0.016666600000000642, 0.016666600000000642, 0.016666599999998866, 0.01666660000000242, 0.016666600000000642, 0.01666660000000242, 0.016666599999998866, 0.016666600000000642, 0.016666599999998866, 0.01666660000000242, 0.016666600000000642, 0.01666660000000242, 0.016666599999998866, 0.016666600000000642, 0.016666600000000642, 0.016666599999998866, 0.01666660000000242, 0.01666660000000242, 0.016666599999998866, 0.016666600000000642, 0.016666600000000642, 0.016666599999998866, 0.01666660000000242, 0.01666660000000242, 0.016666599999998866, 0.016666600000000642, 0.016666600000000642, 0.016666599999998866, 0.01666660000000242, 0.016666600000000642, 0.01666660000000242, 0.016666599999998866, 0.016666600000000642, 0.016666599999998866, 0.01666660000000242, 0.016666600000000642, 0.01666660000000242, 0.016666599999998866, 0.016666600000000642, 0.016666600000000642, 0.016666599999998866, 0.01666660000000242, 0.01666660000000242, 0.016666599999998866, 0.016666600000000642, 0.016666600000000642, 0.016666599999998866, 0.01666660000000242, 0.01666660000000242, 0.016666599999998866, 0.016666600000000642, 0.016666600000000642, 0.016666599999998866, 0.01666660000000242, 0.016666600000000642, 0.016666600000000642, 0.016666600000000642, 0.016666600000000642, 0.016666599999998866, 0.01666660000000242, 0.016666600000000642, 0.01666660000000242, 0.016666599999998866, 0.016666600000000642, 0.016666599999998866, 0.01666660000000242, 0.016666600000000642, 0.016666600000000642, 0.016666600000000642, 0.016666600000000642, 0.016666600000000642, 0.016666599999998866, 0.01666660000000242, 0.01666660000000242, 0.016666599999998866, 0.016666600000000642, 0.016666600000000642, 0.016666599999998866, 0.01666660000000242, 0.01666660000000242, 0.016666599999998866, 0.016666600000000642, 0.016666600000000642, 0.016666599999998866, 0.01666660000000242, 0.016666600000000642, 0.01666660000000242, 0.016666599999998866, 0.016666600000000642, 0.016666599999998866, 0.01666660000000242, 0.016666600000000642, 0.01666660000000242, 0.016666599999998866, 0.016666600000000642, 0.016666600000000642, 0.016666600000000642, 0.016666600000000642, 0.016666600000000642, 0.016666600000000642, 0.016666600000000642, 0.016666600000000642, 0.016666599999998866, 0.01666660000000242, 0.01666660000000242, 0.016666599999998866, 0.016666600000000642, 0.016666600000000642, 0.016666599999998866, 0.01666660000000242, 0.016666600000000642, 0.01666660000000242, 0.016666599999998866, 0.016666600000000642, 0.016666599999998866, 0.01666660000000242, 0.016666600000000642, 0.01666660000000242, 0.016666599999998866, 0.016666600000000642, 0.016666600000000642, 0.016666599999998866, 0.01666660000000242, 0.01666660000000242, 0.016666599999998866, 0.016666600000000642, 0.016666600000000642, 0.016666600000000642, 0.016666600000000642, 0.016666600000000642, 0.016666600000000642, 0.016666600000000642, 0.016666600000000642, 0.016666599999998866, 0.01666660000000242, 0.016666600000000642, 0.016666600000000642, 0.016666600000000642, 0.016666600000000642, 0.016666599999998866, 0.01666660000000242, 0.016666600000000642, 0.01666660000000242, 0.016666599999998866, 0.016666600000000642, 0.016666599999998866, 0.01666660000000242, 0.016666600000000642, 0.01666660000000242, 0.016666599999998866, 0.016666600000000642, 0.016666600000000642, 0.016666599999998866, 0.01666660000000242, 0.01666660000000242, 0.016666599999998866, 0.016666600000000642, 0.016666600000000642, 0.016666600000000642, 0.016666600000000642, 0.016666600000000642, 0.016666600000000642, 0.016666600000000642, 0.016666600000000642, 0.016666599999998866, 0.01666660000000242, 0.016666600000000642, 0.01666660000000242, 0.016666599999998866, 0.016666600000000642, 0.016666599999998866, 0.01666660000000242, 0.016666600000000642, 0.01666660000000242, 0.016666599999998866, 0.016666600000000642, 0.016666600000000642, 0.016666599999998866, 0.01666660000000242, 0.01666660000000242, 0.016666599999998866, 0.016666600000000642, 0.016666600000000642, 0.016666599999998866, 0.01666660000000242, 0.01666660000000242, 0.016666599999998866, 0.016666600000000642, 0.016666600000000642, 0.016666600000000642, 0.016666600000000642, 0.016666600000000642, 0.01666660000000242, 0.016666599999998866, 0.016666600000000642, 0.016666599999998866, 0.01666660000000242, 0.016666600000000642, 0.01666660000000242, 0.016666599999998866, 0.016666600000000642, 0.016666600000000642, 0.016666599999998866, 0.01666660000000242, 0.01666660000000242, 0.016666599999998866, 0.016666600000000642, 0.016666600000000642, 0.016666599999998866, 0.01666660000000242, 0.01666660000000242, 0.016666599999998866, 0.016666600000000642, 0.016666600000000642, 0.016666599999998866, 0.01666660000000242, 0.016666600000000642, 0.016666600000000642, 0.016666600000000642, 0.016666600000000642, 0.016666599999998866, 0.01666660000000242, 0.016666600000000642, 0.01666660000000242, 0.016666599999998866, 0.016666600000000642, 0.016666599999998866, 0.01666660000000242, 0.016666600000000642, 0.01666660000000242, 0.016666599999998866, 0.016666600000000642, 0.016666600000000642, 0.016666599999998866, 0.01666660000000242, 0.01666660000000242, 0.016666599999998866, 0.016666600000000642, 0.016666600000000642, 0.016666599999998866, 0.01666660000000242, 0.01666660000000242, 0.016666599999998866, 0.016666600000000642, 0.016666600000000642, 0.016666599999998866, 0.01666660000000242, 0.016666600000000642, 0.01666660000000242, 0.016666599999998866, 0.016666600000000642, 0.016666599999998866, 0.01666660000000242, 0.016666600000000642, 0.016666600000000642, 0.016666600000000642, 0.016666600000000642, 0.016666600000000642, 0.016666599999998866, 0.01666660000000242, 0.01666660000000242, 0.016666599999998866, 0.016666600000000642, 0.016666600000000642, 0.016666599999998866, 0.01666660000000242, 0.01666660000000242, 0.016666599999998866, 0.016666600000000642, 0.016666600000000642, 0.016666599999998866, 0.01666660000000242, 0.016666600000000642, 0.01666660000000242, 0.016666599999998866, 0.016666600000000642, 0.016666599999998866, 0.01666660000000242, 0.016666600000000642, 0.01666660000000242, 0.016666599999998866, 0.016666600000000642, 0.016666600000000642, 0.016666600000000642, 0.016666600000000642, 0.016666600000000642, 0.016666600000000642, 0.016666600000000642, 0.016666600000000642, 0.016666599999998866, 0.01666660000000242, 0.01666660000000242, 0.016666599999998866, 0.016666600000000642, 0.016666600000000642, 0.016666599999998866, 0.01666660000000242, 0.016666600000000642, 0.016666600000000642, 0.016666600000000642, 0.016666600000000642, 0.016666599999998866, 0.01666660000000242, 0.016666600000000642, 0.01666660000000242, 0.016666599999998866, 0.016666600000000642, 0.016666599999998866, 0.01666660000000242, 0.016666600000000642, 0.01666660000000242, 0.016666599999998866, 0.016666600000000642, 0.016666600000000642, 0.016666600000000642, 0.016666600000000642, 0.016666600000000642, 0.016666600000000642, 0.016666600000000642, 0.016666600000000642, 0.016666599999998866, 0.01666660000000242, 0.01666660000000242, 0.016666599999998866, 0.016666600000000642, 0.016666600000000642, 0.016666599999998866, 0.01666660000000242, 0.016666600000000642, 0.01666660000000242, 0.016666599999998866, 0.016666600000000642, 0.016666599999998866, 0.01666660000000242, 0.016666600000000642, 0.01666660000000242, 0.016666599999998866, 0.016666600000000642, 0.016666600000000642, 0.016666599999998866, 0.01666660000000242, 0.01666660000000242, 0.016666599999998866, 0.016666600000000642, 0.016666600000000642, 0.016666600000000642, 0.016666600000000642, 0.016666599999998866, 0.016666600000000642, 0.016666600000000642, 0.016666600000000642, 0.016666600000000642, 0.016666600000000642, 0.016666600000000642, 0.016666600000000642, 0.016666600000000642, 0.016666600000000642, 0.016666600000000642, 0.016666600000000642, 0.016666600000000642, 0.016666600000000642, 0.016666600000000642, 0.016666600000000642, 0.016666600000000642, 0.016666600000000642, 0.016666600000000642, 0.016666600000000642, 0.016666600000000642, 0.016666600000000642, 0.016666600000000642, 0.016666600000000642, 0.016666600000000642, 0.016666600000000642, 0.016666600000000642, 0.016666600000000642, 0.016666600000000642, 0.016666600000000642, 0.016666600000000642, 0.016666600000000642, 0.016666600000000642, 0.016666600000000642, 0.016666600000000642, 0.016666600000000642, 0.016666600000000642, 0.016666600000000642, 0.016666600000000642, 0.016666600000000642, 0.016666600000000642, 0.016666600000000642, 0.016666600000000642, 0.016666600000000642, 0.016666600000000642, 0.016666600000000642, 0.016666600000000642, 0.016666600000000642, 0.016666600000000642, 0.016666600000000642, 0.016666600000000642, 0.016666600000000642, 0.016666600000000642, 0.016666600000000642, 0.016666600000000642, 0.016666600000000642, 0.016666600000000642, 0.016666600000000642, 0.016666600000000642, 0.016666600000000642, 0.016666600000000642, 0.016666600000000642, 0.016666600000000642, 0.016666600000000642, 0.016666600000000642, 0.016666600000000642, 0.016666600000000642, 0.016666600000000642, 0.016666600000000642, 0.016666600000000642, 0.016666600000000642, 0.016666600000000642, 0.016666600000000642, 0.016666600000000642, 0.016666600000000642, 0.016666600000000642, 0.016666600000000642, 0.016666600000000642, 0.016666600000000642, 0.016666600000000642, 0.016666600000000642, 0.016666600000000642, 0.016666600000000642, 0.016666600000000642, 0.016666600000000642, 0.016666600000000642, 0.016666600000000642, 0.016666600000000642, 0.016666600000000642, 0.016666600000000642, 0.016666600000000642, 0.016666600000000642, 0.016666600000000642, 0.016666600000000642, 0.016666600000000642, 0.016666600000000642, 0.016666600000000642, 0.016666600000000642, 0.016666600000000642, 0.016666600000000642, 0.016666600000000642, 0.016666600000000642, 0.016666600000000642, 0.016666600000000642, 0.016666600000000642, 0.016666600000000642, 0.016666600000000642, 0.016666600000000642, 0.016666600000000642, 0.016666600000000642, 0.016666600000000642, 0.016666600000000642, 0.016666600000000642, 0.016666600000000642, 0.016666600000000642, 0.016666600000000642, 0.016666600000000642, 0.016666600000000642, 0.016666600000000642, 0.016666600000000642, 0.01666659999999709, 0.016666600000000642, 0.016666600000004195, 0.016666600000000642, 0.016666600000000642, 0.016666600000000642, 0.016666600000000642, 0.016666600000000642, 0.016666600000000642, 0.016666600000000642, 0.016666600000000642, 0.016666600000004195, 0.016666600000000642, 0.016666600000000642, 0.01666659999999709, 0.016666600000000642, 0.016666600000004195, 0.016666600000000642, 0.016666600000000642, 0.016666600000000642, 0.01666659999999709, 0.016666600000000642, 0.016666600000000642, 0.016666600000000642, 0.016666600000000642, 0.01666659999999709, 0.016666600000004195, 0.016666600000000642, 0.016666600000000642, 0.016666600000000642, 0.016666600000000642, 0.016666600000004195, 0.01666659999999709, 0.016666600000000642, 0.016666600000000642, 0.016666600000000642, 0.016666600000000642, 0.016666600000000642, 0.016666600000000642, 0.016666600000000642, 0.016666600000000642, 0.01666659999999709, 0.016666600000004195, 0.016666600000000642, 0.01666659999999709, 0.016666600000000642, 0.016666600000000642, 0.016666600000004195, 0.016666600000000642, 0.016666600000000642, 0.01666659999999709, 0.016666600000004195, 0.016666600000000642, 0.016666600000000642, 0.016666600000000642, 0.016666600000000642, 0.016666600000004195, 0.01666659999999709, 0.016666600000000642, 0.016666600000000642, 0.016666600000000642, 0.016666600000000642, 0.016666600000000642, 0.01666659999999709, 0.016666600000004195, 0.016666600000000642, 0.016666600000000642, 0.016666600000000642, 0.016666600000000642, 0.016666600000000642, 0.016666600000000642, 0.016666600000000642, 0.016666600000000642, 0.016666600000004195, 0.016666600000000642, 0.016666600000000642, 0.01666659999999709, 0.016666600000000642, 0.016666600000004195, 0.016666600000000642, 0.016666600000000642, 0.016666600000000642, 0.01666659999999709, 0.016666600000000642, 0.016666600000000642, 0.016666600000000642, 0.016666600000000642, 0.016666600000000642, 0.01666659999999709, 0.016666600000004195, 0.016666600000000642, 0.016666600000000642, 0.016666600000000642, 0.016666600000004195, 0.016666600000000642, 0.01666659999999709, 0.016666600000000642, 0.016666600000000642, 0.016666600000000642, 0.016666600000000642, 0.016666600000000642, 0.016666600000000642, 0.016666600000000642, 0.01666659999999709, 0.016666600000004195, 0.016666600000000642, 0.01666659999999709, 0.016666600000000642, 0.016666600000000642, 0.016666600000004195, 0.016666600000000642, 0.016666600000000642, 0.016666600000000642, 0.016666600000000642, 0.016666600000000642, 0.016666600000000642, 0.016666600000000642, 0.016666600000000642, 0.016666600000000642, 0.016666600000000642, 0.016666600000000642, 0.016666600000000642, 0.016666600000000642, 0.016666600000000642, 0.016666600000000642, 0.01666659999999709, 0.016666600000004195, 0.016666600000000642, 0.016666600000000642, 0.016666600000000642, 0.016666600000000642, 0.016666600000000642, 0.016666600000000642, 0.016666600000000642, 0.016666600000000642, 0.016666600000004195, 0.016666600000000642, 0.016666600000000642, 0.01666659999999709, 0.016666600000000642, 0.016666600000004195, 0.016666600000000642, 0.016666600000000642, 0.016666600000000642, 0.01666659999999709, 0.016666600000000642, 0.016666600000000642, 0.016666600000000642, 0.016666600000000642, 0.016666600000000642, 0.01666659999999709, 0.016666600000004195, 0.016666600000000642, 0.016666600000000642, 0.016666600000000642, 0.016666600000000642, 0.016666600000004195, 0.01666659999999709, 0.016666600000000642, 0.016666600000000642, 0.016666600000000642, 0.016666600000000642, 0.016666600000000642, 0.016666600000000642, 0.016666600000000642, 0.01666659999999709, 0.016666600000000642, 0.016666600000004195, 0.016666600000000642, 0.01666659999999709, 0.016666600000000642, 0.016666600000004195, 0.016666600000000642, 0.016666600000000642, 0.016666600000000642, 0.01666659999999709, 0.016666600000004195, 0.016666600000000642, 0.016666600000000642, 0.016666600000000642, 0.016666600000000642, 0.016666600000004195, 0.01666659999999709, 0.016666600000000642, 0.016666600000000642, 0.016666600000000642, 0.016666600000000642, 0.01666659999999709, 0.016666600000004195, 0.016666600000000642, 0.016666600000000642, 0.016666600000000642, 0.016666600000000642, 0.016666600000000642, 0.016666600000000642, 0.016666600000000642, 0.016666600000000642, 0.016666600000000642, 0.016666600000004195, 0.016666600000000642, 0.01666659999999709, 0.016666600000000642, 0.016666600000004195, 0.016666600000000642, 0.016666600000000642, 0.016666600000000642, 0.016666600000000642, 0.01666659999999709, 0.016666600000000642, 0.016666600000000642, 0.016666600000000642, 0.016666600000000642, 0.01666659999999709, 0.016666600000004195, 0.016666600000000642, 0.016666600000000642, 0.016666600000000642, 0.016666600000000642, 0.016666600000004195, 0.01666659999999709, 0.016666600000000642, 0.016666600000000642, 0.016666600000000642, 0.016666600000000642, 0.016666600000000642, 0.016666600000000642, 0.016666600000000642, 0.016666600000000642, 0.01666659999999709, 0.016666600000004195, 0.016666600000000642, 0.01666659999999709, 0.016666600000000642, 0.016666600000000642, 0.016666600000004195, 0.016666600000000642, 0.016666600000000642, 0.01666659999999709, 0.016666600000004195, 0.016666600000000642, 0.016666600000000642, 0.016666600000000642, 0.016666600000000642, 0.016666600000004195, 0.01666659999999709, 0.016666600000000642, 0.016666600000000642, 0.016666600000000642, 0.016666600000000642, 0.016666600000000642, 0.01666659999999709, 0.016666600000004195, 0.016666600000000642, 0.016666600000000642, 0.016666600000000642, 0.016666600000000642, 0.016666600000000642, 0.016666600000000642, 0.016666600000000642, 0.016666600000000642, 0.016666600000004195, 0.016666600000000642, 0.016666600000000642, 0.01666659999999709, 0.016666600000000642, 0.016666600000004195, 0.016666600000000642, 0.016666600000000642, 0.016666600000000642, 0.01666659999999709, 0.016666600000000642, 0.016666600000000642, 0.016666600000000642, 0.016666600000000642, 0.016666600000000642, 0.01666659999999709, 0.016666600000004195, 0.016666600000000642, 0.016666600000000642, 0.016666600000000642, 0.016666600000004195, 0.01666659999999709, 0.016666600000000642, 0.016666600000000642, 0.016666600000000642, 0.016666600000000642, 0.016666600000000642, 0.016666600000000642, 0.016666600000000642, 0.016666600000000642, 0.01666659999999709, 0.016666600000004195, 0.016666600000000642, 0.01666659999999709, 0.016666600000000642, 0.016666600000000642, 0.016666600000004195, 0.016666600000000642, 0.016666600000000642, 0.01666659999999709, 0.016666600000004195, 0.016666600000000642, 0.016666600000000642, 0.016666600000000642, 0.016666600000000642, 0.016666600000000642, 0.016666600000000642, 0.016666600000000642, 0.016666600000000642, 0.016666600000000642, 0.016666600000000642, 0.016666600000000642, 0.01666659999999709, 0.016666600000004195, 0.016666600000000642, 0.016666600000000642, 0.016666600000000642, 0.016666600000000642, 0.016666600000000642, 0.016666600000000642, 0.016666600000000642, 0.016666600000000642, 0.016666600000004195, 0.016666600000000642, 0.016666600000000642, 0.01666659999999709, 0.016666600000000642, 0.016666600000004195, 0.016666600000000642, 0.016666600000000642, 0.016666600000000642, 0.01666659999999709, 0.016666600000000642, 0.016666600000000642, 0.016666600000000642, 0.016666600000000642, 0.016666600000000642, 0.01666659999999709, 0.016666600000004195, 0.016666600000000642, 0.016666600000000642, 0.016666600000000642, 0.016666600000000642, 0.016666600000004195, 0.01666659999999709, 0.016666600000000642, 0.016666600000000642, 0.016666600000000642, 0.016666600000000642, 0.016666600000000642, 0.016666600000000642, 0.016666600000000642, 0.01666659999999709, 0.016666600000000642, 0.016666600000004195, 0.016666600000000642, 0.01666659999999709, 0.016666600000000642, 0.016666600000004195, 0.016666600000000642, 0.016666600000000642, 0.016666600000000642, 0.016666600000000642, 0.016666600000000642, 0.016666600000000642, 0.016666600000000642, 0.016666600000000642, 0.016666600000000642, 0.016666600000004195, 0.01666659999999709, 0.016666600000000642, 0.016666600000000642, 0.016666600000000642, 0.016666600000000642, 0.01666659999999709, 0.016666600000004195, 0.016666600000000642, 0.016666600000000642, 0.016666600000000642, 0.016666600000000642, 0.016666600000000642, 0.016666600000000642, 0.016666600000000642, 0.016666600000000642, 0.016666600000000642, 0.016666600000004195, 0.016666600000000642, 0.01666659999999709, 0.016666600000000642, 0.016666600000004195, 0.016666600000000642, 0.016666600000000642, 0.016666600000000642, 0.016666600000000642, 0.01666659999999709, 0.016666600000000642, 0.016666600000000642, 0.016666600000000642, 0.016666600000000642, 0.01666659999999709, 0.016666600000004195, 0.016666600000000642, 0.016666600000000642, 0.016666600000000642, 0.016666600000000642, 0.016666600000004195, 0.01666659999999709, 0.016666600000000642, 0.016666600000000642, 0.016666600000000642, 0.016666600000000642, 0.016666600000000642, 0.016666600000000642, 0.016666600000000642, 0.016666600000000642, 0.01666659999999709, 0.016666600000004195, 0.016666600000000642, 0.01666659999999709, 0.016666600000000642, 0.016666600000000642, 0.016666600000004195, 0.016666600000000642, 0.016666600000000642, 0.01666659999999709, 0.016666600000004195, 0.016666600000000642, 0.016666600000000642, 0.016666600000000642, 0.016666600000000642, 0.016666600000004195, 0.01666659999999709, 0.016666600000000642, 0.016666600000000642, 0.016666600000000642, 0.016666600000000642, 0.016666600000000642, 0.01666659999999709, 0.016666600000004195, 0.016666600000000642]\n",
            "this is the hr_bpm : 3600014.400057511\n",
            "this is the hr_list : [3600014.400057511]\n"
          ]
        },
        {
          "output_type": "display_data",
          "data": {
            "image/png": "[encoded data removed]",
            "text/plain": [
              "<Figure size 432x288 with 1 Axes>"
            ]
          },
          "metadata": {
            "needs_background": "light"
          }
        },
        {
          "output_type": "stream",
          "name": "stderr",
          "text": [
            "\r 80%|████████  | 4/5 [00:04<00:01,  1.33s/it]"
          ]
        },
        {
          "output_type": "stream",
          "name": "stdout",
          "text": [
            "!!!!!!!!!!!!!!!!!!!!!!!!\n",
            "eheee\n",
            "/content/drive/MyDrive/Finalproject/face_videos/710.csv\n",
            "/content/drive/MyDrive/Finalproject/face_videos/710.avi\n",
            "True\n",
            "the loop was running\n",
            "10\n",
            "20.0\n",
            "this is the sliding_window_stride : 500\n",
            "this is the sliding_window_size_frame : 15\n",
            "this is the num_maps : 21\n",
            "this is the start_time : 0\n",
            "this is the sliding_window_stride : 500\n",
            "0\n",
            "1526\n",
            "[0.0166666, 0.016666599999999997, 0.016666600000000004, 0.016666600000000004, 0.01666659999999999, 0.016666600000000004, 0.016666600000000004, 0.016666600000000004, 0.016666600000000004, 0.016666600000000004, 0.016666599999999976, 0.016666600000000004, 0.016666600000000004, 0.016666600000000004, 0.016666600000000004, 0.016666599999999976, 0.01666659999999992, 0.016666599999999976, 0.01666660000000003, 0.016666599999999976, 0.01666659999999992, 0.016666599999999976, 0.01666660000000003, 0.016666599999999976, 0.01666659999999992, 0.016666599999999976, 0.01666660000000003, 0.016666599999999976, 0.01666659999999992, 0.016666600000000087, 0.016666599999999976, 0.016666599999999976, 0.016666599999999976, 0.016666599999999976, 0.016666599999999976, 0.016666599999999976, 0.016666599999999976, 0.016666599999999976, 0.016666599999999976, 0.016666599999999976, 0.016666599999999976, 0.016666599999999976, 0.016666599999999976, 0.016666599999999976, 0.016666599999999976, 0.016666599999999976, 0.016666599999999976, 0.016666599999999976, 0.016666599999999976, 0.016666599999999976, 0.016666599999999976, 0.016666599999999976, 0.016666599999999976, 0.016666600000000087, 0.016666599999999976, 0.016666599999999976, 0.016666599999999865, 0.016666599999999976, 0.016666599999999976, 0.016666599999999976, 0.016666599999999976, 0.016666599999999976, 0.016666599999999976, 0.016666599999999976, 0.016666599999999976, 0.016666599999999976, 0.016666599999999976, 0.016666599999999976, 0.016666599999999976, 0.016666599999999976, 0.016666599999999976, 0.016666600000000198, 0.016666599999999976, 0.016666599999999754, 0.016666599999999976, 0.016666599999999976, 0.016666599999999976, 0.016666599999999754, 0.016666599999999976, 0.016666600000000198, 0.016666599999999976, 0.016666599999999976, 0.016666599999999976, 0.016666599999999976, 0.016666599999999976, 0.016666599999999976, 0.016666599999999976, 0.016666599999999976, 0.016666600000000198, 0.016666599999999754, 0.016666599999999976, 0.016666599999999976, 0.016666599999999976, 0.016666599999999976, 0.016666599999999754, 0.016666600000000198, 0.016666599999999976, 0.016666599999999976, 0.016666599999999976, 0.016666599999999976, 0.016666599999999976, 0.016666599999999976, 0.016666599999999976, 0.016666599999999976, 0.016666600000000198, 0.016666599999999976, 0.016666599999999754, 0.016666599999999754, 0.016666599999999976, 0.016666599999999976, 0.016666599999999976, 0.016666599999999976, 0.016666600000000198, 0.016666599999999976, 0.016666599999999976, 0.016666599999999976, 0.016666599999999976, 0.016666599999999976, 0.016666599999999532, 0.016666600000000642, 0.016666600000000198, 0.016666600000000198, 0.016666600000000198, 0.016666600000000198, 0.016666600000000198, 0.016666600000000198, 0.016666600000000198, 0.016666600000000642, 0.016666599999999754, 0.016666600000000642, 0.016666599999999754, 0.016666600000000198, 0.016666600000000198, 0.016666600000000198, 0.016666600000000198, 0.016666600000000198, 0.016666600000000198, 0.016666600000000198, 0.016666599999999754, 0.016666600000000642, 0.016666600000000198, 0.016666600000000198, 0.016666600000000198, 0.016666600000000198, 0.016666600000000198, 0.016666600000000198, 0.016666600000000198, 0.016666600000000642, 0.016666599999999754, 0.016666600000000642, 0.016666599999999754, 0.016666600000000198, 0.016666600000000198, 0.016666600000000198, 0.016666600000000198, 0.016666600000000198, 0.016666600000000198, 0.016666600000000198, 0.016666599999999754, 0.016666600000000642, 0.016666600000000198, 0.016666600000000198, 0.016666600000000198, 0.016666600000000198, 0.016666600000000198, 0.016666600000000198, 0.016666600000000198, 0.016666600000000198, 0.016666600000000198, 0.016666600000000642, 0.016666599999999754, 0.016666600000000198, 0.016666599999999754, 0.016666600000000642, 0.016666600000000198, 0.016666600000000198, 0.016666600000000198, 0.016666599999999754, 0.016666600000000198, 0.016666600000000642, 0.016666600000000198, 0.016666600000000198, 0.016666600000000198, 0.016666600000000198, 0.016666600000000198, 0.016666600000000198, 0.016666600000000198, 0.016666600000000198, 0.016666600000000198, 0.016666600000000642, 0.016666599999999754, 0.016666600000000198, 0.016666600000000198, 0.016666600000000198, 0.016666600000000198, 0.016666600000000198, 0.016666600000000198, 0.016666600000000198, 0.016666600000000198, 0.016666600000000198, 0.016666600000000198, 0.016666600000000198, 0.016666600000000198, 0.016666600000000198, 0.016666600000000198, 0.016666600000000198, 0.016666600000000198, 0.016666600000000198, 0.016666600000000642, 0.016666600000000198, 0.016666600000000198, 0.016666599999999754, 0.016666600000000198, 0.016666600000000198, 0.016666600000000642, 0.016666599999999754, 0.016666600000000198, 0.016666600000000198, 0.016666599999999754, 0.016666600000000642, 0.016666600000000198, 0.016666600000000198, 0.016666600000000198, 0.01666659999999931, 0.016666600000001086, 0.016666599999999754, 0.016666600000000642, 0.016666600000000198, 0.016666600000000198, 0.016666600000000642, 0.016666600000000198, 0.016666599999999754, 0.016666600000000198, 0.016666599999999754, 0.016666600000001086, 0.016666599999999754, 0.016666600000000198, 0.016666600000000198, 0.016666599999999754, 0.016666600000000642, 0.016666599999999754, 0.016666599999999754, 0.016666599999999754, 0.016666599999999754, 0.016666599999999754, 0.016666599999999754, 0.016666599999999754, 0.016666600000000642, 0.016666599999998866, 0.016666599999999754, 0.016666599999999754, 0.016666599999999754, 0.016666599999999754, 0.016666599999999754, 0.016666599999999754, 0.016666599999999754, 0.016666599999999754, 0.016666599999999754, 0.016666599999999754, 0.016666599999999754, 0.016666599999999754, 0.016666599999999754, 0.016666599999999754, 0.016666599999999754, 0.016666599999999754, 0.016666599999999754, 0.016666599999999754, 0.016666599999999754, 0.016666599999999754, 0.016666599999999754, 0.016666599999999754, 0.016666599999999754, 0.016666599999999754, 0.016666599999999754, 0.016666599999999754, 0.016666599999999754, 0.016666599999999754, 0.016666599999999754, 0.016666599999999754, 0.016666599999999754, 0.016666599999999754, 0.016666599999999754, 0.016666599999999754, 0.016666599999999754, 0.016666599999999754, 0.016666599999999754, 0.016666599999999754, 0.016666599999999754, 0.016666599999999754, 0.016666599999999754, 0.016666599999999754, 0.016666599999999754, 0.016666599999999754, 0.016666599999999754, 0.016666599999999754, 0.016666599999999754, 0.016666600000000642, 0.016666599999998866, 0.016666599999999754, 0.016666599999999754, 0.016666600000000642, 0.016666599999998866, 0.016666599999999754, 0.016666599999999754, 0.016666599999999754, 0.016666599999999754, 0.016666599999999754, 0.016666599999999754, 0.016666599999999754, 0.016666599999999754, 0.016666599999999754, 0.016666599999999754, 0.016666600000000642, 0.016666599999998866, 0.016666599999999754, 0.016666599999999754, 0.016666599999999754, 0.016666599999999754, 0.016666599999999754, 0.016666599999999754, 0.016666599999999754, 0.016666599999999754, 0.016666599999999754, 0.016666599999999754, 0.016666599999999754, 0.016666599999999754, 0.016666599999999754, 0.016666599999999754, 0.016666599999999754, 0.016666599999999754, 0.016666599999999754, 0.016666599999999754, 0.016666599999999754, 0.016666599999999754, 0.016666599999999754, 0.016666599999999754, 0.016666599999999754, 0.016666599999999754, 0.016666599999999754, 0.016666599999999754, 0.016666599999999754, 0.016666599999999754, 0.016666599999999754, 0.016666599999999754, 0.016666599999999754, 0.016666599999999754, 0.016666599999999754, 0.016666599999999754, 0.016666599999999754, 0.016666599999999754, 0.016666599999999754, 0.016666599999999754, 0.016666599999999754, 0.016666599999999754, 0.016666599999999754, 0.016666599999999754, 0.016666599999999754, 0.016666599999999754, 0.016666599999999754, 0.016666599999999754, 0.016666599999999754, 0.016666600000000642, 0.016666599999998866, 0.016666599999999754, 0.016666599999999754, 0.016666600000000642, 0.016666599999998866, 0.016666599999999754, 0.016666599999999754, 0.016666599999999754, 0.016666599999999754, 0.016666599999999754, 0.016666599999999754, 0.016666599999999754, 0.016666599999999754, 0.016666599999999754, 0.016666599999999754, 0.016666600000000642, 0.016666599999998866, 0.016666599999999754, 0.016666599999999754, 0.016666599999999754, 0.016666599999999754, 0.016666599999999754, 0.016666599999999754, 0.016666599999999754, 0.016666599999999754, 0.016666599999999754, 0.016666599999999754, 0.016666599999999754, 0.016666599999999754, 0.016666599999999754, 0.016666599999999754, 0.016666599999999754, 0.016666599999999754, 0.016666599999999754, 0.016666599999999754, 0.016666599999999754, 0.016666599999999754, 0.016666599999999754, 0.016666599999999754, 0.016666599999999754, 0.016666599999999754, 0.016666599999999754, 0.016666599999999754, 0.016666599999999754, 0.016666599999999754, 0.016666599999999754, 0.016666599999999754, 0.016666599999999754, 0.016666599999999754, 0.016666599999999754, 0.016666599999999754, 0.016666599999999754, 0.016666599999999754, 0.016666599999999754, 0.016666599999999754, 0.016666599999999754, 0.016666599999999754, 0.016666599999999754, 0.016666599999999754, 0.016666599999999754, 0.016666599999998866, 0.016666600000000642, 0.016666599999999754, 0.016666599999999754, 0.016666600000000642, 0.016666599999998866, 0.016666599999999754, 0.016666599999999754, 0.016666600000000642, 0.016666599999998866, 0.016666599999999754, 0.016666599999999754, 0.016666599999998866, 0.016666600000000642, 0.016666599999999754, 0.016666599999999754, 0.016666599999998866, 0.016666600000000642, 0.016666599999999754, 0.016666599999999754, 0.016666599999999754, 0.016666599999999754, 0.016666599999999754, 0.016666599999999754, 0.016666599999998866, 0.016666600000000642, 0.016666599999999754, 0.016666599999999754, 0.016666599999999754, 0.016666599999999754, 0.016666599999999754, 0.016666599999999754, 0.016666599999999754, 0.016666599999999754, 0.016666599999999754, 0.016666599999999754, 0.016666599999999754, 0.016666599999999754, 0.016666599999999754, 0.016666599999999754, 0.016666599999999754, 0.016666599999999754, 0.016666599999999754, 0.016666599999999754, 0.016666599999999754, 0.016666599999999754, 0.016666599999999754, 0.016666599999999754, 0.016666599999999754, 0.016666599999999754, 0.016666599999999754, 0.016666599999999754, 0.016666599999999754, 0.016666599999999754, 0.016666599999999754, 0.016666599999999754, 0.016666599999999754, 0.016666599999999754, 0.016666600000000642, 0.016666600000000642, 0.016666600000000642, 0.016666600000000642, 0.016666600000000642, 0.016666600000000642, 0.016666600000000642, 0.016666600000000642, 0.016666600000000642, 0.016666600000000642, 0.016666600000000642, 0.016666600000000642, 0.016666600000000642, 0.016666600000000642, 0.016666600000000642, 0.016666600000000642, 0.016666600000000642, 0.016666600000000642, 0.016666600000000642, 0.016666600000000642, 0.016666600000000642, 0.016666600000000642, 0.016666600000000642, 0.016666600000000642, 0.016666600000000642, 0.016666600000000642, 0.016666600000000642, 0.016666600000000642, 0.016666600000000642, 0.016666600000000642, 0.016666600000000642, 0.016666600000000642, 0.016666600000000642, 0.016666600000000642, 0.016666600000000642, 0.016666600000000642, 0.016666600000000642, 0.016666600000000642, 0.016666600000000642, 0.016666600000000642, 0.016666600000000642, 0.016666600000000642, 0.016666600000000642, 0.016666600000000642, 0.016666600000000642, 0.016666600000000642, 0.016666600000000642, 0.016666600000000642, 0.016666600000000642, 0.016666600000000642, 0.016666600000000642, 0.016666600000000642, 0.016666600000000642, 0.016666600000000642, 0.016666600000000642, 0.016666600000000642, 0.016666600000000642, 0.016666600000000642, 0.016666600000000642, 0.016666599999998866, 0.01666660000000242, 0.016666600000000642, 0.01666660000000242, 0.016666599999998866, 0.016666600000000642, 0.016666600000000642, 0.016666599999998866, 0.01666660000000242, 0.01666660000000242, 0.016666599999998866, 0.016666600000000642, 0.016666600000000642, 0.016666600000000642, 0.016666600000000642, 0.016666600000000642, 0.016666600000000642, 0.016666600000000642, 0.016666600000000642, 0.016666599999998866, 0.01666660000000242, 0.016666600000000642, 0.01666660000000242, 0.016666599999998866, 0.016666600000000642, 0.016666599999998866, 0.01666660000000242, 0.016666600000000642, 0.01666660000000242, 0.016666599999998866, 0.016666600000000642, 0.016666600000000642, 0.016666599999998866, 0.01666660000000242, 0.01666660000000242, 0.016666599999998866, 0.016666600000000642, 0.016666600000000642, 0.016666599999998866, 0.01666660000000242, 0.01666660000000242, 0.016666599999998866, 0.016666600000000642, 0.016666600000000642, 0.016666600000000642, 0.016666600000000642, 0.016666600000000642, 0.016666600000000642, 0.016666600000000642, 0.016666600000000642, 0.016666599999998866, 0.01666660000000242, 0.016666600000000642, 0.01666660000000242, 0.016666599999998866, 0.016666600000000642, 0.016666599999998866, 0.01666660000000242, 0.016666600000000642, 0.01666660000000242, 0.016666599999998866, 0.016666600000000642, 0.016666600000000642, 0.016666599999998866, 0.01666660000000242, 0.01666660000000242, 0.016666599999998866, 0.016666600000000642, 0.016666600000000642, 0.016666599999998866, 0.01666660000000242, 0.01666660000000242, 0.016666599999998866, 0.016666600000000642, 0.016666600000000642, 0.016666599999998866, 0.01666660000000242, 0.016666600000000642, 0.01666660000000242, 0.016666599999998866, 0.016666600000000642, 0.016666599999998866, 0.01666660000000242, 0.016666600000000642, 0.01666660000000242, 0.016666599999998866, 0.016666600000000642, 0.016666600000000642, 0.016666599999998866, 0.01666660000000242, 0.01666660000000242, 0.016666599999998866, 0.016666600000000642, 0.016666600000000642, 0.016666599999998866, 0.01666660000000242, 0.01666660000000242, 0.016666599999998866, 0.016666600000000642, 0.016666600000000642, 0.016666599999998866, 0.01666660000000242, 0.016666600000000642, 0.01666660000000242, 0.016666599999998866, 0.016666600000000642, 0.016666599999998866, 0.01666660000000242, 0.016666600000000642, 0.01666660000000242, 0.016666599999998866, 0.016666600000000642, 0.016666600000000642, 0.016666599999998866, 0.01666660000000242, 0.01666660000000242, 0.016666599999998866, 0.016666600000000642, 0.016666600000000642, 0.016666599999998866, 0.01666660000000242, 0.01666660000000242, 0.016666599999998866, 0.016666600000000642, 0.016666600000000642, 0.016666599999998866, 0.01666660000000242, 0.016666600000000642, 0.016666600000000642, 0.016666600000000642, 0.016666600000000642, 0.016666599999998866, 0.01666660000000242, 0.016666600000000642, 0.01666660000000242, 0.016666599999998866, 0.016666600000000642, 0.016666599999998866, 0.01666660000000242, 0.016666600000000642, 0.016666600000000642, 0.016666600000000642, 0.016666600000000642, 0.016666600000000642, 0.016666599999998866, 0.01666660000000242, 0.01666660000000242, 0.016666599999998866, 0.016666600000000642, 0.016666600000000642, 0.016666599999998866, 0.01666660000000242, 0.01666660000000242, 0.016666599999998866, 0.016666600000000642, 0.016666600000000642, 0.016666599999998866, 0.01666660000000242, 0.016666600000000642, 0.01666660000000242, 0.016666599999998866, 0.016666600000000642, 0.016666599999998866, 0.01666660000000242, 0.016666600000000642, 0.01666660000000242, 0.016666599999998866, 0.016666600000000642, 0.016666600000000642, 0.016666600000000642, 0.016666600000000642, 0.016666600000000642, 0.016666600000000642, 0.016666600000000642, 0.016666600000000642, 0.016666599999998866, 0.01666660000000242, 0.01666660000000242, 0.016666599999998866, 0.016666600000000642, 0.016666600000000642, 0.016666599999998866, 0.01666660000000242, 0.016666600000000642, 0.01666660000000242, 0.016666599999998866, 0.016666600000000642, 0.016666599999998866, 0.01666660000000242, 0.016666600000000642, 0.01666660000000242, 0.016666599999998866, 0.016666600000000642, 0.016666600000000642, 0.016666599999998866, 0.01666660000000242, 0.01666660000000242, 0.016666599999998866, 0.016666600000000642, 0.016666600000000642, 0.016666600000000642, 0.016666600000000642, 0.016666600000000642, 0.016666600000000642, 0.016666600000000642, 0.016666600000000642, 0.016666599999998866, 0.01666660000000242, 0.016666600000000642, 0.016666600000000642, 0.016666600000000642, 0.016666600000000642, 0.016666599999998866, 0.01666660000000242, 0.016666600000000642, 0.01666660000000242, 0.016666599999998866, 0.016666600000000642, 0.016666599999998866, 0.01666660000000242, 0.016666600000000642, 0.01666660000000242, 0.016666599999998866, 0.016666600000000642, 0.016666600000000642, 0.016666599999998866, 0.01666660000000242, 0.01666660000000242, 0.016666599999998866, 0.016666600000000642, 0.016666600000000642, 0.016666600000000642, 0.016666600000000642, 0.016666600000000642, 0.016666600000000642, 0.016666600000000642, 0.016666600000000642, 0.016666599999998866, 0.01666660000000242, 0.016666600000000642, 0.01666660000000242, 0.016666599999998866, 0.016666600000000642, 0.016666599999998866, 0.01666660000000242, 0.016666600000000642, 0.01666660000000242, 0.016666599999998866, 0.016666600000000642, 0.016666600000000642, 0.016666599999998866, 0.01666660000000242, 0.01666660000000242, 0.016666599999998866, 0.016666600000000642, 0.016666600000000642, 0.016666599999998866, 0.01666660000000242, 0.01666660000000242, 0.016666599999998866, 0.016666600000000642, 0.016666600000000642, 0.016666600000000642, 0.016666600000000642, 0.016666600000000642, 0.01666660000000242, 0.016666599999998866, 0.016666600000000642, 0.016666599999998866, 0.01666660000000242, 0.016666600000000642, 0.01666660000000242, 0.016666599999998866, 0.016666600000000642, 0.016666600000000642, 0.016666599999998866, 0.01666660000000242, 0.01666660000000242, 0.016666599999998866, 0.016666600000000642, 0.016666600000000642, 0.016666599999998866, 0.01666660000000242, 0.01666660000000242, 0.016666599999998866, 0.016666600000000642, 0.016666600000000642, 0.016666599999998866, 0.01666660000000242, 0.016666600000000642, 0.016666600000000642, 0.016666600000000642, 0.016666600000000642, 0.016666599999998866, 0.01666660000000242, 0.016666600000000642, 0.01666660000000242, 0.016666599999998866, 0.016666600000000642, 0.016666599999998866, 0.01666660000000242, 0.016666600000000642, 0.01666660000000242, 0.016666599999998866, 0.016666600000000642, 0.016666600000000642, 0.016666599999998866, 0.01666660000000242, 0.01666660000000242, 0.016666599999998866, 0.016666600000000642, 0.016666600000000642, 0.016666599999998866, 0.01666660000000242, 0.01666660000000242, 0.016666599999998866, 0.016666600000000642, 0.016666600000000642, 0.016666599999998866, 0.01666660000000242, 0.016666600000000642, 0.01666660000000242, 0.016666599999998866, 0.016666600000000642, 0.016666599999998866, 0.01666660000000242, 0.016666600000000642, 0.016666600000000642, 0.016666600000000642, 0.016666600000000642, 0.016666600000000642, 0.016666599999998866, 0.01666660000000242, 0.01666660000000242, 0.016666599999998866, 0.016666600000000642, 0.016666600000000642, 0.016666599999998866, 0.01666660000000242, 0.01666660000000242, 0.016666599999998866, 0.016666600000000642, 0.016666600000000642, 0.016666599999998866, 0.01666660000000242, 0.016666600000000642, 0.01666660000000242, 0.016666599999998866, 0.016666600000000642, 0.016666599999998866, 0.01666660000000242, 0.016666600000000642, 0.01666660000000242, 0.016666599999998866, 0.016666600000000642, 0.016666600000000642, 0.016666600000000642, 0.016666600000000642, 0.016666600000000642, 0.016666600000000642, 0.016666600000000642, 0.016666600000000642, 0.016666599999998866, 0.01666660000000242, 0.01666660000000242, 0.016666599999998866, 0.016666600000000642, 0.016666600000000642, 0.016666599999998866, 0.01666660000000242, 0.016666600000000642, 0.016666600000000642, 0.016666600000000642, 0.016666600000000642, 0.016666599999998866, 0.01666660000000242, 0.016666600000000642, 0.01666660000000242, 0.016666599999998866, 0.016666600000000642, 0.016666599999998866, 0.01666660000000242, 0.016666600000000642, 0.01666660000000242, 0.016666599999998866, 0.016666600000000642, 0.016666600000000642, 0.016666600000000642, 0.016666600000000642, 0.016666600000000642, 0.016666600000000642, 0.016666600000000642, 0.016666600000000642, 0.016666599999998866, 0.01666660000000242, 0.01666660000000242, 0.016666599999998866, 0.016666600000000642, 0.016666600000000642, 0.016666599999998866, 0.01666660000000242, 0.016666600000000642, 0.01666660000000242, 0.016666599999998866, 0.016666600000000642, 0.016666599999998866, 0.01666660000000242, 0.016666600000000642, 0.01666660000000242, 0.016666599999998866, 0.016666600000000642, 0.016666600000000642, 0.016666599999998866, 0.01666660000000242, 0.01666660000000242, 0.016666599999998866, 0.016666600000000642, 0.016666600000000642, 0.016666600000000642, 0.016666600000000642, 0.016666599999998866, 0.016666600000000642, 0.016666600000000642, 0.016666600000000642, 0.016666600000000642, 0.016666600000000642, 0.016666600000000642, 0.016666600000000642, 0.016666600000000642, 0.016666600000000642, 0.016666600000000642, 0.016666600000000642, 0.016666600000000642, 0.016666600000000642, 0.016666600000000642, 0.016666600000000642, 0.016666600000000642, 0.016666600000000642, 0.016666600000000642, 0.016666600000000642, 0.016666600000000642, 0.016666600000000642, 0.016666600000000642, 0.016666600000000642, 0.016666600000000642, 0.016666600000000642, 0.016666600000000642, 0.016666600000000642, 0.016666600000000642, 0.016666600000000642, 0.016666600000000642, 0.016666600000000642, 0.016666600000000642, 0.016666600000000642, 0.016666600000000642, 0.016666600000000642, 0.016666600000000642, 0.016666600000000642, 0.016666600000000642, 0.016666600000000642, 0.016666600000000642, 0.016666600000000642, 0.016666600000000642, 0.016666600000000642, 0.016666600000000642, 0.016666600000000642, 0.016666600000000642, 0.016666600000000642, 0.016666600000000642, 0.016666600000000642, 0.016666600000000642, 0.016666600000000642, 0.016666600000000642, 0.016666600000000642, 0.016666600000000642, 0.016666600000000642, 0.016666600000000642, 0.016666600000000642, 0.016666600000000642, 0.016666600000000642, 0.016666600000000642, 0.016666600000000642, 0.016666600000000642, 0.016666600000000642, 0.016666600000000642, 0.016666600000000642, 0.016666600000000642, 0.016666600000000642, 0.016666600000000642, 0.016666600000000642, 0.016666600000000642, 0.016666600000000642, 0.016666600000000642, 0.016666600000000642, 0.016666600000000642, 0.016666600000000642, 0.016666600000000642, 0.016666600000000642, 0.016666600000000642, 0.016666600000000642, 0.016666600000000642, 0.016666600000000642, 0.016666600000000642, 0.016666600000000642, 0.016666600000000642, 0.016666600000000642, 0.016666600000000642, 0.016666600000000642, 0.016666600000000642, 0.016666600000000642, 0.016666600000000642, 0.016666600000000642, 0.016666600000000642, 0.016666600000000642, 0.016666600000000642, 0.016666600000000642, 0.016666600000000642, 0.016666600000000642, 0.016666600000000642, 0.016666600000000642, 0.016666600000000642, 0.016666600000000642, 0.016666600000000642, 0.016666600000000642, 0.016666600000000642, 0.016666600000000642, 0.016666600000000642, 0.016666600000000642, 0.016666600000000642, 0.016666600000000642, 0.016666600000000642, 0.016666600000000642, 0.016666600000000642, 0.016666600000000642, 0.016666600000000642, 0.016666600000000642, 0.016666600000000642, 0.016666600000000642, 0.016666600000000642, 0.016666600000000642, 0.01666659999999709, 0.016666600000000642, 0.016666600000004195, 0.016666600000000642, 0.016666600000000642, 0.016666600000000642, 0.016666600000000642, 0.016666600000000642, 0.016666600000000642, 0.016666600000000642, 0.016666600000000642, 0.016666600000004195, 0.016666600000000642, 0.016666600000000642, 0.01666659999999709, 0.016666600000000642, 0.016666600000004195, 0.016666600000000642, 0.016666600000000642, 0.016666600000000642, 0.01666659999999709, 0.016666600000000642, 0.016666600000000642, 0.016666600000000642, 0.016666600000000642, 0.01666659999999709, 0.016666600000004195, 0.016666600000000642, 0.016666600000000642, 0.016666600000000642, 0.016666600000000642, 0.016666600000004195, 0.01666659999999709, 0.016666600000000642, 0.016666600000000642, 0.016666600000000642, 0.016666600000000642, 0.016666600000000642, 0.016666600000000642, 0.016666600000000642, 0.016666600000000642, 0.01666659999999709, 0.016666600000004195, 0.016666600000000642, 0.01666659999999709, 0.016666600000000642, 0.016666600000000642, 0.016666600000004195, 0.016666600000000642, 0.016666600000000642, 0.01666659999999709, 0.016666600000004195, 0.016666600000000642, 0.016666600000000642, 0.016666600000000642, 0.016666600000000642, 0.016666600000004195, 0.01666659999999709, 0.016666600000000642, 0.016666600000000642, 0.016666600000000642, 0.016666600000000642, 0.016666600000000642, 0.01666659999999709, 0.016666600000004195, 0.016666600000000642, 0.016666600000000642, 0.016666600000000642, 0.016666600000000642, 0.016666600000000642, 0.016666600000000642, 0.016666600000000642, 0.016666600000000642, 0.016666600000004195, 0.016666600000000642, 0.016666600000000642, 0.01666659999999709, 0.016666600000000642, 0.016666600000004195, 0.016666600000000642, 0.016666600000000642, 0.016666600000000642, 0.01666659999999709, 0.016666600000000642, 0.016666600000000642, 0.016666600000000642, 0.016666600000000642, 0.016666600000000642, 0.01666659999999709, 0.016666600000004195, 0.016666600000000642, 0.016666600000000642, 0.016666600000000642, 0.016666600000004195, 0.016666600000000642, 0.01666659999999709, 0.016666600000000642, 0.016666600000000642, 0.016666600000000642, 0.016666600000000642, 0.016666600000000642, 0.016666600000000642, 0.016666600000000642, 0.01666659999999709, 0.016666600000004195, 0.016666600000000642, 0.01666659999999709, 0.016666600000000642, 0.016666600000000642, 0.016666600000004195, 0.016666600000000642, 0.016666600000000642, 0.016666600000000642, 0.016666600000000642, 0.016666600000000642, 0.016666600000000642, 0.016666600000000642, 0.016666600000000642, 0.016666600000000642, 0.016666600000000642, 0.016666600000000642, 0.016666600000000642, 0.016666600000000642, 0.016666600000000642, 0.016666600000000642, 0.01666659999999709, 0.016666600000004195, 0.016666600000000642, 0.016666600000000642, 0.016666600000000642, 0.016666600000000642, 0.016666600000000642, 0.016666600000000642, 0.016666600000000642, 0.016666600000000642, 0.016666600000004195, 0.016666600000000642, 0.016666600000000642, 0.01666659999999709, 0.016666600000000642, 0.016666600000004195, 0.016666600000000642, 0.016666600000000642, 0.016666600000000642, 0.01666659999999709, 0.016666600000000642, 0.016666600000000642, 0.016666600000000642, 0.016666600000000642, 0.016666600000000642, 0.01666659999999709, 0.016666600000004195, 0.016666600000000642, 0.016666600000000642, 0.016666600000000642, 0.016666600000000642, 0.016666600000004195, 0.01666659999999709, 0.016666600000000642, 0.016666600000000642, 0.016666600000000642, 0.016666600000000642, 0.016666600000000642, 0.016666600000000642, 0.016666600000000642, 0.01666659999999709, 0.016666600000000642, 0.016666600000004195, 0.016666600000000642, 0.01666659999999709, 0.016666600000000642, 0.016666600000004195, 0.016666600000000642, 0.016666600000000642, 0.016666600000000642, 0.01666659999999709, 0.016666600000004195, 0.016666600000000642, 0.016666600000000642, 0.016666600000000642, 0.016666600000000642, 0.016666600000004195, 0.01666659999999709, 0.016666600000000642, 0.016666600000000642, 0.016666600000000642, 0.016666600000000642, 0.01666659999999709, 0.016666600000004195, 0.016666600000000642, 0.016666600000000642, 0.016666600000000642, 0.016666600000000642, 0.016666600000000642, 0.016666600000000642, 0.016666600000000642, 0.016666600000000642, 0.016666600000000642, 0.016666600000004195, 0.016666600000000642, 0.01666659999999709, 0.016666600000000642, 0.016666600000004195, 0.016666600000000642, 0.016666600000000642, 0.016666600000000642, 0.016666600000000642, 0.01666659999999709, 0.016666600000000642, 0.016666600000000642, 0.016666600000000642, 0.016666600000000642, 0.01666659999999709, 0.016666600000004195, 0.016666600000000642, 0.016666600000000642, 0.016666600000000642, 0.016666600000000642, 0.016666600000004195, 0.01666659999999709, 0.016666600000000642, 0.016666600000000642, 0.016666600000000642, 0.016666600000000642, 0.016666600000000642, 0.016666600000000642, 0.016666600000000642, 0.016666600000000642, 0.01666659999999709, 0.016666600000004195, 0.016666600000000642, 0.01666659999999709, 0.016666600000000642, 0.016666600000000642, 0.016666600000004195, 0.016666600000000642, 0.016666600000000642, 0.01666659999999709, 0.016666600000004195, 0.016666600000000642, 0.016666600000000642, 0.016666600000000642, 0.016666600000000642, 0.016666600000004195, 0.01666659999999709, 0.016666600000000642, 0.016666600000000642, 0.016666600000000642, 0.016666600000000642, 0.016666600000000642, 0.01666659999999709, 0.016666600000004195, 0.016666600000000642, 0.016666600000000642, 0.016666600000000642, 0.016666600000000642, 0.016666600000000642, 0.016666600000000642, 0.016666600000000642, 0.016666600000000642, 0.016666600000004195, 0.016666600000000642, 0.016666600000000642, 0.01666659999999709, 0.016666600000000642, 0.016666600000004195, 0.016666600000000642, 0.016666600000000642, 0.016666600000000642, 0.01666659999999709, 0.016666600000000642, 0.016666600000000642, 0.016666600000000642, 0.016666600000000642, 0.016666600000000642, 0.01666659999999709, 0.016666600000004195, 0.016666600000000642, 0.016666600000000642, 0.016666600000000642, 0.016666600000004195, 0.01666659999999709, 0.016666600000000642, 0.016666600000000642, 0.016666600000000642, 0.016666600000000642, 0.016666600000000642, 0.016666600000000642, 0.016666600000000642, 0.016666600000000642, 0.01666659999999709, 0.016666600000004195, 0.016666600000000642, 0.01666659999999709, 0.016666600000000642, 0.016666600000000642, 0.016666600000004195, 0.016666600000000642, 0.016666600000000642, 0.01666659999999709, 0.016666600000004195, 0.016666600000000642, 0.016666600000000642, 0.016666600000000642, 0.016666600000000642, 0.016666600000000642, 0.016666600000000642, 0.016666600000000642, 0.016666600000000642, 0.016666600000000642, 0.016666600000000642, 0.016666600000000642, 0.01666659999999709, 0.016666600000004195, 0.016666600000000642, 0.016666600000000642, 0.016666600000000642, 0.016666600000000642, 0.016666600000000642, 0.016666600000000642, 0.016666600000000642, 0.016666600000000642, 0.016666600000004195, 0.016666600000000642, 0.016666600000000642, 0.01666659999999709, 0.016666600000000642, 0.016666600000004195, 0.016666600000000642, 0.016666600000000642, 0.016666600000000642, 0.01666659999999709, 0.016666600000000642, 0.016666600000000642, 0.016666600000000642, 0.016666600000000642, 0.016666600000000642, 0.01666659999999709, 0.016666600000004195, 0.016666600000000642, 0.016666600000000642, 0.016666600000000642, 0.016666600000000642, 0.016666600000004195, 0.01666659999999709, 0.016666600000000642, 0.016666600000000642, 0.016666600000000642, 0.016666600000000642, 0.016666600000000642, 0.016666600000000642, 0.016666600000000642, 0.01666659999999709, 0.016666600000000642, 0.016666600000004195, 0.016666600000000642, 0.01666659999999709, 0.016666600000000642, 0.016666600000004195, 0.016666600000000642, 0.016666600000000642, 0.016666600000000642, 0.016666600000000642, 0.016666600000000642, 0.016666600000000642, 0.016666600000000642, 0.016666600000000642, 0.016666600000000642, 0.016666600000004195, 0.01666659999999709, 0.016666600000000642, 0.016666600000000642, 0.016666600000000642, 0.016666600000000642, 0.01666659999999709, 0.016666600000004195, 0.016666600000000642, 0.016666600000000642, 0.016666600000000642, 0.016666600000000642, 0.016666600000000642, 0.016666600000000642, 0.016666600000000642, 0.016666600000000642, 0.016666600000000642, 0.016666600000004195, 0.016666600000000642, 0.01666659999999709, 0.016666600000000642, 0.016666600000004195, 0.016666600000000642, 0.016666600000000642, 0.016666600000000642, 0.016666600000000642, 0.01666659999999709, 0.016666600000000642, 0.016666600000000642, 0.016666600000000642, 0.016666600000000642, 0.01666659999999709, 0.016666600000004195, 0.016666600000000642, 0.016666600000000642, 0.016666600000000642, 0.016666600000000642, 0.016666600000004195, 0.01666659999999709, 0.016666600000000642, 0.016666600000000642, 0.016666600000000642, 0.016666600000000642, 0.016666600000000642, 0.016666600000000642, 0.016666600000000642, 0.016666600000000642, 0.01666659999999709, 0.016666600000004195, 0.016666600000000642, 0.01666659999999709, 0.016666600000000642, 0.016666600000000642, 0.016666600000004195, 0.016666600000000642, 0.016666600000000642, 0.01666659999999709, 0.016666600000004195, 0.016666600000000642, 0.016666600000000642, 0.016666600000000642, 0.016666600000000642, 0.016666600000004195, 0.01666659999999709, 0.016666600000000642, 0.016666600000000642, 0.016666600000000642, 0.016666600000000642, 0.016666600000000642, 0.01666659999999709, 0.016666600000004195, 0.016666600000000642, 0.016666600000000642, 0.016666600000000642, 0.016666600000000642, 0.016666600000000642, 0.016666600000000642, 0.016666600000000642]\n",
            "this is the hr_bpm : 3600014.400057511\n",
            "this is the hr_list : [3600014.400057511]\n"
          ]
        },
        {
          "output_type": "display_data",
          "data": {
            "image/png": "[encoded data removed]",
            "text/plain": [
              "<Figure size 432x288 with 1 Axes>"
            ]
          },
          "metadata": {
            "needs_background": "light"
          }
        },
        {
          "output_type": "stream",
          "name": "stderr",
          "text": [
            "100%|██████████| 5/5 [00:06<00:00,  1.23s/it]"
          ]
        },
        {
          "output_type": "stream",
          "name": "stdout",
          "text": [
            "!!!!!!!!!!!!!!!!!!!!!!!!\n",
            "eheee\n"
          ]
        },
        {
          "output_type": "stream",
          "name": "stderr",
          "text": [
            "\n"
          ]
        }
      ]
    },
    {
      "cell_type": "code",
      "source": [
        "!pip install heartpy\n",
        "import glob\n",
        "import numpy as np\n",
        "import pandas as pd\n",
        "from scipy import signal\n",
        "import heartpy as hp\n",
        "from tqdm import tqdm\n",
        "import matplotlib.pyplot as plt\n",
        "\n",
        "\n",
        "# To be used for DEAP dataset where the PPG signal is data[38]\n",
        "def get_ppg_channel(x):\n",
        "    # i think PPG channel is at 38\n",
        "    return x[38]\n",
        "\n",
        "\n",
        "# Reads the clip-wise HR data that was computed and stored in the csv files (per video)\n",
        "def get_hr_data(file_name):\n",
        "    hr_df = pd.read_csv(config.HR_DATA_PATH + f\"{file_name}.csv\")    # !!!!!!!!!!!!!!!!!!!!!!!!!!!!!!!!!!!!!!!!!!!!!!!!!!!!!!\n",
        "\n",
        "    return hr_df[\"hr_bpm\"].values\n",
        "\n",
        "\n",
        "# Read the raw signal from the ground truth csv and resample.\n",
        "# Not be needed during the model as we will compute the HRs first-hand and use them directly instead of raw signals\n",
        "def read_target_data(target_data_path, video_file_name):\n",
        "    signal_data_file_path = os.path.join(target_data_path, f\"{video_file_name} PPG.csv\")\n",
        "    signal_df = pd.read_csv(signal_data_file_path)\n",
        "\n",
        "    return signal_df[\"Signal\"].values, signal_df[\"Time\"].values\n",
        "    # In RhythmNet maybe we don't need to resample. CHECK\n",
        "    # return filter_and_resample_truth_signal(signal_df, resampling_size=3000)\n",
        "\n",
        "\n",
        "# Function allows filtering and resampling of signals. Not being used for VIPL-HR\n",
        "def filter_and_resample_truth_signal(signal_df, resampling_size):\n",
        "    # Signal should be bandpass filtered to remove noise outside of expected HR frequency range.\n",
        "    # But we are using CLEANER_PPG signals which are considered filtered.\n",
        "    orignal_sample_rate = hp.get_samplerate_mstimer(signal_df[\"Time\"].values)\n",
        "\n",
        "    # filtered = hp.filter_signal(signal_df[\"Signal\"].values, [0.7, 2.5], sample_rate=sample_rate,\n",
        "    #                             order=3, filtertype='bandpass')\n",
        "    resampled_signal = signal.resample(signal_df[\"Signal\"].values, resampling_size, t=signal_df[\"Time\"].values)\n",
        "\n",
        "    # we'll need to add resampled[1]\n",
        "    return resampled_signal[0], resampled_signal[1]\n",
        "\n",
        "\n",
        "# Returns index of value that is nearest to the arg:value in the arg:array\n",
        "def find_nearest(array, value):\n",
        "    array = np.asarray(array)\n",
        "    idx = (np.abs(array - value)).argmin()\n",
        "    return idx\n",
        "\n",
        "\n",
        "# Controller Function to compute and store the HR values as csv (HR values measured clip-wise i.e. per st_map per video)\n",
        "def compute_hr_for_rhythmnet():\n",
        "    data_files = glob.glob(config.TARGET_SIGNAL_DIR + \"*.csv\")\n",
        "    # for file in tqdm(data_files):\n",
        "    for file in tqdm(data_files[:1]):\n",
        "        file = '/Users/anweshcr7/Downloads/CleanerPPG/VIPL-HR/Cleaned/p41_v7_source2.csv'\n",
        "        signal_df = pd.read_csv(file)\n",
        "        signal_data, timestamps, peak_data = signal_df[\"Signal\"].values, signal_df[\"Time\"].values, signal_df[\"Peaks\"].values\n",
        "        video_path = config.FACE_DATA_DIR + f\"{file.split('/')[-1].split('.')[0]}.avi\"\n",
        "        video_meta_data = get_frames_and_video_meta_data(video_path, meta_data_only=True)\n",
        "        # hr_segmentwise = hp.process_segmentwise(signal_df[\"Signal\"].values, sample_rate=128, segment_width=10, segment_overlap=0.951)\n",
        "        # hr_segmentwise = hr_segmentwise[1][\"bpm\"]\n",
        "        # plt.plot(np.arange(len(hr_segmentwise)), hr_segmentwise)\n",
        "        # plt.show()\n",
        "        npy_path = f\"{config.ST_MAPS_PATH}{file.split('/')[-1].split('.')[0]}.npy\"\n",
        "        if os.path.exists(npy_path):\n",
        "            video_meta_data[\"num_maps\"] = np.load(f\"{config.ST_MAPS_PATH}{file.split('/')[-1].split('.')[0]}.npy\").shape[0]\n",
        "        else:\n",
        "            continue\n",
        "        hr = np.asarray(calculate_hr_clip_wise(timestamps, signal_df, video_meta_data), dtype=\"float32\")\n",
        "        file_name = file.split(\"/\")[-1].split(\".\")[0].split(\" \")[0]\n",
        "        hr_df = pd.DataFrame(hr, columns=[\"hr_bpm\"])\n",
        "        hr_df.to_csv(f\"../data/hr_csv/{file_name}.csv\", index=False)\n",
        "        # print(\"eheee\")\n",
        "\n",
        "\n",
        "# Function to compute and store the HR values as csv (HR values measured clip-wise i.e. per st_map per video)\n",
        "def calculate_hr_clip_wise(timestamps=None, signal_df=None, video_meta_data=None):\n",
        "\n",
        "    sliding_window_stride = int((video_meta_data[\"sliding_window_stride\"]/video_meta_data[\"frame_rate\"])*1000)\n",
        "    sliding_window_size_frame = int((config.CLIP_SIZE/video_meta_data[\"frame_rate\"]))\n",
        "    # convert to milliseconds\n",
        "    sliding_window_size = sliding_window_size_frame * 1000\n",
        "    # num_maps = int((video_meta_data[\"num_frames\"] - config.CLIP_SIZE)/sliding_window_size_frame) + 1\n",
        "    num_maps = video_meta_data[\"num_maps\"]\n",
        "    # for i in range(len(timestamps)):\n",
        "    #     print(timestamps[i+1]-timestamps[i])\n",
        "    count = 0\n",
        "    hr_list = []\n",
        "    for start_time in range(0, int(timestamps[-1]), sliding_window_stride):\n",
        "        if count == num_maps:\n",
        "            break\n",
        "        # start_index = np.where(timestamps == start_time)\n",
        "        end_time = start_time + sliding_window_size\n",
        "        # end_index = np.where(timestamps == end_time)\n",
        "        start_index = np.searchsorted(timestamps, start_time, side='left')\n",
        "        end_index = np.searchsorted(timestamps, end_time, side='left')\n",
        "\n",
        "        # start_index = start_index[0][0]\n",
        "        if end_index == 0:\n",
        "            end_index = len(timestamps) - 1\n",
        "            # break\n",
        "\n",
        "        curr_data = signal_df.iloc[start_index:end_index]\n",
        "        time_intervals = curr_data[curr_data[\"Peaks\"] == 1][\"Time\"].values\n",
        "        ibi_array = [time_intervals[idx + 1] - time_intervals[idx] for idx, time_val in enumerate(time_intervals[:-1])]\n",
        "        if len(ibi_array) == 0:\n",
        "            hr_bpm = hr_list[-1]\n",
        "        else:\n",
        "            hr_bpm = 1000/np.mean(ibi_array)*60\n",
        "        hr_list.append(hr_bpm)\n",
        "\n",
        "        count += 1\n",
        "\n",
        "\n",
        "    # plt.plot(np.arange(len(hr_list)), hr_list)\n",
        "    # plt.show()\n",
        "    return hr_list\n",
        "\n",
        "\n",
        "# Function to compute HR from raw signal.\n",
        "def calculate_hr(signal_data, timestamps=None):\n",
        "    sampling_rate = 47.63\n",
        "    if timestamps is not None:\n",
        "        sampling_rate = hp.get_samplerate_mstimer(timestamps)\n",
        "        try:\n",
        "            wd, m = hp.process(signal_data, sample_rate=sampling_rate)\n",
        "            hr_bpm = m[\"bpm\"]\n",
        "        except:\n",
        "            hr_bpm = 75.0\n",
        "\n",
        "        if np.isnan(hr_bpm):\n",
        "            hr_bpm = 75.0\n",
        "        return hr_bpm\n",
        "\n",
        "    else:\n",
        "        # We are working with predicted HR:\n",
        "        # need to filter and do other stuff.. lets see\n",
        "        signal_data = hp.filter_signal(signal_data, cutoff=[0.7, 2.5], sample_rate=sampling_rate, order=6,\n",
        "                                       filtertype='bandpass')\n",
        "        try:\n",
        "            wd, m = hp.process(signal_data, sample_rate=sampling_rate, high_precision=True, clean_rr=True)\n",
        "            hr_bpm = m[\"bpm\"]\n",
        "        except:\n",
        "            print(\"BadSignal received (could not be filtered) using def HR value = 75bpm\")\n",
        "            hr_bpm = 75.0\n",
        "        return hr_bpm\n",
        "\n",
        "\n",
        "if __name__ == '__main__':\n",
        "    compute_hr_for_rhythmnet()\n",
        "\n",
        "    files = glob.glob(config.HR_DATA_PATH+\"/*.csv\")\n",
        "    for file in files:\n",
        "        hr = get_hr_data(file.split('/')[-1].split('.')[0])\n",
        "        if type(hr) == np.object_:\n",
        "            print(file)\n",
        "        try:\n",
        "            torch.tensor(hr, dtype=torch.float)\n",
        "        except:\n",
        "            print(file)"
      ],
      "metadata": {
        "colab": {
          "base_uri": "https://localhost:8080/",
          "height": 603
        },
        "id": "mLB3BMrl_u4u",
        "outputId": "0d86ea98-92fb-449f-c3c6-b4b8de00f441"
      },
      "execution_count": null,
      "outputs": [
        {
          "output_type": "stream",
          "name": "stdout",
          "text": [
            "Collecting heartpy\n",
            "  Downloading heartpy-1.2.7-py3-none-any.whl (1.0 MB)\n",
            "\u001b[K     |████████████████████████████████| 1.0 MB 5.4 MB/s \n",
            "\u001b[?25hRequirement already satisfied: numpy>=1.17 in /usr/local/lib/python3.7/dist-packages (from heartpy) (1.19.5)\n",
            "Requirement already satisfied: matplotlib<=3.3.4 in /usr/local/lib/python3.7/dist-packages (from heartpy) (3.2.2)\n",
            "Requirement already satisfied: scipy in /usr/local/lib/python3.7/dist-packages (from heartpy) (1.4.1)\n",
            "Requirement already satisfied: cycler>=0.10 in /usr/local/lib/python3.7/dist-packages (from matplotlib<=3.3.4->heartpy) (0.11.0)\n",
            "Requirement already satisfied: pyparsing!=2.0.4,!=2.1.2,!=2.1.6,>=2.0.1 in /usr/local/lib/python3.7/dist-packages (from matplotlib<=3.3.4->heartpy) (3.0.7)\n",
            "Requirement already satisfied: python-dateutil>=2.1 in /usr/local/lib/python3.7/dist-packages (from matplotlib<=3.3.4->heartpy) (2.8.2)\n",
            "Requirement already satisfied: kiwisolver>=1.0.1 in /usr/local/lib/python3.7/dist-packages (from matplotlib<=3.3.4->heartpy) (1.3.2)\n",
            "Requirement already satisfied: six>=1.5 in /usr/local/lib/python3.7/dist-packages (from python-dateutil>=2.1->matplotlib<=3.3.4->heartpy) (1.15.0)\n",
            "Installing collected packages: heartpy\n",
            "Successfully installed heartpy-1.2.7\n"
          ]
        },
        {
          "output_type": "error",
          "ename": "NameError",
          "evalue": "ignored",
          "traceback": [
            "\u001b[0;31m---------------------------------------------------------------------------\u001b[0m",
            "\u001b[0;31mNameError\u001b[0m                                 Traceback (most recent call last)",
            "\u001b[0;32m<ipython-input-4-011288339d81>\u001b[0m in \u001b[0;36m<module>\u001b[0;34m()\u001b[0m\n\u001b[1;32m    154\u001b[0m \u001b[0;34m\u001b[0m\u001b[0m\n\u001b[1;32m    155\u001b[0m \u001b[0;32mif\u001b[0m \u001b[0m__name__\u001b[0m \u001b[0;34m==\u001b[0m \u001b[0;34m'__main__'\u001b[0m\u001b[0;34m:\u001b[0m\u001b[0;34m\u001b[0m\u001b[0;34m\u001b[0m\u001b[0m\n\u001b[0;32m--> 156\u001b[0;31m     \u001b[0mcompute_hr_for_rhythmnet\u001b[0m\u001b[0;34m(\u001b[0m\u001b[0;34m)\u001b[0m\u001b[0;34m\u001b[0m\u001b[0;34m\u001b[0m\u001b[0m\n\u001b[0m\u001b[1;32m    157\u001b[0m \u001b[0;34m\u001b[0m\u001b[0m\n\u001b[1;32m    158\u001b[0m     \u001b[0mfiles\u001b[0m \u001b[0;34m=\u001b[0m \u001b[0mglob\u001b[0m\u001b[0;34m.\u001b[0m\u001b[0mglob\u001b[0m\u001b[0;34m(\u001b[0m\u001b[0mconfig\u001b[0m\u001b[0;34m.\u001b[0m\u001b[0mHR_DATA_PATH\u001b[0m\u001b[0;34m+\u001b[0m\u001b[0;34m\"/*.csv\"\u001b[0m\u001b[0;34m)\u001b[0m\u001b[0;34m\u001b[0m\u001b[0;34m\u001b[0m\u001b[0m\n",
            "\u001b[0;32m<ipython-input-4-011288339d81>\u001b[0m in \u001b[0;36mcompute_hr_for_rhythmnet\u001b[0;34m()\u001b[0m\n\u001b[1;32m     56\u001b[0m \u001b[0;31m# Controller Function to compute and store the HR values as csv (HR values measured clip-wise i.e. per st_map per video)\u001b[0m\u001b[0;34m\u001b[0m\u001b[0;34m\u001b[0m\u001b[0;34m\u001b[0m\u001b[0m\n\u001b[1;32m     57\u001b[0m \u001b[0;32mdef\u001b[0m \u001b[0mcompute_hr_for_rhythmnet\u001b[0m\u001b[0;34m(\u001b[0m\u001b[0;34m)\u001b[0m\u001b[0;34m:\u001b[0m\u001b[0;34m\u001b[0m\u001b[0;34m\u001b[0m\u001b[0m\n\u001b[0;32m---> 58\u001b[0;31m     \u001b[0mdata_files\u001b[0m \u001b[0;34m=\u001b[0m \u001b[0mglob\u001b[0m\u001b[0;34m.\u001b[0m\u001b[0mglob\u001b[0m\u001b[0;34m(\u001b[0m\u001b[0mconfig\u001b[0m\u001b[0;34m.\u001b[0m\u001b[0mTARGET_SIGNAL_DIR\u001b[0m \u001b[0;34m+\u001b[0m \u001b[0;34m\"*.csv\"\u001b[0m\u001b[0;34m)\u001b[0m\u001b[0;34m\u001b[0m\u001b[0;34m\u001b[0m\u001b[0m\n\u001b[0m\u001b[1;32m     59\u001b[0m     \u001b[0;31m# for file in tqdm(data_files):\u001b[0m\u001b[0;34m\u001b[0m\u001b[0;34m\u001b[0m\u001b[0;34m\u001b[0m\u001b[0m\n\u001b[1;32m     60\u001b[0m     \u001b[0;32mfor\u001b[0m \u001b[0mfile\u001b[0m \u001b[0;32min\u001b[0m \u001b[0mtqdm\u001b[0m\u001b[0;34m(\u001b[0m\u001b[0mdata_files\u001b[0m\u001b[0;34m[\u001b[0m\u001b[0;34m:\u001b[0m\u001b[0;36m1\u001b[0m\u001b[0;34m]\u001b[0m\u001b[0;34m)\u001b[0m\u001b[0;34m:\u001b[0m\u001b[0;34m\u001b[0m\u001b[0;34m\u001b[0m\u001b[0m\n",
            "\u001b[0;31mNameError\u001b[0m: name 'config' is not defined"
          ]
        }
      ]
    },
    {
      "cell_type": "code",
      "source": [
        "\n",
        "frames, frameRate, sliding_window_stride = get_frames_and_video_meta_data(\"/content/drive/MyDrive/Finalproject/face_videos/490.avi\")\n",
        "\n",
        "# num_frames = frames.shape[0]\n",
        "# output_shape = (frames.shape[1], frames.shape[2])\n",
        "# num_maps = int((num_frames - 300)/sliding_window_stride + 1)"
      ],
      "metadata": {
        "id": "IXoxRm76cIfy",
        "colab": {
          "base_uri": "https://localhost:8080/"
        },
        "outputId": "172809f8-644d-4b64-b23a-42061f8eaf1f"
      },
      "execution_count": null,
      "outputs": [
        {
          "output_type": "stream",
          "name": "stdout",
          "text": [
            "461721600\n"
          ]
        }
      ]
    },
    {
      "cell_type": "code",
      "source": [
        "print(frames.shape)"
      ],
      "metadata": {
        "id": "oUbZVlpcKS96",
        "outputId": "9cc015a1-b0ab-4d80-d288-342e66bcda46",
        "colab": {
          "base_uri": "https://localhost:8080/"
        }
      },
      "execution_count": null,
      "outputs": [
        {
          "output_type": "stream",
          "name": "stdout",
          "text": [
            "(501, 480, 640, 3)\n"
          ]
        }
      ]
    },
    {
      "cell_type": "code",
      "source": [
        "import glob\n",
        "# maps = preprocess_video_to_st_maps(\n",
        "#         video_path=\"/content/drive/MyDrive/Finalproject/DATA/490.avi\",\n",
        "#         output_shape=(180, 180), clip_size=300)\n",
        "\n",
        "data_files = glob.glob( \"/content/drive/MyDrive/Finalproject/DATA/\" +\"*.avi\")\n"
      ],
      "metadata": {
        "id": "C7oEnfPhjfYB"
      },
      "execution_count": null,
      "outputs": []
    },
    {
      "cell_type": "code",
      "source": [
        "from pandas.io.parsers.readers import read_csv\n",
        "data1 = read_csv(\"/content/sample_data/california_housing_train.csv\")\n",
        "print(data1)\n",
        "hr_df = pd.DataFrame(sample_time, columns=[\"sample_time4\"])\n",
        "print(hr_df)\n",
        "res = pd.concat([data1, hr_df] , axis=1)\n",
        "print(res)\n",
        "\n",
        "# hr_df.to_csv(\"/content/sample_data/california_housing_test.csv\", sep = ',')\n",
        "# print(data1)\n"
      ],
      "metadata": {
        "colab": {
          "base_uri": "https://localhost:8080/"
        },
        "id": "VByy2vFkB9jh",
        "outputId": "7c0a8711-d0fd-4581-f6e1-7bea0bcdb57c"
      },
      "execution_count": null,
      "outputs": [
        {
          "output_type": "stream",
          "name": "stdout",
          "text": [
            "       longitude  latitude  ...  median_income  median_house_value\n",
            "0        -114.31     34.19  ...         1.4936             66900.0\n",
            "1        -114.47     34.40  ...         1.8200             80100.0\n",
            "2        -114.56     33.69  ...         1.6509             85700.0\n",
            "3        -114.57     33.64  ...         3.1917             73400.0\n",
            "4        -114.57     33.57  ...         1.9250             65500.0\n",
            "...          ...       ...  ...            ...                 ...\n",
            "16995    -124.26     40.58  ...         2.3571            111400.0\n",
            "16996    -124.27     40.69  ...         2.5179             79000.0\n",
            "16997    -124.30     41.84  ...         3.0313            103600.0\n",
            "16998    -124.30     41.80  ...         1.9797             85800.0\n",
            "16999    -124.35     40.54  ...         3.0147             94600.0\n",
            "\n",
            "[17000 rows x 9 columns]\n",
            "      sample_time4\n",
            "0         0.016667\n",
            "1         0.033333\n",
            "2         0.050000\n",
            "3         0.066666\n",
            "4         0.083333\n",
            "...            ...\n",
            "1515     25.266566\n",
            "1516     25.283232\n",
            "1517     25.299899\n",
            "1518     25.316565\n",
            "1519     25.333232\n",
            "\n",
            "[1520 rows x 1 columns]\n",
            "       longitude  latitude  ...  median_house_value  sample_time4\n",
            "0        -114.31     34.19  ...             66900.0      0.016667\n",
            "1        -114.47     34.40  ...             80100.0      0.033333\n",
            "2        -114.56     33.69  ...             85700.0      0.050000\n",
            "3        -114.57     33.64  ...             73400.0      0.066666\n",
            "4        -114.57     33.57  ...             65500.0      0.083333\n",
            "...          ...       ...  ...                 ...           ...\n",
            "16995    -124.26     40.58  ...            111400.0           NaN\n",
            "16996    -124.27     40.69  ...             79000.0           NaN\n",
            "16997    -124.30     41.84  ...            103600.0           NaN\n",
            "16998    -124.30     41.80  ...             85800.0           NaN\n",
            "16999    -124.35     40.54  ...             94600.0           NaN\n",
            "\n",
            "[17000 rows x 10 columns]\n"
          ]
        }
      ]
    },
    {
      "cell_type": "code",
      "source": [
        "print(len(sample_time))"
      ],
      "metadata": {
        "colab": {
          "base_uri": "https://localhost:8080/"
        },
        "id": "JQCpqT1KIaI5",
        "outputId": "0e6ec6ec-313f-41b7-c6f5-02c4a11b0832"
      },
      "execution_count": null,
      "outputs": [
        {
          "output_type": "stream",
          "name": "stdout",
          "text": [
            "1520\n"
          ]
        }
      ]
    }
  ]
}